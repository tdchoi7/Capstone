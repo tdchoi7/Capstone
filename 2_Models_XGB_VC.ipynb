{
 "cells": [
  {
   "cell_type": "code",
   "execution_count": 1,
   "metadata": {},
   "outputs": [
    {
     "name": "stdout",
     "output_type": "stream",
     "text": [
      "importing Jupyter notebook from My_Functions.ipynb\n"
     ]
    }
   ],
   "source": [
    "import numpy as np\n",
    "import pandas as pd\n",
    "pd.set_option('display.max_columns', None)\n",
    "\n",
    "from matplotlib import pyplot as plt\n",
    "\n",
    "from sklearn import model_selection as ms\n",
    "from sklearn.linear_model import LogisticRegression\n",
    "from sklearn import metrics\n",
    "from sklearn.metrics import confusion_matrix\n",
    "from sklearn.ensemble import GradientBoostingClassifier\n",
    "\n",
    "import xgboost as xgb\n",
    "\n",
    "import gzip\n",
    "\n",
    "import import_ipynb\n",
    "from My_Functions import null_cols, rmse"
   ]
  },
  {
   "cell_type": "code",
   "execution_count": 2,
   "metadata": {},
   "outputs": [],
   "source": [
    "acc_VC_rf = pd.read_csv(\"acc_VC_rf.csv.gz\",\n",
    "                        compression='gzip',\n",
    "                        header=0,\n",
    "                        sep=',',\n",
    "                        quotechar='\"')\n",
    "\n",
    "acc_VC_gb = pd.read_csv(\"acc_VC_gb.csv.gz\",\n",
    "                        compression='gzip',\n",
    "                        header=0,\n",
    "                        sep=',',\n",
    "                        quotechar='\"')\n",
    "\n",
    "target_2_train = pd.read_csv(\"target_2_train_feateng_dwnsmpl.csv.gz\",\n",
    "                                         compression='gzip',\n",
    "                                         header=0,\n",
    "                                         sep=',',\n",
    "                                         quotechar='\"')"
   ]
  },
  {
   "cell_type": "code",
   "execution_count": 3,
   "metadata": {},
   "outputs": [],
   "source": [
    "state=0\n",
    "\n",
    "xtrain_rf, xtest_rf, ytrain_rf, ytest_rf = ms.train_test_split(acc_VC_rf,\n",
    "                                                               target_2_train,\n",
    "                                                               test_size=0.2,\n",
    "                                                               random_state=state)\n",
    "\n",
    "# Must flatten to fit\n",
    "ytrain_rf = ytrain_rf.values.flatten()\n",
    "\n",
    "\n",
    "# using standard kfold split\n",
    "n_folds = ms.KFold(n_splits=5, random_state=state, shuffle=True)"
   ]
  },
  {
   "cell_type": "code",
   "execution_count": 4,
   "metadata": {},
   "outputs": [],
   "source": [
    "xtrain_gb, xtest_gb, ytrain_gb, ytest_gb = ms.train_test_split(acc_VC_gb,\n",
    "                                                               target_2_train,\n",
    "                                                               test_size=0.2,\n",
    "                                                               random_state=state)\n",
    "\n",
    "# Must flatten to fit\n",
    "ytrain_gb = ytrain_gb.values.flatten()"
   ]
  },
  {
   "cell_type": "markdown",
   "metadata": {},
   "source": [
    "## Random Forest Reduced Dataset"
   ]
  },
  {
   "cell_type": "code",
   "execution_count": 5,
   "metadata": {
    "scrolled": true
   },
   "outputs": [
    {
     "name": "stdout",
     "output_type": "stream",
     "text": [
      "Wall time: 7.96 s\n",
      "\n",
      "\n",
      "confusion matrix for train set\n",
      "[[72083 35627]\n",
      " [31484 76294]]\n",
      "\n",
      "\n",
      "confusion matrix for test set\n",
      "[[16977  9993]\n",
      " [ 8820 18082]]\n"
     ]
    },
    {
     "data": {
      "text/html": [
       "<div>\n",
       "<style scoped>\n",
       "    .dataframe tbody tr th:only-of-type {\n",
       "        vertical-align: middle;\n",
       "    }\n",
       "\n",
       "    .dataframe tbody tr th {\n",
       "        vertical-align: top;\n",
       "    }\n",
       "\n",
       "    .dataframe thead th {\n",
       "        text-align: right;\n",
       "    }\n",
       "</style>\n",
       "<table border=\"1\" class=\"dataframe\">\n",
       "  <thead>\n",
       "    <tr style=\"text-align: right;\">\n",
       "      <th></th>\n",
       "      <th>TrainScores</th>\n",
       "      <th>TestScores</th>\n",
       "      <th>TrainRMSE</th>\n",
       "      <th>TestRMSE</th>\n",
       "      <th>DiffRMSE</th>\n",
       "      <th>booster</th>\n",
       "      <th>eval_metric</th>\n",
       "      <th>n_jobs</th>\n",
       "      <th>objective</th>\n",
       "      <th>predictor</th>\n",
       "      <th>random_state</th>\n",
       "      <th>tree_method</th>\n",
       "      <th>use_label_encoder</th>\n",
       "    </tr>\n",
       "  </thead>\n",
       "  <tbody>\n",
       "    <tr>\n",
       "      <th>0</th>\n",
       "      <td>0.688563</td>\n",
       "      <td>0.650783</td>\n",
       "      <td>0.558066</td>\n",
       "      <td>0.590946</td>\n",
       "      <td>-0.03288</td>\n",
       "      <td>gbtree</td>\n",
       "      <td>auc</td>\n",
       "      <td>-1</td>\n",
       "      <td>binary:logistic</td>\n",
       "      <td>gpu_predictor</td>\n",
       "      <td>0</td>\n",
       "      <td>gpu_hist</td>\n",
       "      <td>False</td>\n",
       "    </tr>\n",
       "  </tbody>\n",
       "</table>\n",
       "</div>"
      ],
      "text/plain": [
       "   TrainScores  TestScores  TrainRMSE  TestRMSE  DiffRMSE booster eval_metric  \\\n",
       "0     0.688563    0.650783   0.558066  0.590946  -0.03288  gbtree         auc   \n",
       "\n",
       "   n_jobs        objective      predictor  random_state tree_method  \\\n",
       "0      -1  binary:logistic  gpu_predictor             0    gpu_hist   \n",
       "\n",
       "   use_label_encoder  \n",
       "0              False  "
      ]
     },
     "execution_count": 5,
     "metadata": {},
     "output_type": "execute_result"
    }
   ],
   "source": [
    "xgb_clsfr_rf = xgb.XGBClassifier()\n",
    "\n",
    "train_scores = []\n",
    "test_scores = []\n",
    "train_rmse = []\n",
    "test_rmse = []\n",
    "best_par_list = []\n",
    "\n",
    "objective_ = ['binary:logistic']\n",
    "evalmetric = ['auc']\n",
    "uselabelencoder = [False]\n",
    "treemethod = ['gpu_hist']\n",
    "predictor_ = ['gpu_predictor']\n",
    "njobs = [-1]\n",
    "randomstate = [state]\n",
    "booster_ = ['gbtree']\n",
    "\n",
    "# nestimators = [100]\n",
    "# minchildweight = [1, 5]\n",
    "# maxdepth = [1, 3]\n",
    "# learningrate = [0.1, 1]\n",
    "# gamma_ = [0.5, 2]\n",
    "# subsample_ = [0.8, 1]\n",
    "# colsamplebytree = [0.8, 1]\n",
    "\n",
    "\n",
    "gparam_xgb_rf = {'objective': objective_,\n",
    "                 'eval_metric': evalmetric,\n",
    "                 'use_label_encoder': uselabelencoder,\n",
    "                 'tree_method': treemethod,\n",
    "                 'predictor': predictor_,\n",
    "                 'n_jobs': njobs,\n",
    "                 'booster': booster_,\n",
    "#               'n_estimators': nestimators,\n",
    "#               'min_child_weight': minchildweight,\n",
    "#               'max_depth': maxdepth,\n",
    "#               'learning_rate': learningrate,\n",
    "#               'gamma': gamma_,\n",
    "#               'subsample': subsample_,\n",
    "#               'colsample_bytree': colsamplebytree,\n",
    "                 'random_state': randomstate}\n",
    "\n",
    "\n",
    "gs_xgb_rf = ms.GridSearchCV(xgb_clsfr_rf, gparam_xgb_rf, cv=n_folds, refit=True, n_jobs=-1,\n",
    "                          scoring='roc_auc', return_train_score=True)\n",
    "\n",
    "%time gs_xgb_rf.fit(xtrain_rf, ytrain_rf)\n",
    "\n",
    "# setting up dataframe for results\n",
    "train_scores.append(gs_xgb_rf.best_estimator_.score(xtrain_rf, ytrain_rf))\n",
    "test_scores.append(gs_xgb_rf.best_estimator_.score(xtest_rf, ytest_rf))\n",
    "\n",
    "\n",
    "# use rmse function from Self_Written_Functions_Sheet_Recover\n",
    "train_rmse.append(rmse(gs_xgb_rf, ytrain_rf, xtrain_rf))\n",
    "test_rmse.append(rmse(gs_xgb_rf, ytest_rf, xtest_rf))\n",
    "\n",
    "# add the best parameters to the df\n",
    "best_par_list.append(gs_xgb_rf.best_params_)\n",
    "\n",
    "# find the difference btwn the rmses\n",
    "diff_rmse = np.subtract(train_rmse, test_rmse)\n",
    "\n",
    "# create dataframe\n",
    "list_results = [train_scores, test_scores, train_rmse, test_rmse, diff_rmse]\n",
    "res_df = pd.DataFrame(list_results).T\n",
    "res_df.columns = ['TrainScores', 'TestScores', 'TrainRMSE', 'TestRMSE', 'DiffRMSE']\n",
    "best_par_df = pd.DataFrame(best_par_list)\n",
    "res_df = pd.concat([res_df, best_par_df], axis=1, sort=False)\n",
    "\n",
    "# confusion matrix for train set\n",
    "print('\\n')\n",
    "print('confusion matrix for train set')\n",
    "print(confusion_matrix(ytrain_rf, gs_xgb_rf.predict(xtrain_rf)))\n",
    "\n",
    "# confusion matrix for test set\n",
    "print('\\n')\n",
    "print('confusion matrix for test set')\n",
    "print(confusion_matrix(ytest_rf, gs_xgb_rf.predict(xtest_rf)))\n",
    "\n",
    "res_df"
   ]
  },
  {
   "cell_type": "code",
   "execution_count": 6,
   "metadata": {
    "scrolled": true
   },
   "outputs": [
    {
     "data": {
      "text/plain": [
       "[('grouped_subgrade_12_345', 0.7512546),\n",
       " ('ratio_inc_funded', 0.0321746),\n",
       " ('int_rate', 0.02940821),\n",
       " ('avg_cur_bal', 0.024622481),\n",
       " ('emp_length', 0.024314782),\n",
       " ('loan_amnt', 0.02352732),\n",
       " ('installment', 0.020552795),\n",
       " ('dti', 0.020143352),\n",
       " ('annual_inc', 0.015707407),\n",
       " ('revol_bal', 0.015567939),\n",
       " ('duration_of_credit_months', 0.0144804595),\n",
       " ('open_acc', 0.014210215),\n",
       " ('ratio_redinc_loan', 0.014035801)]"
      ]
     },
     "execution_count": 6,
     "metadata": {},
     "output_type": "execute_result"
    }
   ],
   "source": [
    "sorted_importance_rf = sorted(zip(xtrain_rf.columns,\n",
    "                               gs_xgb_rf.best_estimator_.feature_importances_),\n",
    "                           key=lambda t:t[1], reverse=True)\n",
    "sorted_importance_rf"
   ]
  },
  {
   "cell_type": "code",
   "execution_count": 7,
   "metadata": {},
   "outputs": [
    {
     "name": "stdout",
     "output_type": "stream",
     "text": [
      "Average precision-recall score for random forest: 0.60\n"
     ]
    }
   ],
   "source": [
    "from sklearn.metrics import average_precision_score\n",
    "average_precision = average_precision_score(ytest_rf, gs_xgb_rf.predict(xtest_rf))\n",
    "\n",
    "print('Average precision-recall score for random forest: {0:0.2f}'.format(\n",
    "      average_precision))"
   ]
  },
  {
   "cell_type": "code",
   "execution_count": 8,
   "metadata": {},
   "outputs": [
    {
     "data": {
      "text/plain": [
       "Text(0.5, 1.0, '2-class Precision-Recall curve for random forest: AP=0.60')"
      ]
     },
     "execution_count": 8,
     "metadata": {},
     "output_type": "execute_result"
    },
    {
     "data": {
      "image/png": "[encoded data removed]",
      "text/plain": [
       "<Figure size 432x288 with 1 Axes>"
      ]
     },
     "metadata": {
      "needs_background": "light"
     },
     "output_type": "display_data"
    }
   ],
   "source": [
    "# Precision-Recall curve\n",
    "# https://scikit-learn.org/stable/auto_examples/model_selection/plot_precision_recall.html\n",
    "\n",
    "from sklearn.metrics import precision_recall_curve\n",
    "from sklearn.metrics import plot_precision_recall_curve\n",
    "\n",
    "disp = plot_precision_recall_curve(gs_xgb_rf, xtest_rf, ytest_rf)\n",
    "disp.ax_.set_title('2-class Precision-Recall curve for random forest: '\n",
    "                   'AP={0:0.2f}'.format(average_precision))"
   ]
  },
  {
   "cell_type": "code",
   "execution_count": 9,
   "metadata": {},
   "outputs": [
    {
     "name": "stdout",
     "output_type": "stream",
     "text": [
      "Random forest performance\n",
      "----------------------------------------------------------------------\n",
      "F1 score: 0.66\n",
      "recall score: 0.67\n",
      "precision score: 0.64\n"
     ]
    }
   ],
   "source": [
    "# F1 score \n",
    "# F1 = 2 * (precision * recall) / (precision + recall)\n",
    "\n",
    "f1_score = metrics.f1_score(ytest_rf, gs_xgb_rf.predict(xtest_rf))\n",
    "recall_score = metrics.recall_score(ytest_rf, gs_xgb_rf.predict(xtest_rf))\n",
    "precision_score = metrics.precision_score(ytest_rf, gs_xgb_rf.predict(xtest_rf))\n",
    "print (\"Random forest performance\")\n",
    "print ('-'*70)\n",
    "print('F1 score: {0:0.2f}'.format(f1_score))\n",
    "print('recall score: {0:0.2f}'.format(recall_score))\n",
    "print('precision score: {0:0.2f}'.format(precision_score))"
   ]
  },
  {
   "cell_type": "code",
   "execution_count": 10,
   "metadata": {},
   "outputs": [
    {
     "name": "stdout",
     "output_type": "stream",
     "text": [
      "Random forest ROC-AUC score\n",
      "----------------------------------------------------------------------\n"
     ]
    },
    {
     "data": {
      "text/plain": [
       "0.6508102659767264"
      ]
     },
     "execution_count": 10,
     "metadata": {},
     "output_type": "execute_result"
    }
   ],
   "source": [
    "# ROC-AUC score\n",
    "# https://scikit-learn.org/stable/modules/generated/sklearn.metrics.roc_auc_score.html#sklearn.metrics.roc_auc_score\n",
    "\n",
    "from sklearn.metrics import roc_auc_score\n",
    "print (\"Random forest ROC-AUC score\")\n",
    "print ('-'*70)\n",
    "roc_auc_score(ytest_rf, gs_xgb_rf.predict(xtest_rf))"
   ]
  },
  {
   "cell_type": "code",
   "execution_count": 11,
   "metadata": {},
   "outputs": [
    {
     "data": {
      "text/plain": [
       "<sklearn.metrics._plot.roc_curve.RocCurveDisplay at 0x1df90093790>"
      ]
     },
     "execution_count": 11,
     "metadata": {},
     "output_type": "execute_result"
    },
    {
     "data": {
      "image/png": "[encoded data removed]",
      "text/plain": [
       "<Figure size 432x288 with 1 Axes>"
      ]
     },
     "metadata": {
      "needs_background": "light"
     },
     "output_type": "display_data"
    }
   ],
   "source": [
    "# Receiver operating characteristic (ROC) curve\n",
    "# https://scikit-learn.org/stable/modules/generated/sklearn.metrics.plot_roc_curve.html#sklearn.metrics.plot_roc_curve\n",
    "\n",
    "from sklearn import metrics\n",
    "metrics.plot_roc_curve(gs_xgb_rf.best_estimator_, xtest_rf, ytest_rf) "
   ]
  },
  {
   "cell_type": "code",
   "execution_count": 12,
   "metadata": {},
   "outputs": [
    {
     "data": {
      "text/plain": [
       "[('grouped_subgrade_12_345', 0.7512546),\n",
       " ('ratio_inc_funded', 0.0321746),\n",
       " ('int_rate', 0.02940821),\n",
       " ('avg_cur_bal', 0.024622481),\n",
       " ('emp_length', 0.024314782),\n",
       " ('loan_amnt', 0.02352732),\n",
       " ('installment', 0.020552795),\n",
       " ('dti', 0.020143352),\n",
       " ('annual_inc', 0.015707407),\n",
       " ('revol_bal', 0.015567939),\n",
       " ('duration_of_credit_months', 0.0144804595),\n",
       " ('open_acc', 0.014210215),\n",
       " ('ratio_redinc_loan', 0.014035801)]"
      ]
     },
     "execution_count": 12,
     "metadata": {},
     "output_type": "execute_result"
    }
   ],
   "source": [
    "filtered_sorted_importance_rf = [x for x in sorted_importance_rf if x[1]>0.003]\n",
    "filtered_sorted_importance_rf"
   ]
  },
  {
   "cell_type": "code",
   "execution_count": 13,
   "metadata": {
    "scrolled": true
   },
   "outputs": [
    {
     "data": {
      "text/plain": [
       "['grouped_subgrade_12_345',\n",
       " 'ratio_inc_funded',\n",
       " 'int_rate',\n",
       " 'avg_cur_bal',\n",
       " 'emp_length',\n",
       " 'loan_amnt',\n",
       " 'installment',\n",
       " 'dti',\n",
       " 'annual_inc',\n",
       " 'revol_bal',\n",
       " 'duration_of_credit_months',\n",
       " 'open_acc',\n",
       " 'ratio_redinc_loan']"
      ]
     },
     "execution_count": 13,
     "metadata": {},
     "output_type": "execute_result"
    }
   ],
   "source": [
    "# get list of column names for easier application in the future\n",
    "filter_important_rf = []\n",
    "for tup in filtered_sorted_importance_rf:\n",
    "    filter_important_rf.append(tup[0])\n",
    "\n",
    "filter_important_rf"
   ]
  },
  {
   "cell_type": "markdown",
   "metadata": {},
   "source": [
    "# Gradient Boosting Reduced Dataset"
   ]
  },
  {
   "cell_type": "code",
   "execution_count": 14,
   "metadata": {},
   "outputs": [
    {
     "name": "stdout",
     "output_type": "stream",
     "text": [
      "Wall time: 7.47 s\n",
      "\n",
      "\n",
      "confusion matrix for train set\n",
      "[[72793 34917]\n",
      " [31934 75844]]\n",
      "\n",
      "\n",
      "confusion matrix for test set\n",
      "[[17308  9662]\n",
      " [ 8885 18017]]\n"
     ]
    },
    {
     "data": {
      "text/html": [
       "<div>\n",
       "<style scoped>\n",
       "    .dataframe tbody tr th:only-of-type {\n",
       "        vertical-align: middle;\n",
       "    }\n",
       "\n",
       "    .dataframe tbody tr th {\n",
       "        vertical-align: top;\n",
       "    }\n",
       "\n",
       "    .dataframe thead th {\n",
       "        text-align: right;\n",
       "    }\n",
       "</style>\n",
       "<table border=\"1\" class=\"dataframe\">\n",
       "  <thead>\n",
       "    <tr style=\"text-align: right;\">\n",
       "      <th></th>\n",
       "      <th>TrainScores</th>\n",
       "      <th>TestScores</th>\n",
       "      <th>TrainRMSE</th>\n",
       "      <th>TestRMSE</th>\n",
       "      <th>DiffRMSE</th>\n",
       "      <th>booster</th>\n",
       "      <th>eval_metric</th>\n",
       "      <th>n_jobs</th>\n",
       "      <th>objective</th>\n",
       "      <th>predictor</th>\n",
       "      <th>random_state</th>\n",
       "      <th>tree_method</th>\n",
       "      <th>use_label_encoder</th>\n",
       "    </tr>\n",
       "  </thead>\n",
       "  <tbody>\n",
       "    <tr>\n",
       "      <th>0</th>\n",
       "      <td>0.689769</td>\n",
       "      <td>0.655721</td>\n",
       "      <td>0.556984</td>\n",
       "      <td>0.586753</td>\n",
       "      <td>-0.029769</td>\n",
       "      <td>gbtree</td>\n",
       "      <td>auc</td>\n",
       "      <td>-1</td>\n",
       "      <td>binary:logistic</td>\n",
       "      <td>gpu_predictor</td>\n",
       "      <td>0</td>\n",
       "      <td>gpu_hist</td>\n",
       "      <td>False</td>\n",
       "    </tr>\n",
       "  </tbody>\n",
       "</table>\n",
       "</div>"
      ],
      "text/plain": [
       "   TrainScores  TestScores  TrainRMSE  TestRMSE  DiffRMSE booster eval_metric  \\\n",
       "0     0.689769    0.655721   0.556984  0.586753 -0.029769  gbtree         auc   \n",
       "\n",
       "   n_jobs        objective      predictor  random_state tree_method  \\\n",
       "0      -1  binary:logistic  gpu_predictor             0    gpu_hist   \n",
       "\n",
       "   use_label_encoder  \n",
       "0              False  "
      ]
     },
     "execution_count": 14,
     "metadata": {},
     "output_type": "execute_result"
    }
   ],
   "source": [
    "xgb_clsfr_gb = xgb.XGBClassifier()\n",
    "\n",
    "train_scores = []\n",
    "test_scores = []\n",
    "train_rmse = []\n",
    "test_rmse = []\n",
    "best_par_list = []\n",
    "\n",
    "objective_ = ['binary:logistic']\n",
    "evalmetric = ['auc']\n",
    "uselabelencoder = [False]\n",
    "treemethod = ['gpu_hist']\n",
    "predictor_ = ['gpu_predictor']\n",
    "njobs = [-1]\n",
    "randomstate = [state]\n",
    "booster_ = ['gbtree']\n",
    "\n",
    "# nestimators = [100]\n",
    "# minchildweight = [1, 5]\n",
    "# maxdepth = [1, 3]\n",
    "# learningrate = [0.1, 1]\n",
    "# gamma_ = [0.5, 2]\n",
    "# subsample_ = [0.8, 1]\n",
    "# colsamplebytree = [0.8, 1]\n",
    "\n",
    "\n",
    "gparam_xgb_gb = {'objective': objective_,\n",
    "                 'eval_metric': evalmetric,\n",
    "                 'use_label_encoder': uselabelencoder,\n",
    "                 'tree_method': treemethod,\n",
    "                 'predictor': predictor_,\n",
    "                 'n_jobs': njobs,\n",
    "                 'booster': booster_,\n",
    "#               'n_estimators': nestimators,\n",
    "#               'min_child_weight': minchildweight,\n",
    "#               'max_depth': maxdepth,\n",
    "#               'learning_rate': learningrate,\n",
    "#               'gamma': gamma_,\n",
    "#               'subsample': subsample_,\n",
    "#               'colsample_bytree': colsamplebytree,\n",
    "                 'random_state': randomstate}\n",
    "\n",
    "\n",
    "gs_xgb_gb = ms.GridSearchCV(xgb_clsfr_gb, gparam_xgb_gb, cv=n_folds, refit=True, n_jobs=-1,\n",
    "                          scoring='roc_auc', return_train_score=True)\n",
    "\n",
    "%time gs_xgb_gb.fit(xtrain_gb, ytrain_gb)\n",
    "\n",
    "# setting up dataframe for results\n",
    "train_scores.append(gs_xgb_gb.best_estimator_.score(xtrain_gb, ytrain_gb))\n",
    "test_scores.append(gs_xgb_gb.best_estimator_.score(xtest_gb, ytest_gb))\n",
    "\n",
    "\n",
    "# use rmse function from Self_Written_Functions_Sheet_Recover\n",
    "train_rmse.append(rmse(gs_xgb_gb, ytrain_gb, xtrain_gb))\n",
    "test_rmse.append(rmse(gs_xgb_gb, ytest_gb, xtest_gb))\n",
    "\n",
    "# add the best parameters to the df\n",
    "best_par_list.append(gs_xgb_gb.best_params_)\n",
    "\n",
    "# find the difference btwn the rmses\n",
    "diff_rmse = np.subtract(train_rmse, test_rmse)\n",
    "\n",
    "# create dataframe\n",
    "list_results = [train_scores, test_scores, train_rmse, test_rmse, diff_rmse]\n",
    "res_df = pd.DataFrame(list_results).T\n",
    "res_df.columns = ['TrainScores', 'TestScores', 'TrainRMSE', 'TestRMSE', 'DiffRMSE']\n",
    "best_par_df = pd.DataFrame(best_par_list)\n",
    "res_df = pd.concat([res_df, best_par_df], axis=1, sort=False)\n",
    "\n",
    "# confusion matrix for train set\n",
    "print('\\n')\n",
    "print('confusion matrix for train set')\n",
    "print(confusion_matrix(ytrain_gb, gs_xgb_gb.predict(xtrain_gb)))\n",
    "\n",
    "# confusion matrix for test set\n",
    "print('\\n')\n",
    "print('confusion matrix for test set')\n",
    "print(confusion_matrix(ytest_gb, gs_xgb_gb.predict(xtest_gb)))\n",
    "\n",
    "res_df"
   ]
  },
  {
   "cell_type": "code",
   "execution_count": 15,
   "metadata": {},
   "outputs": [
    {
     "data": {
      "text/plain": [
       "[('grouped_subgrade_12_345', 0.6324638),\n",
       " ('term', 0.12058718),\n",
       " ('home_ownership', 0.051763862),\n",
       " ('max_bal_bc', 0.02512579),\n",
       " ('int_rate', 0.02491643),\n",
       " ('emp_length', 0.022493426),\n",
       " ('ratio_inc_funded', 0.021751298),\n",
       " ('fico_score', 0.02088241),\n",
       " ('dti', 0.019013878),\n",
       " ('grade', 0.017798655),\n",
       " ('annual_inc', 0.015287232),\n",
       " ('revol_bal', 0.014149311),\n",
       " ('duration_of_credit_months', 0.013766733)]"
      ]
     },
     "execution_count": 15,
     "metadata": {},
     "output_type": "execute_result"
    }
   ],
   "source": [
    "sorted_importance_gb = sorted(zip(xtrain_gb.columns,\n",
    "                               gs_xgb_gb.best_estimator_.feature_importances_),\n",
    "                           key=lambda t:t[1], reverse=True)\n",
    "sorted_importance_gb"
   ]
  },
  {
   "cell_type": "code",
   "execution_count": 16,
   "metadata": {},
   "outputs": [
    {
     "name": "stdout",
     "output_type": "stream",
     "text": [
      "Average precision-recall score for random forest: 0.60\n"
     ]
    }
   ],
   "source": [
    "from sklearn.metrics import average_precision_score\n",
    "average_precision = average_precision_score(ytest_gb, gs_xgb_gb.predict(xtest_gb))\n",
    "\n",
    "print('Average precision-recall score for random forest: {0:0.2f}'.format(\n",
    "      average_precision))"
   ]
  },
  {
   "cell_type": "code",
   "execution_count": 17,
   "metadata": {},
   "outputs": [
    {
     "data": {
      "text/plain": [
       "Text(0.5, 1.0, '2-class Precision-Recall curve for random forest: AP=0.60')"
      ]
     },
     "execution_count": 17,
     "metadata": {},
     "output_type": "execute_result"
    },
    {
     "data": {
      "image/png": "[encoded data removed]",
      "text/plain": [
       "<Figure size 432x288 with 1 Axes>"
      ]
     },
     "metadata": {
      "needs_background": "light"
     },
     "output_type": "display_data"
    }
   ],
   "source": [
    "# Precision-Recall curve\n",
    "# https://scikit-learn.org/stable/auto_examples/model_selection/plot_precision_recall.html\n",
    "\n",
    "from sklearn.metrics import precision_recall_curve\n",
    "from sklearn.metrics import plot_precision_recall_curve\n",
    "\n",
    "disp = plot_precision_recall_curve(gs_xgb_gb, xtest_gb, ytest_gb)\n",
    "disp.ax_.set_title('2-class Precision-Recall curve for random forest: '\n",
    "                   'AP={0:0.2f}'.format(average_precision))"
   ]
  },
  {
   "cell_type": "code",
   "execution_count": 18,
   "metadata": {},
   "outputs": [
    {
     "name": "stdout",
     "output_type": "stream",
     "text": [
      "Random forest performance\n",
      "----------------------------------------------------------------------\n",
      "F1 score: 0.66\n",
      "recall score: 0.67\n",
      "precision score: 0.65\n"
     ]
    }
   ],
   "source": [
    "# F1 score \n",
    "# F1 = 2 * (precision * recall) / (precision + recall)\n",
    "\n",
    "f1_score = metrics.f1_score(ytest_gb, gs_xgb_gb.predict(xtest_gb))\n",
    "recall_score = metrics.recall_score(ytest_gb, gs_xgb_gb.predict(xtest_gb))\n",
    "precision_score = metrics.precision_score(ytest_gb, gs_xgb_gb.predict(xtest_gb))\n",
    "print (\"Random forest performance\")\n",
    "print ('-'*70)\n",
    "print('F1 score: {0:0.2f}'.format(f1_score))\n",
    "print('recall score: {0:0.2f}'.format(recall_score))\n",
    "print('precision score: {0:0.2f}'.format(precision_score))"
   ]
  },
  {
   "cell_type": "code",
   "execution_count": 19,
   "metadata": {},
   "outputs": [
    {
     "name": "stdout",
     "output_type": "stream",
     "text": [
      "Random forest ROC-AUC score\n",
      "----------------------------------------------------------------------\n"
     ]
    },
    {
     "data": {
      "text/plain": [
       "0.6557386252638595"
      ]
     },
     "execution_count": 19,
     "metadata": {},
     "output_type": "execute_result"
    }
   ],
   "source": [
    "# ROC-AUC score\n",
    "# https://scikit-learn.org/stable/modules/generated/sklearn.metrics.roc_auc_score.html#sklearn.metrics.roc_auc_score\n",
    "\n",
    "from sklearn.metrics import roc_auc_score\n",
    "print (\"Random forest ROC-AUC score\")\n",
    "print ('-'*70)\n",
    "roc_auc_score(ytest_gb, gs_xgb_gb.predict(xtest_gb))"
   ]
  },
  {
   "cell_type": "code",
   "execution_count": 20,
   "metadata": {},
   "outputs": [
    {
     "data": {
      "text/plain": [
       "<sklearn.metrics._plot.roc_curve.RocCurveDisplay at 0x1df98c907f0>"
      ]
     },
     "execution_count": 20,
     "metadata": {},
     "output_type": "execute_result"
    },
    {
     "data": {
      "image/png": "[encoded data removed]",
      "text/plain": [
       "<Figure size 432x288 with 1 Axes>"
      ]
     },
     "metadata": {
      "needs_background": "light"
     },
     "output_type": "display_data"
    }
   ],
   "source": [
    "# Receiver operating characteristic (ROC) curve\n",
    "# https://scikit-learn.org/stable/modules/generated/sklearn.metrics.plot_roc_curve.html#sklearn.metrics.plot_roc_curve\n",
    "\n",
    "from sklearn import metrics\n",
    "metrics.plot_roc_curve(gs_xgb_gb.best_estimator_, xtest_gb, ytest_gb) "
   ]
  },
  {
   "cell_type": "code",
   "execution_count": 21,
   "metadata": {},
   "outputs": [
    {
     "data": {
      "text/plain": [
       "[('grouped_subgrade_12_345', 0.6324638),\n",
       " ('term', 0.12058718),\n",
       " ('home_ownership', 0.051763862),\n",
       " ('max_bal_bc', 0.02512579),\n",
       " ('int_rate', 0.02491643),\n",
       " ('emp_length', 0.022493426),\n",
       " ('ratio_inc_funded', 0.021751298),\n",
       " ('fico_score', 0.02088241),\n",
       " ('dti', 0.019013878),\n",
       " ('grade', 0.017798655),\n",
       " ('annual_inc', 0.015287232),\n",
       " ('revol_bal', 0.014149311),\n",
       " ('duration_of_credit_months', 0.013766733)]"
      ]
     },
     "execution_count": 21,
     "metadata": {},
     "output_type": "execute_result"
    }
   ],
   "source": [
    "filtered_sorted_importance_gb = [x for x in sorted_importance_gb if x[1]>0.003]\n",
    "filtered_sorted_importance_gb"
   ]
  },
  {
   "cell_type": "code",
   "execution_count": 22,
   "metadata": {},
   "outputs": [
    {
     "data": {
      "text/plain": [
       "['grouped_subgrade_12_345',\n",
       " 'term',\n",
       " 'home_ownership',\n",
       " 'max_bal_bc',\n",
       " 'int_rate',\n",
       " 'emp_length',\n",
       " 'ratio_inc_funded',\n",
       " 'fico_score',\n",
       " 'dti',\n",
       " 'grade',\n",
       " 'annual_inc',\n",
       " 'revol_bal',\n",
       " 'duration_of_credit_months']"
      ]
     },
     "execution_count": 22,
     "metadata": {},
     "output_type": "execute_result"
    }
   ],
   "source": [
    "# get list of column names for easier application in the future\n",
    "filter_important_gb = []\n",
    "for tup in filtered_sorted_importance_gb:\n",
    "    filter_important_gb.append(tup[0])\n",
    "\n",
    "filter_important_gb"
   ]
  },
  {
   "cell_type": "code",
   "execution_count": null,
   "metadata": {},
   "outputs": [],
   "source": []
  },
  {
   "cell_type": "code",
   "execution_count": null,
   "metadata": {},
   "outputs": [],
   "source": []
  },
  {
   "cell_type": "code",
   "execution_count": null,
   "metadata": {},
   "outputs": [],
   "source": []
  },
  {
   "cell_type": "code",
   "execution_count": null,
   "metadata": {},
   "outputs": [],
   "source": []
  },
  {
   "cell_type": "code",
   "execution_count": null,
   "metadata": {},
   "outputs": [],
   "source": []
  }
 ],
 "metadata": {
  "kernelspec": {
   "display_name": "Python 3",
   "language": "python",
   "name": "python3"
  },
  "language_info": {
   "codemirror_mode": {
    "name": "ipython",
    "version": 3
   },
   "file_extension": ".py",
   "mimetype": "text/x-python",
   "name": "python",
   "nbconvert_exporter": "python",
   "pygments_lexer": "ipython3",
   "version": "3.8.5"
  }
 },
 "nbformat": 4,
 "nbformat_minor": 4
}
