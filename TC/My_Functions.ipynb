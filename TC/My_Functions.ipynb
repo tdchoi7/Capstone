{
 "cells": [
  {
   "cell_type": "code",
   "execution_count": 1,
   "metadata": {},
   "outputs": [],
   "source": [
    "import numpy as np\n",
    "import pandas as pd\n",
    "from sklearn.metrics import mean_squared_error\n",
    "\n",
    "def drop_cols(list_dataframes, list_cols):\n",
    "    '''\n",
    "    This function drops one or multiple columns based on a list provided\n",
    "    from one or multiple single-index dataframes based on a list provided\n",
    "    '''\n",
    "    for df in list_dataframes:\n",
    "        df.drop(columns=list_cols, inplace=True)\n",
    "        \n",
    "###########################################################################\n",
    "\n",
    "\n",
    "def null_cols(df, new_list):\n",
    "    '''\n",
    "    this function generates a list \n",
    "    of the columns that contain \n",
    "    null values\n",
    "    '''\n",
    "    col_list = list(df.columns)\n",
    "    \n",
    "    for cols in col_list:\n",
    "        for i in list(df[cols].unique()):\n",
    "            if pd.isnull(i)==True:\n",
    "                new_list.append(cols)\n",
    "                \n",
    "###########################################################################\n",
    "\n",
    "                \n",
    "def rmse(model, actual, features):\n",
    "    '''\n",
    "    Calculates the root mean squared error using sklearn's mean_squared_error\n",
    "    '''\n",
    "    return np.sqrt(mean_squared_error(actual, model.best_estimator_.predict(features)))\n",
    "                "
   ]
  }
 ],
 "metadata": {
  "kernelspec": {
   "display_name": "Python 3",
   "language": "python",
   "name": "python3"
  },
  "language_info": {
   "codemirror_mode": {
    "name": "ipython",
    "version": 3
   },
   "file_extension": ".py",
   "mimetype": "text/x-python",
   "name": "python",
   "nbconvert_exporter": "python",
   "pygments_lexer": "ipython3",
   "version": "3.8.5"
  }
 },
 "nbformat": 4,
 "nbformat_minor": 5
}
