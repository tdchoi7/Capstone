{
 "cells": [
  {
   "cell_type": "code",
   "execution_count": 1,
   "metadata": {},
   "outputs": [
    {
     "name": "stdout",
     "output_type": "stream",
     "text": [
      "importing Jupyter notebook from My_Functions.ipynb\n"
     ]
    }
   ],
   "source": [
    "import numpy as np\n",
    "import pandas as pd\n",
    "pd.set_option('display.max_columns', None)\n",
    "\n",
    "from matplotlib import pyplot as plt\n",
    "\n",
    "from sklearn import model_selection as ms\n",
    "from sklearn.linear_model import LogisticRegression\n",
    "from sklearn import metrics\n",
    "from sklearn.metrics import confusion_matrix\n",
    "from sklearn.ensemble import GradientBoostingClassifier\n",
    "\n",
    "import xgboost as xgb\n",
    "\n",
    "import gzip\n",
    "import copy\n",
    "\n",
    "import import_ipynb\n",
    "from My_Functions import null_cols, rmse"
   ]
  },
  {
   "cell_type": "code",
   "execution_count": 2,
   "metadata": {},
   "outputs": [],
   "source": [
    "acc_TC = pd.read_csv(\"acc_TC.csv.gz\",\n",
    "                     compression='gzip',\n",
    "                     header=0,\n",
    "                     sep=',',\n",
    "                     quotechar='\"')\n",
    "\n",
    "target_1_TC = pd.read_csv(\"target_2_train_feateng_dwnsmpl.csv.gz\",\n",
    "                          compression='gzip',\n",
    "                          header=0,\n",
    "                          sep=',',\n",
    "                          quotechar='\"')"
   ]
  },
  {
   "cell_type": "code",
   "execution_count": 3,
   "metadata": {},
   "outputs": [],
   "source": [
    "acc_TC_nograde = acc_TC.drop(['grade', 'sub_grade'], axis=1)"
   ]
  },
  {
   "cell_type": "code",
   "execution_count": 4,
   "metadata": {},
   "outputs": [],
   "source": [
    "state=0\n",
    "\n",
    "\n",
    "# original:\n",
    "xtrain_ds, xtest_ds, ytrain_ds, ytest_ds = ms.train_test_split(acc_TC,\n",
    "                                                               target_1_TC,\n",
    "                                                               test_size=0.2,\n",
    "                                                               random_state=state)\n",
    "\n",
    "# Must flatten to fit\n",
    "ytrain_ds = ytrain_ds.values.flatten()\n",
    "\n",
    "\n",
    "# no grade or subgrade:\n",
    "xtrain_no, xtest_no, ytrain_no, ytest_no = ms.train_test_split(acc_TC_nograde,\n",
    "                                                               target_1_TC,\n",
    "                                                               test_size=0.2,\n",
    "                                                               random_state=state)\n",
    "\n",
    "# Must flatten to fit\n",
    "ytrain_no = ytrain_no.values.flatten()\n",
    "\n",
    "# using standard kfold split\n",
    "n_folds = ms.KFold(n_splits=5, random_state=state, shuffle=True)"
   ]
  },
  {
   "cell_type": "markdown",
   "metadata": {},
   "source": [
    "## Theodore's Reduced Dataset"
   ]
  },
  {
   "cell_type": "code",
   "execution_count": 5,
   "metadata": {},
   "outputs": [
    {
     "name": "stdout",
     "output_type": "stream",
     "text": [
      "Wall time: 8.34 s\n",
      "\n",
      "\n",
      "confusion matrix for train set\n",
      "[[71446 36264]\n",
      " [31755 76023]]\n",
      "\n",
      "\n",
      "confusion matrix for test set\n",
      "[[17111  9859]\n",
      " [ 8736 18166]]\n"
     ]
    },
    {
     "data": {
      "text/html": [
       "<div>\n",
       "<style scoped>\n",
       "    .dataframe tbody tr th:only-of-type {\n",
       "        vertical-align: middle;\n",
       "    }\n",
       "\n",
       "    .dataframe tbody tr th {\n",
       "        vertical-align: top;\n",
       "    }\n",
       "\n",
       "    .dataframe thead th {\n",
       "        text-align: right;\n",
       "    }\n",
       "</style>\n",
       "<table border=\"1\" class=\"dataframe\">\n",
       "  <thead>\n",
       "    <tr style=\"text-align: right;\">\n",
       "      <th></th>\n",
       "      <th>TrainScores</th>\n",
       "      <th>TestScores</th>\n",
       "      <th>TrainRMSE</th>\n",
       "      <th>TestRMSE</th>\n",
       "      <th>DiffRMSE</th>\n",
       "      <th>booster</th>\n",
       "      <th>eval_metric</th>\n",
       "      <th>n_jobs</th>\n",
       "      <th>objective</th>\n",
       "      <th>predictor</th>\n",
       "      <th>random_state</th>\n",
       "      <th>tree_method</th>\n",
       "      <th>use_label_encoder</th>\n",
       "    </tr>\n",
       "  </thead>\n",
       "  <tbody>\n",
       "    <tr>\n",
       "      <th>0</th>\n",
       "      <td>0.684349</td>\n",
       "      <td>0.65483</td>\n",
       "      <td>0.561828</td>\n",
       "      <td>0.587512</td>\n",
       "      <td>-0.025683</td>\n",
       "      <td>gbtree</td>\n",
       "      <td>auc</td>\n",
       "      <td>-1</td>\n",
       "      <td>binary:logistic</td>\n",
       "      <td>gpu_predictor</td>\n",
       "      <td>0</td>\n",
       "      <td>gpu_hist</td>\n",
       "      <td>False</td>\n",
       "    </tr>\n",
       "  </tbody>\n",
       "</table>\n",
       "</div>"
      ],
      "text/plain": [
       "   TrainScores  TestScores  TrainRMSE  TestRMSE  DiffRMSE booster eval_metric  \\\n",
       "0     0.684349     0.65483   0.561828  0.587512 -0.025683  gbtree         auc   \n",
       "\n",
       "   n_jobs        objective      predictor  random_state tree_method  \\\n",
       "0      -1  binary:logistic  gpu_predictor             0    gpu_hist   \n",
       "\n",
       "   use_label_encoder  \n",
       "0              False  "
      ]
     },
     "execution_count": 5,
     "metadata": {},
     "output_type": "execute_result"
    }
   ],
   "source": [
    "xgb_clsfr_ds = xgb.XGBClassifier()\n",
    "\n",
    "train_scores = []\n",
    "test_scores = []\n",
    "train_rmse = []\n",
    "test_rmse = []\n",
    "best_par_list = []\n",
    "\n",
    "objective_ = ['binary:logistic']\n",
    "evalmetric = ['auc']\n",
    "uselabelencoder = [False]\n",
    "treemethod = ['gpu_hist']\n",
    "predictor_ = ['gpu_predictor']\n",
    "njobs = [-1]\n",
    "randomstate = [state]\n",
    "booster_ = ['gbtree']\n",
    "\n",
    "# nestimators = [100]\n",
    "# minchildweight = [1, 5]\n",
    "# maxdepth = [1, 3]\n",
    "# learningrate = [0.1, 1]\n",
    "# gamma_ = [0.5, 2]\n",
    "# subsample_ = [0.8, 1]\n",
    "# colsamplebytree = [0.8, 1]\n",
    "\n",
    "\n",
    "gparam_xgb_ds = {'objective': objective_,\n",
    "                 'eval_metric': evalmetric,\n",
    "                 'use_label_encoder': uselabelencoder,\n",
    "                 'tree_method': treemethod,\n",
    "                 'predictor': predictor_,\n",
    "                 'n_jobs': njobs,\n",
    "                 'booster': booster_,\n",
    "#               'n_estimators': nestimators,\n",
    "#               'min_child_weight': minchildweight,\n",
    "#               'max_depth': maxdepth,\n",
    "#               'learning_rate': learningrate,\n",
    "#               'gamma': gamma_,\n",
    "#               'subsample': subsample_,\n",
    "#               'colsample_bytree': colsamplebytree,\n",
    "                 'random_state': randomstate}\n",
    "\n",
    "\n",
    "gs_xgb_ds = ms.GridSearchCV(xgb_clsfr_ds, gparam_xgb_ds, cv=n_folds, refit=True, n_jobs=-1,\n",
    "                          scoring='roc_auc', return_train_score=True)\n",
    "\n",
    "%time gs_xgb_ds.fit(xtrain_ds, ytrain_ds)\n",
    "\n",
    "# setting up dataframe for results\n",
    "train_scores.append(gs_xgb_ds.best_estimator_.score(xtrain_ds, ytrain_ds))\n",
    "test_scores.append(gs_xgb_ds.best_estimator_.score(xtest_ds, ytest_ds))\n",
    "\n",
    "\n",
    "# use rmse function from Self_Written_Functions_Sheet_Recover\n",
    "train_rmse.append(rmse(gs_xgb_ds, ytrain_ds, xtrain_ds))\n",
    "test_rmse.append(rmse(gs_xgb_ds, ytest_ds, xtest_ds))\n",
    "\n",
    "# add the best parameters to the df\n",
    "best_par_list.append(gs_xgb_ds.best_params_)\n",
    "\n",
    "# find the difference btwn the rmses\n",
    "diff_rmse = np.subtract(train_rmse, test_rmse)\n",
    "\n",
    "# create dataframe\n",
    "list_results = [train_scores, test_scores, train_rmse, test_rmse, diff_rmse]\n",
    "res_df = pd.DataFrame(list_results).T\n",
    "res_df.columns = ['TrainScores', 'TestScores', 'TrainRMSE', 'TestRMSE', 'DiffRMSE']\n",
    "best_par_df = pd.DataFrame(best_par_list)\n",
    "res_df = pd.concat([res_df, best_par_df], axis=1, sort=False)\n",
    "\n",
    "# confusion matrix for train set\n",
    "print('\\n')\n",
    "print('confusion matrix for train set')\n",
    "print(confusion_matrix(ytrain_ds, gs_xgb_ds.predict(xtrain_ds)))\n",
    "\n",
    "# confusion matrix for test set\n",
    "print('\\n')\n",
    "print('confusion matrix for test set')\n",
    "print(confusion_matrix(ytest_ds, gs_xgb_ds.predict(xtest_ds)))\n",
    "\n",
    "res_df"
   ]
  },
  {
   "cell_type": "code",
   "execution_count": 6,
   "metadata": {
    "scrolled": true
   },
   "outputs": [
    {
     "data": {
      "text/plain": [
       "[('grade', 0.59594995),\n",
       " ('sub_grade', 0.1449023),\n",
       " ('term', 0.087689124),\n",
       " ('home_ownership', 0.027244605),\n",
       " ('loan_amnt', 0.015105736),\n",
       " ('verification_status', 0.012771034),\n",
       " ('emp_length', 0.012604721),\n",
       " ('dti', 0.011728723),\n",
       " ('fico_score', 0.011535604),\n",
       " ('int_rate', 0.011069286),\n",
       " ('annual_inc', 0.010170974),\n",
       " ('funded_amnt', 0.009323393),\n",
       " ('duration_of_credit_months', 0.008554774),\n",
       " ('installment', 0.008463909),\n",
       " ('sec_app_fico_score', 0.007838931),\n",
       " ('dti_joint', 0.007512506),\n",
       " ('annual_inc_joint', 0.006267786),\n",
       " ('sec_app_duration_of_credit_months', 0.005500937),\n",
       " ('verification_status_joint', 0.0048470106),\n",
       " ('application_type', 0.0009187464)]"
      ]
     },
     "execution_count": 6,
     "metadata": {},
     "output_type": "execute_result"
    }
   ],
   "source": [
    "sorted_importance_ds = sorted(zip(xtrain_ds.columns,\n",
    "                               gs_xgb_ds.best_estimator_.feature_importances_),\n",
    "                           key=lambda t:t[1], reverse=True)\n",
    "sorted_importance_ds"
   ]
  },
  {
   "cell_type": "code",
   "execution_count": 7,
   "metadata": {},
   "outputs": [
    {
     "name": "stdout",
     "output_type": "stream",
     "text": [
      "Average precision-recall score for random forest: 0.60\n"
     ]
    }
   ],
   "source": [
    "from sklearn.metrics import average_precision_score\n",
    "average_precision = average_precision_score(ytest_ds, gs_xgb_ds.predict(xtest_ds))\n",
    "\n",
    "print('Average precision-recall score for random forest: {0:0.2f}'.format(\n",
    "      average_precision))"
   ]
  },
  {
   "cell_type": "code",
   "execution_count": 8,
   "metadata": {},
   "outputs": [
    {
     "data": {
      "text/plain": [
       "Text(0.5, 1.0, '2-class Precision-Recall curve for random forest: AP=0.60')"
      ]
     },
     "execution_count": 8,
     "metadata": {},
     "output_type": "execute_result"
    },
    {
     "data": {
      "image/png": "[encoded data removed]",
      "text/plain": [
       "<Figure size 432x288 with 1 Axes>"
      ]
     },
     "metadata": {
      "needs_background": "light"
     },
     "output_type": "display_data"
    }
   ],
   "source": [
    "# Precision-Recall curve\n",
    "# https://scikit-learn.org/stable/auto_examples/model_selection/plot_precision_recall.html\n",
    "\n",
    "from sklearn.metrics import precision_recall_curve\n",
    "from sklearn.metrics import plot_precision_recall_curve\n",
    "\n",
    "disp = plot_precision_recall_curve(gs_xgb_ds, xtest_ds, ytest_ds)\n",
    "disp.ax_.set_title('2-class Precision-Recall curve for random forest: '\n",
    "                   'AP={0:0.2f}'.format(average_precision))"
   ]
  },
  {
   "cell_type": "code",
   "execution_count": 9,
   "metadata": {},
   "outputs": [
    {
     "name": "stdout",
     "output_type": "stream",
     "text": [
      "Random forest performance\n",
      "----------------------------------------------------------------------\n",
      "F1 score: 0.66\n",
      "recall score: 0.68\n",
      "precision score: 0.65\n"
     ]
    }
   ],
   "source": [
    "# F1 score \n",
    "# F1 = 2 * (precision * recall) / (precision + recall)\n",
    "\n",
    "f1_score = metrics.f1_score(ytest_ds, gs_xgb_ds.predict(xtest_ds))\n",
    "recall_score = metrics.recall_score(ytest_ds, gs_xgb_ds.predict(xtest_ds))\n",
    "precision_score = metrics.precision_score(ytest_ds, gs_xgb_ds.predict(xtest_ds))\n",
    "print (\"Random forest performance\")\n",
    "print ('-'*70)\n",
    "print('F1 score: {0:0.2f}'.format(f1_score))\n",
    "print('recall score: {0:0.2f}'.format(recall_score))\n",
    "print('precision score: {0:0.2f}'.format(precision_score))"
   ]
  },
  {
   "cell_type": "code",
   "execution_count": 10,
   "metadata": {},
   "outputs": [
    {
     "name": "stdout",
     "output_type": "stream",
     "text": [
      "Random forest ROC-AUC score\n",
      "----------------------------------------------------------------------\n"
     ]
    },
    {
     "data": {
      "text/plain": [
       "0.6548557299407809"
      ]
     },
     "execution_count": 10,
     "metadata": {},
     "output_type": "execute_result"
    }
   ],
   "source": [
    "# ROC-AUC score\n",
    "# https://scikit-learn.org/stable/modules/generated/sklearn.metrics.roc_auc_score.html#sklearn.metrics.roc_auc_score\n",
    "\n",
    "from sklearn.metrics import roc_auc_score\n",
    "print (\"Random forest ROC-AUC score\")\n",
    "print ('-'*70)\n",
    "roc_auc_score(ytest_ds, gs_xgb_ds.predict(xtest_ds))"
   ]
  },
  {
   "cell_type": "code",
   "execution_count": 11,
   "metadata": {},
   "outputs": [
    {
     "data": {
      "text/plain": [
       "<sklearn.metrics._plot.roc_curve.RocCurveDisplay at 0x178c0ebe850>"
      ]
     },
     "execution_count": 11,
     "metadata": {},
     "output_type": "execute_result"
    },
    {
     "data": {
      "image/png": "[encoded data removed]",
      "text/plain": [
       "<Figure size 432x288 with 1 Axes>"
      ]
     },
     "metadata": {
      "needs_background": "light"
     },
     "output_type": "display_data"
    }
   ],
   "source": [
    "# Receiver operating characteristic (ROC) curve\n",
    "# https://scikit-learn.org/stable/modules/generated/sklearn.metrics.plot_roc_curve.html#sklearn.metrics.plot_roc_curve\n",
    "\n",
    "from sklearn import metrics\n",
    "metrics.plot_roc_curve(gs_xgb_ds.best_estimator_, xtest_ds, ytest_ds) "
   ]
  },
  {
   "cell_type": "code",
   "execution_count": 12,
   "metadata": {},
   "outputs": [
    {
     "data": {
      "text/plain": [
       "[('grade', 0.59594995),\n",
       " ('sub_grade', 0.1449023),\n",
       " ('term', 0.087689124),\n",
       " ('home_ownership', 0.027244605),\n",
       " ('loan_amnt', 0.015105736),\n",
       " ('verification_status', 0.012771034),\n",
       " ('emp_length', 0.012604721),\n",
       " ('dti', 0.011728723),\n",
       " ('fico_score', 0.011535604),\n",
       " ('int_rate', 0.011069286),\n",
       " ('annual_inc', 0.010170974),\n",
       " ('funded_amnt', 0.009323393),\n",
       " ('duration_of_credit_months', 0.008554774),\n",
       " ('installment', 0.008463909),\n",
       " ('sec_app_fico_score', 0.007838931),\n",
       " ('dti_joint', 0.007512506),\n",
       " ('annual_inc_joint', 0.006267786),\n",
       " ('sec_app_duration_of_credit_months', 0.005500937),\n",
       " ('verification_status_joint', 0.0048470106)]"
      ]
     },
     "execution_count": 12,
     "metadata": {},
     "output_type": "execute_result"
    }
   ],
   "source": [
    "filtered_sorted_importance_ds = [x for x in sorted_importance_ds if x[1]>0.0035]\n",
    "filtered_sorted_importance_ds"
   ]
  },
  {
   "cell_type": "code",
   "execution_count": 13,
   "metadata": {},
   "outputs": [
    {
     "data": {
      "text/plain": [
       "['grade',\n",
       " 'sub_grade',\n",
       " 'term',\n",
       " 'home_ownership',\n",
       " 'loan_amnt',\n",
       " 'verification_status',\n",
       " 'emp_length',\n",
       " 'dti',\n",
       " 'fico_score',\n",
       " 'int_rate',\n",
       " 'annual_inc',\n",
       " 'funded_amnt',\n",
       " 'duration_of_credit_months',\n",
       " 'installment',\n",
       " 'sec_app_fico_score',\n",
       " 'dti_joint',\n",
       " 'annual_inc_joint',\n",
       " 'sec_app_duration_of_credit_months',\n",
       " 'verification_status_joint']"
      ]
     },
     "execution_count": 13,
     "metadata": {},
     "output_type": "execute_result"
    }
   ],
   "source": [
    "# get list of column names for easier application in the future\n",
    "filter_important = []\n",
    "for tup in filtered_sorted_importance_ds:\n",
    "    filter_important.append(tup[0])\n",
    "\n",
    "filter_important"
   ]
  },
  {
   "cell_type": "markdown",
   "metadata": {},
   "source": [
    "# No Grade or Subgrade"
   ]
  },
  {
   "cell_type": "code",
   "execution_count": 14,
   "metadata": {},
   "outputs": [
    {
     "name": "stdout",
     "output_type": "stream",
     "text": [
      "Wall time: 7.5 s\n",
      "\n",
      "\n",
      "confusion matrix for train set\n",
      "[[71257 36453]\n",
      " [32478 75300]]\n",
      "\n",
      "\n",
      "confusion matrix for test set\n",
      "[[17075  9895]\n",
      " [ 8893 18009]]\n"
     ]
    },
    {
     "data": {
      "text/html": [
       "<div>\n",
       "<style scoped>\n",
       "    .dataframe tbody tr th:only-of-type {\n",
       "        vertical-align: middle;\n",
       "    }\n",
       "\n",
       "    .dataframe tbody tr th {\n",
       "        vertical-align: top;\n",
       "    }\n",
       "\n",
       "    .dataframe thead th {\n",
       "        text-align: right;\n",
       "    }\n",
       "</style>\n",
       "<table border=\"1\" class=\"dataframe\">\n",
       "  <thead>\n",
       "    <tr style=\"text-align: right;\">\n",
       "      <th></th>\n",
       "      <th>TrainScores</th>\n",
       "      <th>TestScores</th>\n",
       "      <th>TrainRMSE</th>\n",
       "      <th>TestRMSE</th>\n",
       "      <th>DiffRMSE</th>\n",
       "      <th>booster</th>\n",
       "      <th>eval_metric</th>\n",
       "      <th>n_jobs</th>\n",
       "      <th>objective</th>\n",
       "      <th>predictor</th>\n",
       "      <th>random_state</th>\n",
       "      <th>tree_method</th>\n",
       "      <th>use_label_encoder</th>\n",
       "    </tr>\n",
       "  </thead>\n",
       "  <tbody>\n",
       "    <tr>\n",
       "      <th>0</th>\n",
       "      <td>0.680117</td>\n",
       "      <td>0.651247</td>\n",
       "      <td>0.565582</td>\n",
       "      <td>0.590553</td>\n",
       "      <td>-0.024971</td>\n",
       "      <td>gbtree</td>\n",
       "      <td>auc</td>\n",
       "      <td>-1</td>\n",
       "      <td>binary:logistic</td>\n",
       "      <td>gpu_predictor</td>\n",
       "      <td>0</td>\n",
       "      <td>gpu_hist</td>\n",
       "      <td>False</td>\n",
       "    </tr>\n",
       "  </tbody>\n",
       "</table>\n",
       "</div>"
      ],
      "text/plain": [
       "   TrainScores  TestScores  TrainRMSE  TestRMSE  DiffRMSE booster eval_metric  \\\n",
       "0     0.680117    0.651247   0.565582  0.590553 -0.024971  gbtree         auc   \n",
       "\n",
       "   n_jobs        objective      predictor  random_state tree_method  \\\n",
       "0      -1  binary:logistic  gpu_predictor             0    gpu_hist   \n",
       "\n",
       "   use_label_encoder  \n",
       "0              False  "
      ]
     },
     "execution_count": 14,
     "metadata": {},
     "output_type": "execute_result"
    }
   ],
   "source": [
    "xgb_clsfr_no = xgb.XGBClassifier()\n",
    "\n",
    "train_scores = []\n",
    "test_scores = []\n",
    "train_rmse = []\n",
    "test_rmse = []\n",
    "best_par_list = []\n",
    "\n",
    "objective_ = ['binary:logistic']\n",
    "evalmetric = ['auc']\n",
    "uselabelencoder = [False]\n",
    "treemethod = ['gpu_hist']\n",
    "predictor_ = ['gpu_predictor']\n",
    "njobs = [-1]\n",
    "randomstate = [state]\n",
    "booster_ = ['gbtree']\n",
    "\n",
    "# nestimators = [100]\n",
    "# minchildweight = [1, 5]\n",
    "# maxdepth = [1, 3]\n",
    "# learningrate = [0.1, 1]\n",
    "# gamma_ = [0.5, 2]\n",
    "# subsample_ = [0.8, 1]\n",
    "# colsamplebytree = [0.8, 1]\n",
    "\n",
    "\n",
    "gparam_xgb_no = {'objective': objective_,\n",
    "                 'eval_metric': evalmetric,\n",
    "                 'use_label_encoder': uselabelencoder,\n",
    "                 'tree_method': treemethod,\n",
    "                 'predictor': predictor_,\n",
    "                 'n_jobs': njobs,\n",
    "                 'booster': booster_,\n",
    "#               'n_estimators': nestimators,\n",
    "#               'min_child_weight': minchildweight,\n",
    "#               'max_depth': maxdepth,\n",
    "#               'learning_rate': learningrate,\n",
    "#               'gamma': gamma_,\n",
    "#               'subsample': subsample_,\n",
    "#               'colsample_bytree': colsamplebytree,\n",
    "                 'random_state': randomstate}\n",
    "\n",
    "\n",
    "gs_xgb_no = ms.GridSearchCV(xgb_clsfr_no, gparam_xgb_no, cv=n_folds, refit=True, n_jobs=-1,\n",
    "                          scoring='roc_auc', return_train_score=True)\n",
    "\n",
    "%time gs_xgb_no.fit(xtrain_no, ytrain_no)\n",
    "\n",
    "# setting up dataframe for results\n",
    "train_scores.append(gs_xgb_no.best_estimator_.score(xtrain_no, ytrain_no))\n",
    "test_scores.append(gs_xgb_no.best_estimator_.score(xtest_no, ytest_no))\n",
    "\n",
    "\n",
    "# use rmse function from Self_Written_Functions_Sheet_Recover\n",
    "train_rmse.append(rmse(gs_xgb_no, ytrain_no, xtrain_no))\n",
    "test_rmse.append(rmse(gs_xgb_no, ytest_no, xtest_no))\n",
    "\n",
    "# add the best parameters to the df\n",
    "best_par_list.append(gs_xgb_no.best_params_)\n",
    "\n",
    "# find the difference btwn the rmses\n",
    "diff_rmse = np.subtract(train_rmse, test_rmse)\n",
    "\n",
    "# create dataframe\n",
    "list_results = [train_scores, test_scores, train_rmse, test_rmse, diff_rmse]\n",
    "res_df = pd.DataFrame(list_results).T\n",
    "res_df.columns = ['TrainScores', 'TestScores', 'TrainRMSE', 'TestRMSE', 'DiffRMSE']\n",
    "best_par_df = pd.DataFrame(best_par_list)\n",
    "res_df = pd.concat([res_df, best_par_df], axis=1, sort=False)\n",
    "\n",
    "# confusion matrix for train set\n",
    "print('\\n')\n",
    "print('confusion matrix for train set')\n",
    "print(confusion_matrix(ytrain_no, gs_xgb_no.predict(xtrain_no)))\n",
    "\n",
    "# confusion matrix for test set\n",
    "print('\\n')\n",
    "print('confusion matrix for test set')\n",
    "print(confusion_matrix(ytest_no, gs_xgb_no.predict(xtest_no)))\n",
    "\n",
    "res_df"
   ]
  },
  {
   "cell_type": "code",
   "execution_count": 15,
   "metadata": {},
   "outputs": [
    {
     "data": {
      "text/plain": [
       "[('int_rate', 0.29059044),\n",
       " ('term', 0.2521744),\n",
       " ('home_ownership', 0.07468774),\n",
       " ('verification_status', 0.040164072),\n",
       " ('loan_amnt', 0.035998587),\n",
       " ('emp_length', 0.035576593),\n",
       " ('fico_score', 0.03462055),\n",
       " ('dti', 0.033869818),\n",
       " ('annual_inc', 0.027997812),\n",
       " ('funded_amnt', 0.025878254),\n",
       " ('installment', 0.02440904),\n",
       " ('sec_app_fico_score', 0.023788238),\n",
       " ('duration_of_credit_months', 0.023280168),\n",
       " ('verification_status_joint', 0.02024309),\n",
       " ('dti_joint', 0.017553203),\n",
       " ('annual_inc_joint', 0.016324483),\n",
       " ('sec_app_duration_of_credit_months', 0.0162826),\n",
       " ('application_type', 0.0065608653)]"
      ]
     },
     "execution_count": 15,
     "metadata": {},
     "output_type": "execute_result"
    }
   ],
   "source": [
    "sorted_importance_no = sorted(zip(xtrain_no.columns,\n",
    "                               gs_xgb_no.best_estimator_.feature_importances_),\n",
    "                           key=lambda t:t[1], reverse=True)\n",
    "sorted_importance_no"
   ]
  },
  {
   "cell_type": "code",
   "execution_count": 16,
   "metadata": {},
   "outputs": [
    {
     "name": "stdout",
     "output_type": "stream",
     "text": [
      "Average precision-recall score for random forest: 0.60\n"
     ]
    }
   ],
   "source": [
    "from sklearn.metrics import average_precision_score\n",
    "average_precision = average_precision_score(ytest_no, gs_xgb_no.predict(xtest_no))\n",
    "\n",
    "print('Average precision-recall score for random forest: {0:0.2f}'.format(\n",
    "      average_precision))"
   ]
  },
  {
   "cell_type": "code",
   "execution_count": 17,
   "metadata": {},
   "outputs": [
    {
     "data": {
      "text/plain": [
       "Text(0.5, 1.0, '2-class Precision-Recall curve for random forest: AP=0.60')"
      ]
     },
     "execution_count": 17,
     "metadata": {},
     "output_type": "execute_result"
    },
    {
     "data": {
      "image/png": "[encoded data removed]",
      "text/plain": [
       "<Figure size 432x288 with 1 Axes>"
      ]
     },
     "metadata": {
      "needs_background": "light"
     },
     "output_type": "display_data"
    }
   ],
   "source": [
    "# Precision-Recall curve\n",
    "# https://scikit-learn.org/stable/auto_examples/model_selection/plot_precision_recall.html\n",
    "\n",
    "from sklearn.metrics import precision_recall_curve\n",
    "from sklearn.metrics import plot_precision_recall_curve\n",
    "\n",
    "disp = plot_precision_recall_curve(gs_xgb_no, xtest_no, ytest_no)\n",
    "disp.ax_.set_title('2-class Precision-Recall curve for random forest: '\n",
    "                   'AP={0:0.2f}'.format(average_precision))"
   ]
  },
  {
   "cell_type": "code",
   "execution_count": 18,
   "metadata": {},
   "outputs": [
    {
     "name": "stdout",
     "output_type": "stream",
     "text": [
      "Random forest performance\n",
      "----------------------------------------------------------------------\n",
      "F1 score: 0.66\n",
      "recall score: 0.67\n",
      "precision score: 0.65\n"
     ]
    }
   ],
   "source": [
    "# F1 score \n",
    "# F1 = 2 * (precision * recall) / (precision + recall)\n",
    "\n",
    "f1_score = metrics.f1_score(ytest_no, gs_xgb_no.predict(xtest_no))\n",
    "recall_score = metrics.recall_score(ytest_no, gs_xgb_no.predict(xtest_no))\n",
    "precision_score = metrics.precision_score(ytest_no, gs_xgb_no.predict(xtest_no))\n",
    "print (\"Random forest performance\")\n",
    "print ('-'*70)\n",
    "print('F1 score: {0:0.2f}'.format(f1_score))\n",
    "print('recall score: {0:0.2f}'.format(recall_score))\n",
    "print('precision score: {0:0.2f}'.format(precision_score))"
   ]
  },
  {
   "cell_type": "code",
   "execution_count": 19,
   "metadata": {},
   "outputs": [
    {
     "name": "stdout",
     "output_type": "stream",
     "text": [
      "Random forest ROC-AUC score\n",
      "----------------------------------------------------------------------\n"
     ]
    },
    {
     "data": {
      "text/plain": [
       "0.6512703230476034"
      ]
     },
     "execution_count": 19,
     "metadata": {},
     "output_type": "execute_result"
    }
   ],
   "source": [
    "# ROC-AUC score\n",
    "# https://scikit-learn.org/stable/modules/generated/sklearn.metrics.roc_auc_score.html#sklearn.metrics.roc_auc_score\n",
    "\n",
    "from sklearn.metrics import roc_auc_score\n",
    "print (\"Random forest ROC-AUC score\")\n",
    "print ('-'*70)\n",
    "roc_auc_score(ytest_no, gs_xgb_no.predict(xtest_no))"
   ]
  },
  {
   "cell_type": "code",
   "execution_count": 20,
   "metadata": {},
   "outputs": [
    {
     "data": {
      "text/plain": [
       "<sklearn.metrics._plot.roc_curve.RocCurveDisplay at 0x178c30d3640>"
      ]
     },
     "execution_count": 20,
     "metadata": {},
     "output_type": "execute_result"
    },
    {
     "data": {
      "image/png": "[encoded data removed]",
      "text/plain": [
       "<Figure size 432x288 with 1 Axes>"
      ]
     },
     "metadata": {
      "needs_background": "light"
     },
     "output_type": "display_data"
    }
   ],
   "source": [
    "# Receiver operating characteristic (ROC) curve\n",
    "# https://scikit-learn.org/stable/modules/generated/sklearn.metrics.plot_roc_curve.html#sklearn.metrics.plot_roc_curve\n",
    "\n",
    "from sklearn import metrics\n",
    "metrics.plot_roc_curve(gs_xgb_no.best_estimator_, xtest_no, ytest_no) "
   ]
  },
  {
   "cell_type": "code",
   "execution_count": 21,
   "metadata": {},
   "outputs": [
    {
     "data": {
      "text/plain": [
       "[('int_rate', 0.29059044),\n",
       " ('term', 0.2521744),\n",
       " ('home_ownership', 0.07468774),\n",
       " ('verification_status', 0.040164072),\n",
       " ('loan_amnt', 0.035998587),\n",
       " ('emp_length', 0.035576593),\n",
       " ('fico_score', 0.03462055),\n",
       " ('dti', 0.033869818),\n",
       " ('annual_inc', 0.027997812),\n",
       " ('funded_amnt', 0.025878254),\n",
       " ('installment', 0.02440904),\n",
       " ('sec_app_fico_score', 0.023788238),\n",
       " ('duration_of_credit_months', 0.023280168),\n",
       " ('verification_status_joint', 0.02024309),\n",
       " ('dti_joint', 0.017553203),\n",
       " ('annual_inc_joint', 0.016324483),\n",
       " ('sec_app_duration_of_credit_months', 0.0162826),\n",
       " ('application_type', 0.0065608653)]"
      ]
     },
     "execution_count": 21,
     "metadata": {},
     "output_type": "execute_result"
    }
   ],
   "source": [
    "filtered_sorted_importance_no = [x for x in sorted_importance_no if x[1]>0.0035]\n",
    "filtered_sorted_importance_no"
   ]
  },
  {
   "cell_type": "code",
   "execution_count": 22,
   "metadata": {},
   "outputs": [
    {
     "data": {
      "text/plain": [
       "['int_rate',\n",
       " 'term',\n",
       " 'home_ownership',\n",
       " 'verification_status',\n",
       " 'loan_amnt',\n",
       " 'emp_length',\n",
       " 'fico_score',\n",
       " 'dti',\n",
       " 'annual_inc',\n",
       " 'funded_amnt',\n",
       " 'installment',\n",
       " 'sec_app_fico_score',\n",
       " 'duration_of_credit_months',\n",
       " 'verification_status_joint',\n",
       " 'dti_joint',\n",
       " 'annual_inc_joint',\n",
       " 'sec_app_duration_of_credit_months',\n",
       " 'application_type']"
      ]
     },
     "execution_count": 22,
     "metadata": {},
     "output_type": "execute_result"
    }
   ],
   "source": [
    "# get list of column names for easier application in the future\n",
    "filter_important = []\n",
    "for tup in filtered_sorted_importance_no:\n",
    "    filter_important.append(tup[0])\n",
    "\n",
    "filter_important"
   ]
  },
  {
   "cell_type": "markdown",
   "metadata": {},
   "source": [
    "# Very Reduced Data"
   ]
  },
  {
   "cell_type": "code",
   "execution_count": 23,
   "metadata": {},
   "outputs": [],
   "source": [
    "acc_vred = pd.read_csv(\"acc_vred.csv.gz\",\n",
    "                       compression='gzip',\n",
    "                       header=0,\n",
    "                       sep=',',\n",
    "                       quotechar='\"')\n"
   ]
  },
  {
   "cell_type": "code",
   "execution_count": 24,
   "metadata": {},
   "outputs": [],
   "source": [
    "# dno grade or subgrade:\n",
    "xtrain_vred, xtest_vred, ytrain_vred, ytest_vred = ms.train_test_split(acc_vred,\n",
    "                                                               target_1_TC,\n",
    "                                                               test_size=0.2,\n",
    "                                                               random_state=state)\n",
    "\n",
    "# Must flatten to fit\n",
    "ytrain_vred = ytrain_vred.values.flatten()"
   ]
  },
  {
   "cell_type": "code",
   "execution_count": 25,
   "metadata": {},
   "outputs": [
    {
     "name": "stdout",
     "output_type": "stream",
     "text": [
      "Wall time: 6.86 s\n",
      "\n",
      "\n",
      "confusion matrix for train set\n",
      "[[70634 37076]\n",
      " [33683 74095]]\n",
      "\n",
      "\n",
      "confusion matrix for test set\n",
      "[[17138  9832]\n",
      " [ 9051 17851]]\n"
     ]
    },
    {
     "data": {
      "text/html": [
       "<div>\n",
       "<style scoped>\n",
       "    .dataframe tbody tr th:only-of-type {\n",
       "        vertical-align: middle;\n",
       "    }\n",
       "\n",
       "    .dataframe tbody tr th {\n",
       "        vertical-align: top;\n",
       "    }\n",
       "\n",
       "    .dataframe thead th {\n",
       "        text-align: right;\n",
       "    }\n",
       "</style>\n",
       "<table border=\"1\" class=\"dataframe\">\n",
       "  <thead>\n",
       "    <tr style=\"text-align: right;\">\n",
       "      <th></th>\n",
       "      <th>TrainScores</th>\n",
       "      <th>TestScores</th>\n",
       "      <th>TrainRMSE</th>\n",
       "      <th>TestRMSE</th>\n",
       "      <th>DiffRMSE</th>\n",
       "      <th>booster</th>\n",
       "      <th>eval_metric</th>\n",
       "      <th>n_jobs</th>\n",
       "      <th>objective</th>\n",
       "      <th>predictor</th>\n",
       "      <th>random_state</th>\n",
       "      <th>tree_method</th>\n",
       "      <th>use_label_encoder</th>\n",
       "    </tr>\n",
       "  </thead>\n",
       "  <tbody>\n",
       "    <tr>\n",
       "      <th>0</th>\n",
       "      <td>0.671634</td>\n",
       "      <td>0.649484</td>\n",
       "      <td>0.573033</td>\n",
       "      <td>0.592044</td>\n",
       "      <td>-0.019011</td>\n",
       "      <td>gbtree</td>\n",
       "      <td>auc</td>\n",
       "      <td>-1</td>\n",
       "      <td>binary:logistic</td>\n",
       "      <td>gpu_predictor</td>\n",
       "      <td>0</td>\n",
       "      <td>gpu_hist</td>\n",
       "      <td>False</td>\n",
       "    </tr>\n",
       "  </tbody>\n",
       "</table>\n",
       "</div>"
      ],
      "text/plain": [
       "   TrainScores  TestScores  TrainRMSE  TestRMSE  DiffRMSE booster eval_metric  \\\n",
       "0     0.671634    0.649484   0.573033  0.592044 -0.019011  gbtree         auc   \n",
       "\n",
       "   n_jobs        objective      predictor  random_state tree_method  \\\n",
       "0      -1  binary:logistic  gpu_predictor             0    gpu_hist   \n",
       "\n",
       "   use_label_encoder  \n",
       "0              False  "
      ]
     },
     "execution_count": 25,
     "metadata": {},
     "output_type": "execute_result"
    }
   ],
   "source": [
    "xgb_clsfr_vred = xgb.XGBClassifier()\n",
    "\n",
    "train_scores = []\n",
    "test_scores = []\n",
    "train_rmse = []\n",
    "test_rmse = []\n",
    "best_par_list = []\n",
    "\n",
    "objective_ = ['binary:logistic']\n",
    "evalmetric = ['auc']\n",
    "uselabelencoder = [False]\n",
    "treemethod = ['gpu_hist']\n",
    "predictor_ = ['gpu_predictor']\n",
    "njobs = [-1]\n",
    "randomstate = [state]\n",
    "booster_ = ['gbtree']\n",
    "\n",
    "# nestimators = [100]\n",
    "# minchildweight = [1, 5]\n",
    "# maxdepth = [1, 3]\n",
    "# learningrate = [0.1, 1]\n",
    "# gamma_ = [0.5, 2]\n",
    "# subsample_ = [0.8, 1]\n",
    "# colsamplebytree = [0.8, 1]\n",
    "\n",
    "\n",
    "gparam_xgb_vred = {'objective': objective_,\n",
    "                 'eval_metric': evalmetric,\n",
    "                 'use_label_encoder': uselabelencoder,\n",
    "                 'tree_method': treemethod,\n",
    "                 'predictor': predictor_,\n",
    "                 'n_jobs': njobs,\n",
    "                 'booster': booster_,\n",
    "#               'n_estimators': nestimators,\n",
    "#               'min_child_weight': minchildweight,\n",
    "#               'max_depth': maxdepth,\n",
    "#               'learning_rate': learningrate,\n",
    "#               'gamma': gamma_,\n",
    "#               'subsample': subsample_,\n",
    "#               'colsample_bytree': colsamplebytree,\n",
    "                 'random_state': randomstate}\n",
    "\n",
    "\n",
    "gs_xgb_vred = ms.GridSearchCV(xgb_clsfr_vred, gparam_xgb_vred, cv=n_folds, refit=True, n_jobs=-1,\n",
    "                          scoring='roc_auc', return_train_score=True)\n",
    "\n",
    "%time gs_xgb_vred.fit(xtrain_vred, ytrain_vred)\n",
    "\n",
    "# setting up dataframe for results\n",
    "train_scores.append(gs_xgb_vred.best_estimator_.score(xtrain_vred, ytrain_vred))\n",
    "test_scores.append(gs_xgb_vred.best_estimator_.score(xtest_vred, ytest_vred))\n",
    "\n",
    "\n",
    "# use rmse function from Self_Written_Functions_Sheet_Recover\n",
    "train_rmse.append(rmse(gs_xgb_vred, ytrain_vred, xtrain_vred))\n",
    "test_rmse.append(rmse(gs_xgb_vred, ytest_vred, xtest_vred))\n",
    "\n",
    "# add the best parameters to the df\n",
    "best_par_list.append(gs_xgb_vred.best_params_)\n",
    "\n",
    "# find the difference btwn the rmses\n",
    "diff_rmse = np.subtract(train_rmse, test_rmse)\n",
    "\n",
    "# create dataframe\n",
    "list_results = [train_scores, test_scores, train_rmse, test_rmse, diff_rmse]\n",
    "res_df = pd.DataFrame(list_results).T\n",
    "res_df.columns = ['TrainScores', 'TestScores', 'TrainRMSE', 'TestRMSE', 'DiffRMSE']\n",
    "best_par_df = pd.DataFrame(best_par_list)\n",
    "res_df = pd.concat([res_df, best_par_df], axis=1, sort=False)\n",
    "\n",
    "# confusion matrix for train set\n",
    "print('\\n')\n",
    "print('confusion matrix for train set')\n",
    "print(confusion_matrix(ytrain_vred, gs_xgb_vred.predict(xtrain_vred)))\n",
    "\n",
    "# confusion matrix for test set\n",
    "print('\\n')\n",
    "print('confusion matrix for test set')\n",
    "print(confusion_matrix(ytest_vred, gs_xgb_vred.predict(xtest_vred)))\n",
    "\n",
    "res_df"
   ]
  },
  {
   "cell_type": "code",
   "execution_count": 26,
   "metadata": {},
   "outputs": [
    {
     "data": {
      "text/plain": [
       "[('int_rate', 0.3617245),\n",
       " ('term', 0.35167125),\n",
       " ('home_ownership', 0.09682313),\n",
       " ('all_util', 0.053307217),\n",
       " ('annual_inc', 0.04791027),\n",
       " ('fico_score', 0.045162834),\n",
       " ('loan_amnt', 0.043400776)]"
      ]
     },
     "execution_count": 26,
     "metadata": {},
     "output_type": "execute_result"
    }
   ],
   "source": [
    "sorted_importance_vred = sorted(zip(xtrain_vred.columns,\n",
    "                               gs_xgb_vred.best_estimator_.feature_importances_),\n",
    "                           key=lambda t:t[1], reverse=True)\n",
    "sorted_importance_vred"
   ]
  },
  {
   "cell_type": "code",
   "execution_count": 27,
   "metadata": {},
   "outputs": [
    {
     "name": "stdout",
     "output_type": "stream",
     "text": [
      "Average precision-recall score for random forest: 0.60\n"
     ]
    }
   ],
   "source": [
    "from sklearn.metrics import average_precision_score\n",
    "average_precision = average_precision_score(ytest_vred, gs_xgb_vred.predict(xtest_vred))\n",
    "\n",
    "print('Average precision-recall score for random forest: {0:0.2f}'.format(\n",
    "      average_precision))"
   ]
  },
  {
   "cell_type": "code",
   "execution_count": 28,
   "metadata": {},
   "outputs": [
    {
     "data": {
      "text/plain": [
       "Text(0.5, 1.0, '2-class Precision-Recall curve for random forest: AP=0.60')"
      ]
     },
     "execution_count": 28,
     "metadata": {},
     "output_type": "execute_result"
    },
    {
     "data": {
      "image/png": "[encoded data removed]",
      "text/plain": [
       "<Figure size 432x288 with 1 Axes>"
      ]
     },
     "metadata": {
      "needs_background": "light"
     },
     "output_type": "display_data"
    }
   ],
   "source": [
    "# Precision-Recall curve\n",
    "# https://scikit-learn.org/stable/auto_examples/model_selection/plot_precision_recall.html\n",
    "\n",
    "from sklearn.metrics import precision_recall_curve\n",
    "from sklearn.metrics import plot_precision_recall_curve\n",
    "\n",
    "disp = plot_precision_recall_curve(gs_xgb_vred, xtest_vred, ytest_vred)\n",
    "disp.ax_.set_title('2-class Precision-Recall curve for random forest: '\n",
    "                   'AP={0:0.2f}'.format(average_precision))"
   ]
  },
  {
   "cell_type": "code",
   "execution_count": 29,
   "metadata": {},
   "outputs": [
    {
     "name": "stdout",
     "output_type": "stream",
     "text": [
      "Random forest performance\n",
      "----------------------------------------------------------------------\n",
      "F1 score: 0.65\n",
      "recall score: 0.66\n",
      "precision score: 0.64\n"
     ]
    }
   ],
   "source": [
    "# F1 score \n",
    "# F1 = 2 * (precision * recall) / (precision + recall)\n",
    "\n",
    "f1_score = metrics.f1_score(ytest_vred, gs_xgb_vred.predict(xtest_vred))\n",
    "recall_score = metrics.recall_score(ytest_vred, gs_xgb_vred.predict(xtest_vred))\n",
    "precision_score = metrics.precision_score(ytest_vred, gs_xgb_vred.predict(xtest_vred))\n",
    "print (\"Random forest performance\")\n",
    "print ('-'*70)\n",
    "print('F1 score: {0:0.2f}'.format(f1_score))\n",
    "print('recall score: {0:0.2f}'.format(recall_score))\n",
    "print('precision score: {0:0.2f}'.format(precision_score))"
   ]
  },
  {
   "cell_type": "code",
   "execution_count": 30,
   "metadata": {},
   "outputs": [
    {
     "name": "stdout",
     "output_type": "stream",
     "text": [
      "Random forest ROC-AUC score\n",
      "----------------------------------------------------------------------\n"
     ]
    },
    {
     "data": {
      "text/plain": [
       "0.6495017028119503"
      ]
     },
     "execution_count": 30,
     "metadata": {},
     "output_type": "execute_result"
    }
   ],
   "source": [
    "# ROC-AUC score\n",
    "# https://scikit-learn.org/stable/modules/generated/sklearn.metrics.roc_auc_score.html#sklearn.metrics.roc_auc_score\n",
    "\n",
    "from sklearn.metrics import roc_auc_score\n",
    "print (\"Random forest ROC-AUC score\")\n",
    "print ('-'*70)\n",
    "roc_auc_score(ytest_vred, gs_xgb_vred.predict(xtest_vred))"
   ]
  },
  {
   "cell_type": "code",
   "execution_count": 31,
   "metadata": {},
   "outputs": [
    {
     "data": {
      "text/plain": [
       "<sklearn.metrics._plot.roc_curve.RocCurveDisplay at 0x178c415d4c0>"
      ]
     },
     "execution_count": 31,
     "metadata": {},
     "output_type": "execute_result"
    },
    {
     "data": {
      "image/png": "[encoded data removed]",
      "text/plain": [
       "<Figure size 432x288 with 1 Axes>"
      ]
     },
     "metadata": {
      "needs_background": "light"
     },
     "output_type": "display_data"
    }
   ],
   "source": [
    "# Receiver operating characteristic (ROC) curve\n",
    "# https://scikit-learn.org/stable/modules/generated/sklearn.metrics.plot_roc_curve.html#sklearn.metrics.plot_roc_curve\n",
    "\n",
    "from sklearn import metrics\n",
    "metrics.plot_roc_curve(gs_xgb_vred.best_estimator_, xtest_vred, ytest_vred) "
   ]
  },
  {
   "cell_type": "code",
   "execution_count": 32,
   "metadata": {},
   "outputs": [
    {
     "data": {
      "text/plain": [
       "[('int_rate', 0.3617245),\n",
       " ('term', 0.35167125),\n",
       " ('home_ownership', 0.09682313),\n",
       " ('all_util', 0.053307217),\n",
       " ('annual_inc', 0.04791027),\n",
       " ('fico_score', 0.045162834),\n",
       " ('loan_amnt', 0.043400776)]"
      ]
     },
     "execution_count": 32,
     "metadata": {},
     "output_type": "execute_result"
    }
   ],
   "source": [
    "filtered_sorted_importance_vred = [x for x in sorted_importance_vred if x[1]>0.0035]\n",
    "filtered_sorted_importance_vred"
   ]
  },
  {
   "cell_type": "code",
   "execution_count": 33,
   "metadata": {
    "scrolled": true
   },
   "outputs": [
    {
     "data": {
      "text/plain": [
       "['int_rate',\n",
       " 'term',\n",
       " 'home_ownership',\n",
       " 'all_util',\n",
       " 'annual_inc',\n",
       " 'fico_score',\n",
       " 'loan_amnt']"
      ]
     },
     "execution_count": 33,
     "metadata": {},
     "output_type": "execute_result"
    }
   ],
   "source": [
    "# get list of column names for easier application in the future\n",
    "filter_important = []\n",
    "for tup in filtered_sorted_importance_vred:\n",
    "    filter_important.append(tup[0])\n",
    "\n",
    "filter_important"
   ]
  },
  {
   "cell_type": "code",
   "execution_count": null,
   "metadata": {},
   "outputs": [],
   "source": []
  },
  {
   "cell_type": "code",
   "execution_count": null,
   "metadata": {},
   "outputs": [],
   "source": []
  },
  {
   "cell_type": "code",
   "execution_count": null,
   "metadata": {},
   "outputs": [],
   "source": []
  },
  {
   "cell_type": "code",
   "execution_count": null,
   "metadata": {},
   "outputs": [],
   "source": []
  },
  {
   "cell_type": "code",
   "execution_count": null,
   "metadata": {},
   "outputs": [],
   "source": []
  },
  {
   "cell_type": "code",
   "execution_count": null,
   "metadata": {},
   "outputs": [],
   "source": []
  },
  {
   "cell_type": "code",
   "execution_count": null,
   "metadata": {},
   "outputs": [],
   "source": []
  },
  {
   "cell_type": "code",
   "execution_count": null,
   "metadata": {},
   "outputs": [],
   "source": []
  },
  {
   "cell_type": "code",
   "execution_count": null,
   "metadata": {},
   "outputs": [],
   "source": []
  },
  {
   "cell_type": "code",
   "execution_count": null,
   "metadata": {},
   "outputs": [],
   "source": []
  }
 ],
 "metadata": {
  "kernelspec": {
   "display_name": "Python 3",
   "language": "python",
   "name": "python3"
  },
  "language_info": {
   "codemirror_mode": {
    "name": "ipython",
    "version": 3
   },
   "file_extension": ".py",
   "mimetype": "text/x-python",
   "name": "python",
   "nbconvert_exporter": "python",
   "pygments_lexer": "ipython3",
   "version": "3.8.5"
  }
 },
 "nbformat": 4,
 "nbformat_minor": 4
}
