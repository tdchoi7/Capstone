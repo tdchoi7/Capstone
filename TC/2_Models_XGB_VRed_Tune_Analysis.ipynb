{
 "cells": [
  {
   "cell_type": "code",
   "execution_count": 1,
   "metadata": {},
   "outputs": [
    {
     "name": "stdout",
     "output_type": "stream",
     "text": [
      "importing Jupyter notebook from My_Functions.ipynb\n"
     ]
    }
   ],
   "source": [
    "import numpy as np\n",
    "import pandas as pd\n",
    "pd.set_option('display.max_columns', None)\n",
    "\n",
    "from matplotlib import pyplot as plt\n",
    "\n",
    "from sklearn import model_selection as ms\n",
    "from sklearn.linear_model import LogisticRegression\n",
    "from sklearn import metrics\n",
    "from sklearn.metrics import confusion_matrix\n",
    "from sklearn.ensemble import GradientBoostingClassifier\n",
    "\n",
    "import xgboost as xgb\n",
    "\n",
    "import gzip\n",
    "\n",
    "import copy\n",
    "\n",
    "import import_ipynb\n",
    "from My_Functions import null_cols, rmse"
   ]
  },
  {
   "cell_type": "code",
   "execution_count": 2,
   "metadata": {},
   "outputs": [],
   "source": [
    "acc_vred = pd.read_csv(\"acc_vred.csv.gz\",\n",
    "                                      compression='gzip',\n",
    "                                      header=0,\n",
    "                                      sep=',',\n",
    "                                      quotechar='\"')\n",
    "\n",
    "acc_full = pd.read_csv(\"acc_2_train_final.csv.gz\",\n",
    "                                      compression='gzip',\n",
    "                                      header=0,\n",
    "                                      sep=',',\n",
    "                                      quotechar='\"')\n",
    "\n",
    "\n",
    "target_2_train = pd.read_csv(\"target_2_train_final.csv.gz\",\n",
    "                                         compression='gzip',\n",
    "                                         header=0,\n",
    "                                         sep=',',\n",
    "                                         quotechar='\"')"
   ]
  },
  {
   "cell_type": "code",
   "execution_count": 3,
   "metadata": {},
   "outputs": [],
   "source": [
    "# separate 'total_pymnt'\n",
    "\n",
    "ttlpy_vred = copy.deepcopy(acc_full[['total_pymnt']])"
   ]
  },
  {
   "cell_type": "code",
   "execution_count": 4,
   "metadata": {},
   "outputs": [],
   "source": [
    "state=0\n",
    "\n",
    "# downsampled:\n",
    "xtrain, xtest, ytrain, ytest = ms.train_test_split(acc_vred,\n",
    "                                                   target_2_train,\n",
    "                                                   test_size=0.2,\n",
    "                                                   random_state=state)\n",
    "\n",
    "# Must flatten to fit\n",
    "ytrain = ytrain.values.flatten()\n",
    "\n",
    "\n",
    "# using standard kfold split\n",
    "n_folds = ms.KFold(n_splits=5, random_state=state, shuffle=True)"
   ]
  },
  {
   "cell_type": "markdown",
   "metadata": {},
   "source": [
    "## Downsampled Data"
   ]
  },
  {
   "cell_type": "code",
   "execution_count": 5,
   "metadata": {
    "scrolled": true
   },
   "outputs": [
    {
     "name": "stdout",
     "output_type": "stream",
     "text": [
      "Fitting 5 folds for each of 1 candidates, totalling 5 fits\n",
      "Wall time: 7.72 s\n",
      "\n",
      "\n",
      "confusion matrix for train set\n",
      "[[69562 38148]\n",
      " [34389 73389]]\n",
      "\n",
      "\n",
      "confusion matrix for test set\n",
      "[[17100  9870]\n",
      " [ 8822 18080]]\n"
     ]
    },
    {
     "data": {
      "text/html": [
       "<div>\n",
       "<style scoped>\n",
       "    .dataframe tbody tr th:only-of-type {\n",
       "        vertical-align: middle;\n",
       "    }\n",
       "\n",
       "    .dataframe tbody tr th {\n",
       "        vertical-align: top;\n",
       "    }\n",
       "\n",
       "    .dataframe thead th {\n",
       "        text-align: right;\n",
       "    }\n",
       "</style>\n",
       "<table border=\"1\" class=\"dataframe\">\n",
       "  <thead>\n",
       "    <tr style=\"text-align: right;\">\n",
       "      <th></th>\n",
       "      <th>TrainScores</th>\n",
       "      <th>TestScores</th>\n",
       "      <th>TrainRMSE</th>\n",
       "      <th>TestRMSE</th>\n",
       "      <th>DiffRMSE</th>\n",
       "      <th>booster</th>\n",
       "      <th>colsample_bytree</th>\n",
       "      <th>eval_metric</th>\n",
       "      <th>gamma</th>\n",
       "      <th>learning_rate</th>\n",
       "      <th>max_depth</th>\n",
       "      <th>min_child_weight</th>\n",
       "      <th>n_estimators</th>\n",
       "      <th>n_jobs</th>\n",
       "      <th>objective</th>\n",
       "      <th>predictor</th>\n",
       "      <th>random_state</th>\n",
       "      <th>subsample</th>\n",
       "      <th>tree_method</th>\n",
       "      <th>use_label_encoder</th>\n",
       "    </tr>\n",
       "  </thead>\n",
       "  <tbody>\n",
       "    <tr>\n",
       "      <th>0</th>\n",
       "      <td>0.663383</td>\n",
       "      <td>0.653029</td>\n",
       "      <td>0.580187</td>\n",
       "      <td>0.589042</td>\n",
       "      <td>-0.008855</td>\n",
       "      <td>gbtree</td>\n",
       "      <td>0.7</td>\n",
       "      <td>auc</td>\n",
       "      <td>1.5</td>\n",
       "      <td>0.05</td>\n",
       "      <td>6</td>\n",
       "      <td>10</td>\n",
       "      <td>200</td>\n",
       "      <td>-1</td>\n",
       "      <td>binary:logistic</td>\n",
       "      <td>gpu_predictor</td>\n",
       "      <td>0</td>\n",
       "      <td>0.8</td>\n",
       "      <td>gpu_hist</td>\n",
       "      <td>False</td>\n",
       "    </tr>\n",
       "  </tbody>\n",
       "</table>\n",
       "</div>"
      ],
      "text/plain": [
       "   TrainScores  TestScores  TrainRMSE  TestRMSE  DiffRMSE booster  \\\n",
       "0     0.663383    0.653029   0.580187  0.589042 -0.008855  gbtree   \n",
       "\n",
       "   colsample_bytree eval_metric  gamma  learning_rate  max_depth  \\\n",
       "0               0.7         auc    1.5           0.05          6   \n",
       "\n",
       "   min_child_weight  n_estimators  n_jobs        objective      predictor  \\\n",
       "0                10           200      -1  binary:logistic  gpu_predictor   \n",
       "\n",
       "   random_state  subsample tree_method  use_label_encoder  \n",
       "0             0        0.8    gpu_hist              False  "
      ]
     },
     "execution_count": 5,
     "metadata": {},
     "output_type": "execute_result"
    }
   ],
   "source": [
    "xgb_clsfr = xgb.XGBClassifier()\n",
    "\n",
    "train_scores = []\n",
    "test_scores = []\n",
    "train_rmse = []\n",
    "test_rmse = []\n",
    "best_par_list = []\n",
    "\n",
    "objective_ = ['binary:logistic']\n",
    "evalmetric = ['auc']\n",
    "uselabelencoder = [False]\n",
    "treemethod = ['gpu_hist']\n",
    "predictor_ = ['gpu_predictor']\n",
    "njobs = [-1]\n",
    "randomstate = [state]\n",
    "booster_ = ['gbtree']\n",
    "\n",
    "nestimators = [200]\n",
    "minchildweight = [10]\n",
    "maxdepth = [6]\n",
    "learningrate = [0.05]\n",
    "gamma_ = [1.5]\n",
    "subsample_ = [0.8]\n",
    "colsamplebytree = [0.7]\n",
    "\n",
    "\n",
    "gparam_xgb = {'objective': objective_,\n",
    "                 'eval_metric': evalmetric,\n",
    "                 'use_label_encoder': uselabelencoder,\n",
    "                 'tree_method': treemethod,\n",
    "                 'predictor': predictor_,\n",
    "                 'n_jobs': njobs,\n",
    "                 'booster': booster_,\n",
    "                 'n_estimators': nestimators,\n",
    "                 'min_child_weight': minchildweight,\n",
    "                 'max_depth': maxdepth,\n",
    "                 'learning_rate': learningrate,\n",
    "                 'gamma': gamma_,\n",
    "                 'subsample': subsample_,\n",
    "                 'colsample_bytree': colsamplebytree,\n",
    "                 'random_state': randomstate}\n",
    "\n",
    "\n",
    "gs_xgb = ms.GridSearchCV(xgb_clsfr, gparam_xgb, cv=n_folds, refit=True,\n",
    "                          scoring='roc_auc', return_train_score=True, verbose=1)\n",
    "\n",
    "%time gs_xgb.fit(xtrain, ytrain)\n",
    "\n",
    "# setting up dataframe for results\n",
    "train_scores.append(gs_xgb.best_estimator_.score(xtrain, ytrain))\n",
    "test_scores.append(gs_xgb.best_estimator_.score(xtest, ytest))\n",
    "\n",
    "\n",
    "# use rmse function from Self_Written_Functions_Sheet_Recover\n",
    "train_rmse.append(rmse(gs_xgb, ytrain, xtrain))\n",
    "test_rmse.append(rmse(gs_xgb, ytest, xtest))\n",
    "\n",
    "# add the best parameters to the df\n",
    "best_par_list.append(gs_xgb.best_params_)\n",
    "\n",
    "# find the difference btwn the rmses\n",
    "diff_rmse = np.subtract(train_rmse, test_rmse)\n",
    "\n",
    "# create dataframe\n",
    "list_results = [train_scores, test_scores, train_rmse, test_rmse, diff_rmse]\n",
    "res_df = pd.DataFrame(list_results).T\n",
    "res_df.columns = ['TrainScores', 'TestScores', 'TrainRMSE', 'TestRMSE', 'DiffRMSE']\n",
    "best_par_df = pd.DataFrame(best_par_list)\n",
    "res_df = pd.concat([res_df, best_par_df], axis=1, sort=False)\n",
    "\n",
    "# confusion matrix for train set\n",
    "print('\\n')\n",
    "print('confusion matrix for train set')\n",
    "print(confusion_matrix(ytrain, gs_xgb.predict(xtrain)))\n",
    "\n",
    "# confusion matrix for test set\n",
    "print('\\n')\n",
    "print('confusion matrix for test set')\n",
    "print(confusion_matrix(ytest, gs_xgb.predict(xtest)))\n",
    "\n",
    "res_df"
   ]
  },
  {
   "cell_type": "code",
   "execution_count": 6,
   "metadata": {
    "scrolled": true
   },
   "outputs": [
    {
     "data": {
      "text/plain": [
       "0.7129892360296266"
      ]
     },
     "execution_count": 6,
     "metadata": {},
     "output_type": "execute_result"
    }
   ],
   "source": [
    "gs_xgb.best_score_"
   ]
  },
  {
   "cell_type": "markdown",
   "metadata": {},
   "source": [
    "# Getting the indices of the rows for confusion matrix\n",
    "\n",
    "https://stackoverflow.com/questions/50094999/how-to-return-an-array-of-false-positives-from-a-confusion-matrix-in-scikit-lear"
   ]
  },
  {
   "cell_type": "code",
   "execution_count": 7,
   "metadata": {},
   "outputs": [],
   "source": [
    "ypred = gs_xgb.predict(xtest)\n",
    "\n",
    "ypred = ypred.reshape(53872, 1)"
   ]
  },
  {
   "cell_type": "code",
   "execution_count": 8,
   "metadata": {},
   "outputs": [],
   "source": [
    "# predicted as default and actually default\n",
    "true_pos = np.logical_and(ytest == ypred, ypred == 1)\n",
    "\n",
    "# predicted as default, but fully paid\n",
    "false_pos = np.logical_and(ytest != ypred, ypred == 1)\n",
    "\n",
    "# predicted as paid off and actually paid off\n",
    "true_neg = np.logical_and(ytest == ypred, ypred == 0)\n",
    "\n",
    "# predicted as paid off, but default\n",
    "false_neg = np.logical_and(ytest != ypred, ypred == 0)\n",
    "\n",
    "# getting indices of the above\n",
    "true_pos_index = list(true_pos[true_pos['loan_status_binary']==True].index)\n",
    "\n",
    "false_pos_index = list(false_pos[false_pos['loan_status_binary']==True].index)\n",
    "\n",
    "true_neg_index = list(true_neg[true_neg['loan_status_binary']==True].index)\n",
    "\n",
    "false_neg_index = list(false_neg[false_neg['loan_status_binary']==True].index)"
   ]
  },
  {
   "cell_type": "code",
   "execution_count": 9,
   "metadata": {},
   "outputs": [
    {
     "data": {
      "text/plain": [
       "[225918,\n",
       " 208257,\n",
       " 265580,\n",
       " 192904,\n",
       " 153676,\n",
       " 230512,\n",
       " 220304,\n",
       " 230302,\n",
       " 214937,\n",
       " 217829,\n",
       " 242326,\n",
       " 225759,\n",
       " 137164,\n",
       " 158284,\n",
       " 205268,\n",
       " 199424,\n",
       " 137257,\n",
       " 142642,\n",
       " 200383,\n",
       " 199062,\n",
       " 172796,\n",
       " 219032,\n",
       " 223488,\n",
       " 200394,\n",
       " 260081,\n",
       " 209633,\n",
       " 228498,\n",
       " 218396,\n",
       " 216678,\n",
       " 175476,\n",
       " 145686,\n",
       " 148553,\n",
       " 146791,\n",
       " 247803,\n",
       " 196234,\n",
       " 216113,\n",
       " 147681,\n",
       " 135099,\n",
       " 252343,\n",
       " 144692,\n",
       " 206524,\n",
       " 189067,\n",
       " 157820,\n",
       " 237525,\n",
       " 203242,\n",
       " 171286,\n",
       " 144352,\n",
       " 236370,\n",
       " 231490,\n",
       " 142749,\n",
       " 238937,\n",
       " 238413,\n",
       " 239622,\n",
       " 254780,\n",
       " 248565,\n",
       " 177577,\n",
       " 220174,\n",
       " 266105,\n",
       " 148651,\n",
       " 181158,\n",
       " 201773,\n",
       " 238407,\n",
       " 201731,\n",
       " 183871,\n",
       " 145528,\n",
       " 189831,\n",
       " 141664,\n",
       " 228811,\n",
       " 180219,\n",
       " 197668,\n",
       " 268639,\n",
       " 256293,\n",
       " 218678,\n",
       " 169463,\n",
       " 246664,\n",
       " 213974,\n",
       " 230628,\n",
       " 147990,\n",
       " 189556,\n",
       " 168389,\n",
       " 230559,\n",
       " 220866,\n",
       " 253364,\n",
       " 169551,\n",
       " 141013,\n",
       " 245986,\n",
       " 218151,\n",
       " 221257,\n",
       " 139802,\n",
       " 155106,\n",
       " 170281,\n",
       " 197635,\n",
       " 144704,\n",
       " 262652,\n",
       " 259914,\n",
       " 197652,\n",
       " 267157,\n",
       " 203382,\n",
       " 178165,\n",
       " 225213,\n",
       " 166476,\n",
       " 261173,\n",
       " 171962,\n",
       " 190196,\n",
       " 228598,\n",
       " 221474,\n",
       " 168303,\n",
       " 205402,\n",
       " 176094,\n",
       " 232738,\n",
       " 171431,\n",
       " 225409,\n",
       " 148177,\n",
       " 221413,\n",
       " 220531,\n",
       " 204270,\n",
       " 209660,\n",
       " 227613,\n",
       " 238166,\n",
       " 166887,\n",
       " 248700,\n",
       " 212059,\n",
       " 146829,\n",
       " 251087,\n",
       " 172726,\n",
       " 165257,\n",
       " 176206,\n",
       " 138519,\n",
       " 138987,\n",
       " 183993,\n",
       " 233721,\n",
       " 238913,\n",
       " 224083,\n",
       " 162365,\n",
       " 135264,\n",
       " 219714,\n",
       " 208159,\n",
       " 180261,\n",
       " 209140,\n",
       " 248619,\n",
       " 269187,\n",
       " 259835,\n",
       " 156778,\n",
       " 193329,\n",
       " 167162,\n",
       " 206729,\n",
       " 158407,\n",
       " 164557,\n",
       " 248166,\n",
       " 160279,\n",
       " 209082,\n",
       " 242568,\n",
       " 186101,\n",
       " 150519,\n",
       " 169482,\n",
       " 225708,\n",
       " 221401,\n",
       " 225368,\n",
       " 147202,\n",
       " 211752,\n",
       " 151400,\n",
       " 241553,\n",
       " 237407,\n",
       " 221025,\n",
       " 185822,\n",
       " 208061,\n",
       " 211366,\n",
       " 137809,\n",
       " 139081,\n",
       " 169988,\n",
       " 163284,\n",
       " 232930,\n",
       " 157679,\n",
       " 248940,\n",
       " 177579,\n",
       " 164961,\n",
       " 221802,\n",
       " 168380,\n",
       " 233547,\n",
       " 200916,\n",
       " 151192,\n",
       " 155071,\n",
       " 209698,\n",
       " 172745,\n",
       " 186550,\n",
       " 153750,\n",
       " 265165,\n",
       " 240113,\n",
       " 215463,\n",
       " 170848,\n",
       " 252817,\n",
       " 163334,\n",
       " 141538,\n",
       " 217550,\n",
       " 178402,\n",
       " 206231,\n",
       " 237172,\n",
       " 257118,\n",
       " 137059,\n",
       " 225062,\n",
       " 147631,\n",
       " 220215,\n",
       " 135387,\n",
       " 240093,\n",
       " 268036,\n",
       " 242110,\n",
       " 190404,\n",
       " 251146,\n",
       " 228843,\n",
       " 140145,\n",
       " 250388,\n",
       " 203268,\n",
       " 239007,\n",
       " 135102,\n",
       " 250057,\n",
       " 228788,\n",
       " 216207,\n",
       " 220713,\n",
       " 250356,\n",
       " 250405,\n",
       " 150183,\n",
       " 182334,\n",
       " 228787,\n",
       " 213387,\n",
       " 251003,\n",
       " 141907,\n",
       " 262886,\n",
       " 149333,\n",
       " 183676,\n",
       " 155786,\n",
       " 177962,\n",
       " 145671,\n",
       " 149809,\n",
       " 222155,\n",
       " 257993,\n",
       " 258784,\n",
       " 177902,\n",
       " 206191,\n",
       " 217983,\n",
       " 237113,\n",
       " 166154,\n",
       " 236235,\n",
       " 266719,\n",
       " 247921,\n",
       " 154371,\n",
       " 206858,\n",
       " 244971,\n",
       " 164763,\n",
       " 197573,\n",
       " 241372,\n",
       " 208858,\n",
       " 183697,\n",
       " 205855,\n",
       " 134847,\n",
       " 171275,\n",
       " 226655,\n",
       " 162205,\n",
       " 171868,\n",
       " 186992,\n",
       " 229081,\n",
       " 138399,\n",
       " 196495,\n",
       " 215707,\n",
       " 139303,\n",
       " 226546,\n",
       " 180640,\n",
       " 164654,\n",
       " 249603,\n",
       " 167958,\n",
       " 174523,\n",
       " 227316,\n",
       " 186805,\n",
       " 186475,\n",
       " 259687,\n",
       " 171405,\n",
       " 198420,\n",
       " 210091,\n",
       " 191087,\n",
       " 178870,\n",
       " 177486,\n",
       " 146133,\n",
       " 189884,\n",
       " 225297,\n",
       " 222119,\n",
       " 157053,\n",
       " 238026,\n",
       " 145101,\n",
       " 164417,\n",
       " 210479,\n",
       " 189262,\n",
       " 176694,\n",
       " 158871,\n",
       " 172948,\n",
       " 223876,\n",
       " 247539,\n",
       " 180103,\n",
       " 158900,\n",
       " 257577,\n",
       " 230213,\n",
       " 244141,\n",
       " 171377,\n",
       " 174282,\n",
       " 204088,\n",
       " 157388,\n",
       " 163053,\n",
       " 165592,\n",
       " 151222,\n",
       " 215456,\n",
       " 256796,\n",
       " 147300,\n",
       " 235877,\n",
       " 259532,\n",
       " 229906,\n",
       " 249160,\n",
       " 250423,\n",
       " 246705,\n",
       " 158151,\n",
       " 261010,\n",
       " 186759,\n",
       " 208806,\n",
       " 142845,\n",
       " 218127,\n",
       " 201506,\n",
       " 221114,\n",
       " 151598,\n",
       " 188849,\n",
       " 204012,\n",
       " 169560,\n",
       " 136169,\n",
       " 183360,\n",
       " 181128,\n",
       " 265571,\n",
       " 242544,\n",
       " 171086,\n",
       " 147610,\n",
       " 230406,\n",
       " 217078,\n",
       " 223752,\n",
       " 218653,\n",
       " 158649,\n",
       " 231046,\n",
       " 158980,\n",
       " 225168,\n",
       " 160360,\n",
       " 218808,\n",
       " 245881,\n",
       " 235729,\n",
       " 156287,\n",
       " 169514,\n",
       " 260750,\n",
       " 238064,\n",
       " 261474,\n",
       " 225491,\n",
       " 147840,\n",
       " 149706,\n",
       " 147903,\n",
       " 246241,\n",
       " 201524,\n",
       " 263168,\n",
       " 140049,\n",
       " 176606,\n",
       " 237535,\n",
       " 159574,\n",
       " 137556,\n",
       " 136289,\n",
       " 247424,\n",
       " 200065,\n",
       " 142732,\n",
       " 233199,\n",
       " 155551,\n",
       " 262755,\n",
       " 250082,\n",
       " 172665,\n",
       " 221115,\n",
       " 254102,\n",
       " 161589,\n",
       " 140813,\n",
       " 243416,\n",
       " 187720,\n",
       " 263728,\n",
       " 168776,\n",
       " 250508,\n",
       " 203075,\n",
       " 223386,\n",
       " 227470,\n",
       " 264711,\n",
       " 193096,\n",
       " 188164,\n",
       " 195457,\n",
       " 155153,\n",
       " 201229,\n",
       " 156084,\n",
       " 162617,\n",
       " 240738,\n",
       " 155052,\n",
       " 137623,\n",
       " 243404,\n",
       " 182368,\n",
       " 189191,\n",
       " 215523,\n",
       " 228473,\n",
       " 145793,\n",
       " 191956,\n",
       " 214810,\n",
       " 169318,\n",
       " 177751,\n",
       " 162752,\n",
       " 258786,\n",
       " 141771,\n",
       " 152002,\n",
       " 236057,\n",
       " 186065,\n",
       " 235921,\n",
       " 148427,\n",
       " 178317,\n",
       " 176850,\n",
       " 163627,\n",
       " 140197,\n",
       " 141276,\n",
       " 143368,\n",
       " 202771,\n",
       " 177345,\n",
       " 230476,\n",
       " 247097,\n",
       " 224448,\n",
       " 251456,\n",
       " 172996,\n",
       " 143394,\n",
       " 155923,\n",
       " 189888,\n",
       " 161190,\n",
       " 141438,\n",
       " 213358,\n",
       " 259778,\n",
       " 250079,\n",
       " 139276,\n",
       " 267566,\n",
       " 187418,\n",
       " 200561,\n",
       " 240891,\n",
       " 147201,\n",
       " 219880,\n",
       " 245952,\n",
       " 192221,\n",
       " 210507,\n",
       " 221870,\n",
       " 159887,\n",
       " 141238,\n",
       " 134871,\n",
       " 217500,\n",
       " 162373,\n",
       " 233428,\n",
       " 176831,\n",
       " 147465,\n",
       " 214552,\n",
       " 236221,\n",
       " 168835,\n",
       " 151526,\n",
       " 206253,\n",
       " 223460,\n",
       " 134733,\n",
       " 213260,\n",
       " 261907,\n",
       " 256778,\n",
       " 229141,\n",
       " 168431,\n",
       " 148410,\n",
       " 206828,\n",
       " 230082,\n",
       " 165602,\n",
       " 180550,\n",
       " 159441,\n",
       " 158398,\n",
       " 234499,\n",
       " 165344,\n",
       " 149257,\n",
       " 166102,\n",
       " 184091,\n",
       " 175529,\n",
       " 170807,\n",
       " 233883,\n",
       " 249054,\n",
       " 149714,\n",
       " 165249,\n",
       " 209972,\n",
       " 211615,\n",
       " 150897,\n",
       " 265515,\n",
       " 143915,\n",
       " 222684,\n",
       " 149133,\n",
       " 181547,\n",
       " 212279,\n",
       " 187798,\n",
       " 237710,\n",
       " 229348,\n",
       " 239719,\n",
       " 147578,\n",
       " 213366,\n",
       " 179245,\n",
       " 245190,\n",
       " 260352,\n",
       " 191010,\n",
       " 155054,\n",
       " 237565,\n",
       " 136985,\n",
       " 251129,\n",
       " 214449,\n",
       " 231578,\n",
       " 167979,\n",
       " 235738,\n",
       " 181477,\n",
       " 201438,\n",
       " 137299,\n",
       " 197949,\n",
       " 238214,\n",
       " 189570,\n",
       " 137192,\n",
       " 211739,\n",
       " 172256,\n",
       " 172963,\n",
       " 140915,\n",
       " 238115,\n",
       " 141988,\n",
       " 175521,\n",
       " 249935,\n",
       " 165919,\n",
       " 179667,\n",
       " 262379,\n",
       " 135191,\n",
       " 230839,\n",
       " 183347,\n",
       " 245833,\n",
       " 195713,\n",
       " 198990,\n",
       " 157568,\n",
       " 200708,\n",
       " 136939,\n",
       " 134953,\n",
       " 192742,\n",
       " 210373,\n",
       " 212922,\n",
       " 134812,\n",
       " 135825,\n",
       " 139674,\n",
       " 227003,\n",
       " 202111,\n",
       " 169393,\n",
       " 209980,\n",
       " 247261,\n",
       " 143456,\n",
       " 139401,\n",
       " 137104,\n",
       " 190813,\n",
       " 180936,\n",
       " 200919,\n",
       " 148583,\n",
       " 136025,\n",
       " 159351,\n",
       " 236412,\n",
       " 205931,\n",
       " 179479,\n",
       " 178863,\n",
       " 194798,\n",
       " 161195,\n",
       " 164429,\n",
       " 234960,\n",
       " 229653,\n",
       " 158409,\n",
       " 135882,\n",
       " 194911,\n",
       " 159139,\n",
       " 248002,\n",
       " 254003,\n",
       " 253369,\n",
       " 245410,\n",
       " 236001,\n",
       " 141743,\n",
       " 143215,\n",
       " 180599,\n",
       " 224545,\n",
       " 155951,\n",
       " 250040,\n",
       " 186470,\n",
       " 249126,\n",
       " 183912,\n",
       " 173459,\n",
       " 157480,\n",
       " 169739,\n",
       " 149520,\n",
       " 156106,\n",
       " 229145,\n",
       " 213200,\n",
       " 230055,\n",
       " 234267,\n",
       " 254758,\n",
       " 185241,\n",
       " 144204,\n",
       " 251499,\n",
       " 169090,\n",
       " 180052,\n",
       " 229275,\n",
       " 248556,\n",
       " 239592,\n",
       " 143686,\n",
       " 139394,\n",
       " 260754,\n",
       " 240951,\n",
       " 194275,\n",
       " 151215,\n",
       " 262395,\n",
       " 214117,\n",
       " 254572,\n",
       " 234367,\n",
       " 138873,\n",
       " 249311,\n",
       " 193683,\n",
       " 264226,\n",
       " 264668,\n",
       " 249240,\n",
       " 187277,\n",
       " 238505,\n",
       " 141334,\n",
       " 197945,\n",
       " 193477,\n",
       " 227874,\n",
       " 180223,\n",
       " 256415,\n",
       " 150466,\n",
       " 140365,\n",
       " 230784,\n",
       " 170500,\n",
       " 135756,\n",
       " 255178,\n",
       " 198935,\n",
       " 226133,\n",
       " 192730,\n",
       " 225845,\n",
       " 227871,\n",
       " 187976,\n",
       " 154494,\n",
       " 234215,\n",
       " 247621,\n",
       " 154117,\n",
       " 226858,\n",
       " 204170,\n",
       " 204792,\n",
       " 183269,\n",
       " 138134,\n",
       " 220130,\n",
       " 236277,\n",
       " 229873,\n",
       " 216420,\n",
       " 219988,\n",
       " 178282,\n",
       " 173005,\n",
       " 181653,\n",
       " 225061,\n",
       " 220797,\n",
       " 211130,\n",
       " 256456,\n",
       " 154634,\n",
       " 215954,\n",
       " 201338,\n",
       " 150323,\n",
       " 146149,\n",
       " 204754,\n",
       " 169040,\n",
       " 197935,\n",
       " 218754,\n",
       " 213006,\n",
       " 245234,\n",
       " 171565,\n",
       " 230826,\n",
       " 240453,\n",
       " 149486,\n",
       " 175381,\n",
       " 226824,\n",
       " 159220,\n",
       " 138703,\n",
       " 250887,\n",
       " 183908,\n",
       " 213661,\n",
       " 248349,\n",
       " 226288,\n",
       " 174975,\n",
       " 259625,\n",
       " 165183,\n",
       " 170548,\n",
       " 260222,\n",
       " 256167,\n",
       " 231628,\n",
       " 188794,\n",
       " 245213,\n",
       " 263629,\n",
       " 241014,\n",
       " 257067,\n",
       " 227272,\n",
       " 209107,\n",
       " 225138,\n",
       " 235978,\n",
       " 155057,\n",
       " 246648,\n",
       " 195672,\n",
       " 218908,\n",
       " 156511,\n",
       " 250583,\n",
       " 141828,\n",
       " 134910,\n",
       " 226644,\n",
       " 135571,\n",
       " 135749,\n",
       " 206245,\n",
       " 198024,\n",
       " 136351,\n",
       " 167903,\n",
       " 195560,\n",
       " 152397,\n",
       " 230103,\n",
       " 250994,\n",
       " 192089,\n",
       " 165782,\n",
       " 229746,\n",
       " 137321,\n",
       " 228297,\n",
       " 171966,\n",
       " 246308,\n",
       " 257826,\n",
       " 226925,\n",
       " 204552,\n",
       " 226964,\n",
       " 231168,\n",
       " 238059,\n",
       " 210727,\n",
       " 221879,\n",
       " 223443,\n",
       " 229899,\n",
       " 216941,\n",
       " 241418,\n",
       " 145254,\n",
       " 142289,\n",
       " 231574,\n",
       " 239345,\n",
       " 194130,\n",
       " 157115,\n",
       " 211106,\n",
       " 223165,\n",
       " 214557,\n",
       " 166899,\n",
       " 233010,\n",
       " 265129,\n",
       " 247898,\n",
       " 219977,\n",
       " 201702,\n",
       " 150012,\n",
       " 195640,\n",
       " 179995,\n",
       " 268576,\n",
       " 145378,\n",
       " 236962,\n",
       " 212207,\n",
       " 229404,\n",
       " 265932,\n",
       " 137864,\n",
       " 165749,\n",
       " 138777,\n",
       " 135194,\n",
       " 230447,\n",
       " 237133,\n",
       " 155920,\n",
       " 192342,\n",
       " 215070,\n",
       " 240225,\n",
       " 243834,\n",
       " 165557,\n",
       " 155857,\n",
       " 230238,\n",
       " 233036,\n",
       " 171110,\n",
       " 195513,\n",
       " 255812,\n",
       " 244053,\n",
       " 217839,\n",
       " 217139,\n",
       " 194428,\n",
       " 158081,\n",
       " 151099,\n",
       " 150692,\n",
       " 143421,\n",
       " 206992,\n",
       " 162481,\n",
       " 236362,\n",
       " 240761,\n",
       " 167496,\n",
       " 159218,\n",
       " 161087,\n",
       " 158364,\n",
       " 203694,\n",
       " 218193,\n",
       " 214157,\n",
       " 155365,\n",
       " 230571,\n",
       " 222725,\n",
       " 208141,\n",
       " 239950,\n",
       " 156424,\n",
       " 216297,\n",
       " 197122,\n",
       " 202289,\n",
       " 177030,\n",
       " 205255,\n",
       " 243351,\n",
       " 145862,\n",
       " 219854,\n",
       " 223623,\n",
       " 137411,\n",
       " 218606,\n",
       " 253051,\n",
       " 140548,\n",
       " 242072,\n",
       " 172020,\n",
       " 229304,\n",
       " 147716,\n",
       " 258648,\n",
       " 153590,\n",
       " 223425,\n",
       " 219782,\n",
       " 263710,\n",
       " 189387,\n",
       " 204323,\n",
       " 207442,\n",
       " 193557,\n",
       " 187500,\n",
       " 199250,\n",
       " 190408,\n",
       " 191140,\n",
       " 181693,\n",
       " 141530,\n",
       " 187185,\n",
       " 253623,\n",
       " 161076,\n",
       " 148319,\n",
       " 144496,\n",
       " 145890,\n",
       " 202995,\n",
       " 153865,\n",
       " 214775,\n",
       " 188253,\n",
       " 143676,\n",
       " 205261,\n",
       " 138898,\n",
       " 230027,\n",
       " 229662,\n",
       " 138565,\n",
       " 181469,\n",
       " 177483,\n",
       " 136760,\n",
       " 226767,\n",
       " 234141,\n",
       " 248743,\n",
       " 267941,\n",
       " 140816,\n",
       " 228935,\n",
       " 236182,\n",
       " 138993,\n",
       " 266814,\n",
       " 257737,\n",
       " 141122,\n",
       " 256851,\n",
       " 213524,\n",
       " 246302,\n",
       " 143389,\n",
       " 159935,\n",
       " 222598,\n",
       " 251641,\n",
       " 147219,\n",
       " 253215,\n",
       " 261341,\n",
       " 199797,\n",
       " 159550,\n",
       " 149888,\n",
       " 221963,\n",
       " 162591,\n",
       " 151902,\n",
       " 224813,\n",
       " 257831,\n",
       " 187294,\n",
       " 167778,\n",
       " 193860,\n",
       " 208356,\n",
       " 204033,\n",
       " 150751,\n",
       " 260639,\n",
       " 220601,\n",
       " 246660,\n",
       " 267340,\n",
       " 181464,\n",
       " 165583,\n",
       " 170249,\n",
       " 161952,\n",
       " 196789,\n",
       " 166099,\n",
       " 222820,\n",
       " 169292,\n",
       " 197870,\n",
       " 148307,\n",
       " 171081,\n",
       " 194129,\n",
       " 253606,\n",
       " 229466,\n",
       " 220283,\n",
       " 155870,\n",
       " 183209,\n",
       " 229685,\n",
       " 141125,\n",
       " 226012,\n",
       " 204091,\n",
       " 158867,\n",
       " 265186,\n",
       " 237097,\n",
       " 159950,\n",
       " 257527,\n",
       " 139427,\n",
       " 164526,\n",
       " 192606,\n",
       " 182250,\n",
       " 170352,\n",
       " 245695,\n",
       " 255525,\n",
       " 196847,\n",
       " 204991,\n",
       " 192352,\n",
       " 165735,\n",
       " 267246,\n",
       " 222887,\n",
       " 240304,\n",
       " 232143,\n",
       " 161574,\n",
       " 181417,\n",
       " 194787,\n",
       " 202967,\n",
       " 239897,\n",
       " 180526,\n",
       " 195631,\n",
       " 220366,\n",
       " 200511,\n",
       " 165670,\n",
       " 135023,\n",
       " 204317,\n",
       " 221143,\n",
       " 183989,\n",
       " 140184,\n",
       " 141644,\n",
       " 264464,\n",
       " 139482,\n",
       " 251176,\n",
       " 148337,\n",
       " 167766,\n",
       " 139277,\n",
       " 140475,\n",
       " 154521,\n",
       " 185535,\n",
       " 211884,\n",
       " 178038,\n",
       " 167023,\n",
       " 144196,\n",
       " 261749,\n",
       " 149414,\n",
       " 243088,\n",
       " 191793,\n",
       " 231132,\n",
       " 161936,\n",
       " 138767,\n",
       " 253667,\n",
       " 217722,\n",
       " 250675,\n",
       " 170437,\n",
       " 228993,\n",
       " 245739,\n",
       " 175842,\n",
       " 264769,\n",
       " 215695,\n",
       " 183008,\n",
       " 263679,\n",
       " 209892,\n",
       " 202317,\n",
       " 137009,\n",
       " 247302,\n",
       " 200435,\n",
       " 214734,\n",
       " 145813,\n",
       " 214008,\n",
       " 243741,\n",
       " 177406,\n",
       " 245753,\n",
       " 149998,\n",
       " 147316,\n",
       " 139026,\n",
       " 214445,\n",
       " 195660,\n",
       " ...]"
      ]
     },
     "execution_count": 9,
     "metadata": {},
     "output_type": "execute_result"
    }
   ],
   "source": [
    "false_neg_index"
   ]
  },
  {
   "cell_type": "code",
   "execution_count": 10,
   "metadata": {},
   "outputs": [],
   "source": [
    "# getting the sums of the total payments by the indices of the confusion matrix\n",
    "\n",
    "sum_true_pos = np.sum(ttlpy_vred.iloc[true_pos_index][['total_pymnt']]).astype(int)[0]\n",
    "\n",
    "sum_false_pos = np.sum(ttlpy_vred.iloc[false_pos_index][['total_pymnt']]).astype(int)[0]\n",
    "\n",
    "sum_true_neg = np.sum(ttlpy_vred.iloc[true_neg_index][['total_pymnt']]).astype(int)[0]\n",
    "\n",
    "sum_false_neg = np.sum(ttlpy_vred.iloc[false_neg_index][['total_pymnt']]).astype(int)[0]"
   ]
  },
  {
   "cell_type": "code",
   "execution_count": 11,
   "metadata": {},
   "outputs": [
    {
     "data": {
      "text/plain": [
       "162302534"
      ]
     },
     "execution_count": 11,
     "metadata": {},
     "output_type": "execute_result"
    }
   ],
   "source": [
    "sum_false_pos"
   ]
  },
  {
   "cell_type": "code",
   "execution_count": 12,
   "metadata": {},
   "outputs": [
    {
     "data": {
      "text/plain": [
       "64547399"
      ]
     },
     "execution_count": 12,
     "metadata": {},
     "output_type": "execute_result"
    }
   ],
   "source": [
    "sum_false_neg"
   ]
  },
  {
   "cell_type": "code",
   "execution_count": 13,
   "metadata": {},
   "outputs": [
    {
     "data": {
      "text/plain": [
       "97755135"
      ]
     },
     "execution_count": 13,
     "metadata": {},
     "output_type": "execute_result"
    }
   ],
   "source": [
    "sum_false_pos - sum_false_neg"
   ]
  },
  {
   "cell_type": "code",
   "execution_count": 14,
   "metadata": {},
   "outputs": [],
   "source": [
    "# analyze the grades and interest rates of the false negatives"
   ]
  },
  {
   "cell_type": "code",
   "execution_count": 15,
   "metadata": {
    "scrolled": false
   },
   "outputs": [
    {
     "name": "stderr",
     "output_type": "stream",
     "text": [
      "<ipython-input-15-05ad673c4c59>:3: SettingWithCopyWarning: \n",
      "A value is trying to be set on a copy of a slice from a DataFrame.\n",
      "Try using .loc[row_indexer,col_indexer] = value instead\n",
      "\n",
      "See the caveats in the documentation: https://pandas.pydata.org/pandas-docs/stable/user_guide/indexing.html#returning-a-view-versus-a-copy\n",
      "  acc_false_neg[['outcome']] = 1\n",
      "C:\\Users\\tdcho\\anaconda3\\lib\\site-packages\\pandas\\core\\indexing.py:1720: SettingWithCopyWarning: \n",
      "A value is trying to be set on a copy of a slice from a DataFrame.\n",
      "Try using .loc[row_indexer,col_indexer] = value instead\n",
      "\n",
      "See the caveats in the documentation: https://pandas.pydata.org/pandas-docs/stable/user_guide/indexing.html#returning-a-view-versus-a-copy\n",
      "  self._setitem_single_column(loc, value, pi)\n"
     ]
    },
    {
     "data": {
      "text/html": [
       "<div>\n",
       "<style scoped>\n",
       "    .dataframe tbody tr th:only-of-type {\n",
       "        vertical-align: middle;\n",
       "    }\n",
       "\n",
       "    .dataframe tbody tr th {\n",
       "        vertical-align: top;\n",
       "    }\n",
       "\n",
       "    .dataframe thead th {\n",
       "        text-align: right;\n",
       "    }\n",
       "</style>\n",
       "<table border=\"1\" class=\"dataframe\">\n",
       "  <thead>\n",
       "    <tr style=\"text-align: right;\">\n",
       "      <th></th>\n",
       "      <th>annual_inc</th>\n",
       "      <th>fico_score</th>\n",
       "      <th>term</th>\n",
       "      <th>loan_amnt</th>\n",
       "      <th>home_ownership</th>\n",
       "      <th>int_rate</th>\n",
       "      <th>all_util</th>\n",
       "      <th>dti</th>\n",
       "      <th>outcome</th>\n",
       "    </tr>\n",
       "  </thead>\n",
       "  <tbody>\n",
       "    <tr>\n",
       "      <th>225918</th>\n",
       "      <td>0.027275</td>\n",
       "      <td>0.403397</td>\n",
       "      <td>0.0</td>\n",
       "      <td>0.253165</td>\n",
       "      <td>1.000000</td>\n",
       "      <td>0.421729</td>\n",
       "      <td>0.549133</td>\n",
       "      <td>0.01449</td>\n",
       "      <td>1</td>\n",
       "    </tr>\n",
       "    <tr>\n",
       "      <th>208257</th>\n",
       "      <td>0.004728</td>\n",
       "      <td>0.212314</td>\n",
       "      <td>0.0</td>\n",
       "      <td>0.240506</td>\n",
       "      <td>0.000000</td>\n",
       "      <td>0.337617</td>\n",
       "      <td>0.000000</td>\n",
       "      <td>0.01761</td>\n",
       "      <td>1</td>\n",
       "    </tr>\n",
       "    <tr>\n",
       "      <th>265580</th>\n",
       "      <td>0.005455</td>\n",
       "      <td>0.297240</td>\n",
       "      <td>0.0</td>\n",
       "      <td>0.164557</td>\n",
       "      <td>0.000000</td>\n",
       "      <td>0.114097</td>\n",
       "      <td>0.306358</td>\n",
       "      <td>0.01208</td>\n",
       "      <td>1</td>\n",
       "    </tr>\n",
       "    <tr>\n",
       "      <th>192904</th>\n",
       "      <td>0.012274</td>\n",
       "      <td>0.360934</td>\n",
       "      <td>0.0</td>\n",
       "      <td>0.253165</td>\n",
       "      <td>0.666667</td>\n",
       "      <td>0.201713</td>\n",
       "      <td>0.427746</td>\n",
       "      <td>0.01396</td>\n",
       "      <td>1</td>\n",
       "    </tr>\n",
       "    <tr>\n",
       "      <th>153676</th>\n",
       "      <td>0.009546</td>\n",
       "      <td>0.509554</td>\n",
       "      <td>1.0</td>\n",
       "      <td>0.508228</td>\n",
       "      <td>0.666667</td>\n",
       "      <td>0.182243</td>\n",
       "      <td>0.000000</td>\n",
       "      <td>0.02303</td>\n",
       "      <td>1</td>\n",
       "    </tr>\n",
       "    <tr>\n",
       "      <th>...</th>\n",
       "      <td>...</td>\n",
       "      <td>...</td>\n",
       "      <td>...</td>\n",
       "      <td>...</td>\n",
       "      <td>...</td>\n",
       "      <td>...</td>\n",
       "      <td>...</td>\n",
       "      <td>...</td>\n",
       "      <td>...</td>\n",
       "    </tr>\n",
       "    <tr>\n",
       "      <th>148388</th>\n",
       "      <td>0.024547</td>\n",
       "      <td>0.403397</td>\n",
       "      <td>0.0</td>\n",
       "      <td>0.367089</td>\n",
       "      <td>0.666667</td>\n",
       "      <td>0.000389</td>\n",
       "      <td>0.000000</td>\n",
       "      <td>0.01872</td>\n",
       "      <td>1</td>\n",
       "    </tr>\n",
       "    <tr>\n",
       "      <th>224929</th>\n",
       "      <td>0.009092</td>\n",
       "      <td>0.445860</td>\n",
       "      <td>0.0</td>\n",
       "      <td>0.367089</td>\n",
       "      <td>1.000000</td>\n",
       "      <td>0.260125</td>\n",
       "      <td>0.000000</td>\n",
       "      <td>0.01005</td>\n",
       "      <td>1</td>\n",
       "    </tr>\n",
       "    <tr>\n",
       "      <th>218695</th>\n",
       "      <td>0.007273</td>\n",
       "      <td>0.212314</td>\n",
       "      <td>0.0</td>\n",
       "      <td>0.206962</td>\n",
       "      <td>0.666667</td>\n",
       "      <td>0.401090</td>\n",
       "      <td>0.000000</td>\n",
       "      <td>0.00531</td>\n",
       "      <td>1</td>\n",
       "    </tr>\n",
       "    <tr>\n",
       "      <th>175450</th>\n",
       "      <td>0.007092</td>\n",
       "      <td>0.806794</td>\n",
       "      <td>0.0</td>\n",
       "      <td>0.594937</td>\n",
       "      <td>0.666667</td>\n",
       "      <td>0.079439</td>\n",
       "      <td>0.323699</td>\n",
       "      <td>0.02789</td>\n",
       "      <td>1</td>\n",
       "    </tr>\n",
       "    <tr>\n",
       "      <th>220748</th>\n",
       "      <td>0.010910</td>\n",
       "      <td>0.297240</td>\n",
       "      <td>0.0</td>\n",
       "      <td>0.873418</td>\n",
       "      <td>1.000000</td>\n",
       "      <td>0.344626</td>\n",
       "      <td>0.000000</td>\n",
       "      <td>0.01430</td>\n",
       "      <td>1</td>\n",
       "    </tr>\n",
       "  </tbody>\n",
       "</table>\n",
       "<p>8822 rows × 9 columns</p>\n",
       "</div>"
      ],
      "text/plain": [
       "        annual_inc  fico_score  term  loan_amnt  home_ownership  int_rate  \\\n",
       "225918    0.027275    0.403397   0.0   0.253165        1.000000  0.421729   \n",
       "208257    0.004728    0.212314   0.0   0.240506        0.000000  0.337617   \n",
       "265580    0.005455    0.297240   0.0   0.164557        0.000000  0.114097   \n",
       "192904    0.012274    0.360934   0.0   0.253165        0.666667  0.201713   \n",
       "153676    0.009546    0.509554   1.0   0.508228        0.666667  0.182243   \n",
       "...            ...         ...   ...        ...             ...       ...   \n",
       "148388    0.024547    0.403397   0.0   0.367089        0.666667  0.000389   \n",
       "224929    0.009092    0.445860   0.0   0.367089        1.000000  0.260125   \n",
       "218695    0.007273    0.212314   0.0   0.206962        0.666667  0.401090   \n",
       "175450    0.007092    0.806794   0.0   0.594937        0.666667  0.079439   \n",
       "220748    0.010910    0.297240   0.0   0.873418        1.000000  0.344626   \n",
       "\n",
       "        all_util      dti  outcome  \n",
       "225918  0.549133  0.01449        1  \n",
       "208257  0.000000  0.01761        1  \n",
       "265580  0.306358  0.01208        1  \n",
       "192904  0.427746  0.01396        1  \n",
       "153676  0.000000  0.02303        1  \n",
       "...          ...      ...      ...  \n",
       "148388  0.000000  0.01872        1  \n",
       "224929  0.000000  0.01005        1  \n",
       "218695  0.000000  0.00531        1  \n",
       "175450  0.323699  0.02789        1  \n",
       "220748  0.000000  0.01430        1  \n",
       "\n",
       "[8822 rows x 9 columns]"
      ]
     },
     "execution_count": 15,
     "metadata": {},
     "output_type": "execute_result"
    }
   ],
   "source": [
    "acc_false_neg = acc_vred.iloc[false_neg_index]\n",
    "\n",
    "acc_false_neg[['outcome']] = 1\n",
    "\n",
    "acc_false_neg"
   ]
  },
  {
   "cell_type": "code",
   "execution_count": 16,
   "metadata": {
    "scrolled": false
   },
   "outputs": [
    {
     "name": "stderr",
     "output_type": "stream",
     "text": [
      "<ipython-input-16-3160ef065f5c>:3: SettingWithCopyWarning: \n",
      "A value is trying to be set on a copy of a slice from a DataFrame.\n",
      "Try using .loc[row_indexer,col_indexer] = value instead\n",
      "\n",
      "See the caveats in the documentation: https://pandas.pydata.org/pandas-docs/stable/user_guide/indexing.html#returning-a-view-versus-a-copy\n",
      "  acc_false_pos[['outcome']] = 0\n",
      "C:\\Users\\tdcho\\anaconda3\\lib\\site-packages\\pandas\\core\\indexing.py:1720: SettingWithCopyWarning: \n",
      "A value is trying to be set on a copy of a slice from a DataFrame.\n",
      "Try using .loc[row_indexer,col_indexer] = value instead\n",
      "\n",
      "See the caveats in the documentation: https://pandas.pydata.org/pandas-docs/stable/user_guide/indexing.html#returning-a-view-versus-a-copy\n",
      "  self._setitem_single_column(loc, value, pi)\n"
     ]
    },
    {
     "data": {
      "text/html": [
       "<div>\n",
       "<style scoped>\n",
       "    .dataframe tbody tr th:only-of-type {\n",
       "        vertical-align: middle;\n",
       "    }\n",
       "\n",
       "    .dataframe tbody tr th {\n",
       "        vertical-align: top;\n",
       "    }\n",
       "\n",
       "    .dataframe thead th {\n",
       "        text-align: right;\n",
       "    }\n",
       "</style>\n",
       "<table border=\"1\" class=\"dataframe\">\n",
       "  <thead>\n",
       "    <tr style=\"text-align: right;\">\n",
       "      <th></th>\n",
       "      <th>annual_inc</th>\n",
       "      <th>fico_score</th>\n",
       "      <th>term</th>\n",
       "      <th>loan_amnt</th>\n",
       "      <th>home_ownership</th>\n",
       "      <th>int_rate</th>\n",
       "      <th>all_util</th>\n",
       "      <th>dti</th>\n",
       "      <th>outcome</th>\n",
       "    </tr>\n",
       "  </thead>\n",
       "  <tbody>\n",
       "    <tr>\n",
       "      <th>2276</th>\n",
       "      <td>0.001818</td>\n",
       "      <td>0.360934</td>\n",
       "      <td>0.0</td>\n",
       "      <td>0.215190</td>\n",
       "      <td>0.000000</td>\n",
       "      <td>0.401090</td>\n",
       "      <td>0.000000</td>\n",
       "      <td>0.03805</td>\n",
       "      <td>0</td>\n",
       "    </tr>\n",
       "    <tr>\n",
       "      <th>43909</th>\n",
       "      <td>0.010183</td>\n",
       "      <td>0.233546</td>\n",
       "      <td>0.0</td>\n",
       "      <td>0.746835</td>\n",
       "      <td>0.666667</td>\n",
       "      <td>0.727414</td>\n",
       "      <td>0.473988</td>\n",
       "      <td>0.02108</td>\n",
       "      <td>0</td>\n",
       "    </tr>\n",
       "    <tr>\n",
       "      <th>82267</th>\n",
       "      <td>0.005455</td>\n",
       "      <td>0.360934</td>\n",
       "      <td>1.0</td>\n",
       "      <td>0.582278</td>\n",
       "      <td>0.000000</td>\n",
       "      <td>0.503894</td>\n",
       "      <td>0.000000</td>\n",
       "      <td>0.03048</td>\n",
       "      <td>0</td>\n",
       "    </tr>\n",
       "    <tr>\n",
       "      <th>57291</th>\n",
       "      <td>0.007273</td>\n",
       "      <td>0.339703</td>\n",
       "      <td>1.0</td>\n",
       "      <td>0.822785</td>\n",
       "      <td>0.666667</td>\n",
       "      <td>0.325545</td>\n",
       "      <td>0.416185</td>\n",
       "      <td>0.02284</td>\n",
       "      <td>0</td>\n",
       "    </tr>\n",
       "    <tr>\n",
       "      <th>185</th>\n",
       "      <td>0.029184</td>\n",
       "      <td>0.360934</td>\n",
       "      <td>0.0</td>\n",
       "      <td>0.746835</td>\n",
       "      <td>0.000000</td>\n",
       "      <td>0.396417</td>\n",
       "      <td>0.578035</td>\n",
       "      <td>0.01042</td>\n",
       "      <td>0</td>\n",
       "    </tr>\n",
       "    <tr>\n",
       "      <th>...</th>\n",
       "      <td>...</td>\n",
       "      <td>...</td>\n",
       "      <td>...</td>\n",
       "      <td>...</td>\n",
       "      <td>...</td>\n",
       "      <td>...</td>\n",
       "      <td>...</td>\n",
       "      <td>...</td>\n",
       "      <td>...</td>\n",
       "    </tr>\n",
       "    <tr>\n",
       "      <th>5289</th>\n",
       "      <td>0.003819</td>\n",
       "      <td>0.530786</td>\n",
       "      <td>1.0</td>\n",
       "      <td>0.311392</td>\n",
       "      <td>0.666667</td>\n",
       "      <td>0.299065</td>\n",
       "      <td>0.000000</td>\n",
       "      <td>0.02549</td>\n",
       "      <td>0</td>\n",
       "    </tr>\n",
       "    <tr>\n",
       "      <th>51554</th>\n",
       "      <td>0.002728</td>\n",
       "      <td>0.212314</td>\n",
       "      <td>0.0</td>\n",
       "      <td>0.229114</td>\n",
       "      <td>0.666667</td>\n",
       "      <td>0.503505</td>\n",
       "      <td>0.000000</td>\n",
       "      <td>0.03412</td>\n",
       "      <td>0</td>\n",
       "    </tr>\n",
       "    <tr>\n",
       "      <th>126259</th>\n",
       "      <td>0.005000</td>\n",
       "      <td>0.403397</td>\n",
       "      <td>1.0</td>\n",
       "      <td>0.696203</td>\n",
       "      <td>0.666667</td>\n",
       "      <td>0.379283</td>\n",
       "      <td>0.352601</td>\n",
       "      <td>0.03508</td>\n",
       "      <td>0</td>\n",
       "    </tr>\n",
       "    <tr>\n",
       "      <th>91912</th>\n",
       "      <td>0.012546</td>\n",
       "      <td>0.318471</td>\n",
       "      <td>1.0</td>\n",
       "      <td>0.594937</td>\n",
       "      <td>0.000000</td>\n",
       "      <td>0.591121</td>\n",
       "      <td>0.000000</td>\n",
       "      <td>0.01539</td>\n",
       "      <td>0</td>\n",
       "    </tr>\n",
       "    <tr>\n",
       "      <th>65630</th>\n",
       "      <td>0.009455</td>\n",
       "      <td>0.318471</td>\n",
       "      <td>1.0</td>\n",
       "      <td>0.544304</td>\n",
       "      <td>0.666667</td>\n",
       "      <td>0.316589</td>\n",
       "      <td>0.358382</td>\n",
       "      <td>0.01786</td>\n",
       "      <td>0</td>\n",
       "    </tr>\n",
       "  </tbody>\n",
       "</table>\n",
       "<p>9870 rows × 9 columns</p>\n",
       "</div>"
      ],
      "text/plain": [
       "        annual_inc  fico_score  term  loan_amnt  home_ownership  int_rate  \\\n",
       "2276      0.001818    0.360934   0.0   0.215190        0.000000  0.401090   \n",
       "43909     0.010183    0.233546   0.0   0.746835        0.666667  0.727414   \n",
       "82267     0.005455    0.360934   1.0   0.582278        0.000000  0.503894   \n",
       "57291     0.007273    0.339703   1.0   0.822785        0.666667  0.325545   \n",
       "185       0.029184    0.360934   0.0   0.746835        0.000000  0.396417   \n",
       "...            ...         ...   ...        ...             ...       ...   \n",
       "5289      0.003819    0.530786   1.0   0.311392        0.666667  0.299065   \n",
       "51554     0.002728    0.212314   0.0   0.229114        0.666667  0.503505   \n",
       "126259    0.005000    0.403397   1.0   0.696203        0.666667  0.379283   \n",
       "91912     0.012546    0.318471   1.0   0.594937        0.000000  0.591121   \n",
       "65630     0.009455    0.318471   1.0   0.544304        0.666667  0.316589   \n",
       "\n",
       "        all_util      dti  outcome  \n",
       "2276    0.000000  0.03805        0  \n",
       "43909   0.473988  0.02108        0  \n",
       "82267   0.000000  0.03048        0  \n",
       "57291   0.416185  0.02284        0  \n",
       "185     0.578035  0.01042        0  \n",
       "...          ...      ...      ...  \n",
       "5289    0.000000  0.02549        0  \n",
       "51554   0.000000  0.03412        0  \n",
       "126259  0.352601  0.03508        0  \n",
       "91912   0.000000  0.01539        0  \n",
       "65630   0.358382  0.01786        0  \n",
       "\n",
       "[9870 rows x 9 columns]"
      ]
     },
     "execution_count": 16,
     "metadata": {},
     "output_type": "execute_result"
    }
   ],
   "source": [
    "acc_false_pos = acc_vred.iloc[false_pos_index]\n",
    "\n",
    "acc_false_pos[['outcome']] = 0\n",
    "\n",
    "acc_false_pos"
   ]
  },
  {
   "cell_type": "code",
   "execution_count": 17,
   "metadata": {
    "scrolled": false
   },
   "outputs": [
    {
     "data": {
      "text/html": [
       "<div>\n",
       "<style scoped>\n",
       "    .dataframe tbody tr th:only-of-type {\n",
       "        vertical-align: middle;\n",
       "    }\n",
       "\n",
       "    .dataframe tbody tr th {\n",
       "        vertical-align: top;\n",
       "    }\n",
       "\n",
       "    .dataframe thead th {\n",
       "        text-align: right;\n",
       "    }\n",
       "</style>\n",
       "<table border=\"1\" class=\"dataframe\">\n",
       "  <thead>\n",
       "    <tr style=\"text-align: right;\">\n",
       "      <th></th>\n",
       "      <th>annual_inc</th>\n",
       "      <th>fico_score</th>\n",
       "      <th>term</th>\n",
       "      <th>loan_amnt</th>\n",
       "      <th>home_ownership</th>\n",
       "      <th>int_rate</th>\n",
       "      <th>all_util</th>\n",
       "      <th>dti</th>\n",
       "      <th>outcome</th>\n",
       "    </tr>\n",
       "  </thead>\n",
       "  <tbody>\n",
       "    <tr>\n",
       "      <th>0</th>\n",
       "      <td>0.027275</td>\n",
       "      <td>0.403397</td>\n",
       "      <td>0.0</td>\n",
       "      <td>0.253165</td>\n",
       "      <td>1.000000</td>\n",
       "      <td>0.421729</td>\n",
       "      <td>0.549133</td>\n",
       "      <td>0.01449</td>\n",
       "      <td>1.0</td>\n",
       "    </tr>\n",
       "    <tr>\n",
       "      <th>1</th>\n",
       "      <td>0.004728</td>\n",
       "      <td>0.212314</td>\n",
       "      <td>0.0</td>\n",
       "      <td>0.240506</td>\n",
       "      <td>0.000000</td>\n",
       "      <td>0.337617</td>\n",
       "      <td>0.000000</td>\n",
       "      <td>0.01761</td>\n",
       "      <td>1.0</td>\n",
       "    </tr>\n",
       "    <tr>\n",
       "      <th>2</th>\n",
       "      <td>0.005455</td>\n",
       "      <td>0.297240</td>\n",
       "      <td>0.0</td>\n",
       "      <td>0.164557</td>\n",
       "      <td>0.000000</td>\n",
       "      <td>0.114097</td>\n",
       "      <td>0.306358</td>\n",
       "      <td>0.01208</td>\n",
       "      <td>1.0</td>\n",
       "    </tr>\n",
       "    <tr>\n",
       "      <th>3</th>\n",
       "      <td>0.012274</td>\n",
       "      <td>0.360934</td>\n",
       "      <td>0.0</td>\n",
       "      <td>0.253165</td>\n",
       "      <td>0.666667</td>\n",
       "      <td>0.201713</td>\n",
       "      <td>0.427746</td>\n",
       "      <td>0.01396</td>\n",
       "      <td>1.0</td>\n",
       "    </tr>\n",
       "    <tr>\n",
       "      <th>4</th>\n",
       "      <td>0.009546</td>\n",
       "      <td>0.509554</td>\n",
       "      <td>1.0</td>\n",
       "      <td>0.508228</td>\n",
       "      <td>0.666667</td>\n",
       "      <td>0.182243</td>\n",
       "      <td>0.000000</td>\n",
       "      <td>0.02303</td>\n",
       "      <td>1.0</td>\n",
       "    </tr>\n",
       "    <tr>\n",
       "      <th>...</th>\n",
       "      <td>...</td>\n",
       "      <td>...</td>\n",
       "      <td>...</td>\n",
       "      <td>...</td>\n",
       "      <td>...</td>\n",
       "      <td>...</td>\n",
       "      <td>...</td>\n",
       "      <td>...</td>\n",
       "      <td>...</td>\n",
       "    </tr>\n",
       "    <tr>\n",
       "      <th>18687</th>\n",
       "      <td>0.003819</td>\n",
       "      <td>0.530786</td>\n",
       "      <td>1.0</td>\n",
       "      <td>0.311392</td>\n",
       "      <td>0.666667</td>\n",
       "      <td>0.299065</td>\n",
       "      <td>0.000000</td>\n",
       "      <td>0.02549</td>\n",
       "      <td>0.0</td>\n",
       "    </tr>\n",
       "    <tr>\n",
       "      <th>18688</th>\n",
       "      <td>0.002728</td>\n",
       "      <td>0.212314</td>\n",
       "      <td>0.0</td>\n",
       "      <td>0.229114</td>\n",
       "      <td>0.666667</td>\n",
       "      <td>0.503505</td>\n",
       "      <td>0.000000</td>\n",
       "      <td>0.03412</td>\n",
       "      <td>0.0</td>\n",
       "    </tr>\n",
       "    <tr>\n",
       "      <th>18689</th>\n",
       "      <td>0.005000</td>\n",
       "      <td>0.403397</td>\n",
       "      <td>1.0</td>\n",
       "      <td>0.696203</td>\n",
       "      <td>0.666667</td>\n",
       "      <td>0.379283</td>\n",
       "      <td>0.352601</td>\n",
       "      <td>0.03508</td>\n",
       "      <td>0.0</td>\n",
       "    </tr>\n",
       "    <tr>\n",
       "      <th>18690</th>\n",
       "      <td>0.012546</td>\n",
       "      <td>0.318471</td>\n",
       "      <td>1.0</td>\n",
       "      <td>0.594937</td>\n",
       "      <td>0.000000</td>\n",
       "      <td>0.591121</td>\n",
       "      <td>0.000000</td>\n",
       "      <td>0.01539</td>\n",
       "      <td>0.0</td>\n",
       "    </tr>\n",
       "    <tr>\n",
       "      <th>18691</th>\n",
       "      <td>0.009455</td>\n",
       "      <td>0.318471</td>\n",
       "      <td>1.0</td>\n",
       "      <td>0.544304</td>\n",
       "      <td>0.666667</td>\n",
       "      <td>0.316589</td>\n",
       "      <td>0.358382</td>\n",
       "      <td>0.01786</td>\n",
       "      <td>0.0</td>\n",
       "    </tr>\n",
       "  </tbody>\n",
       "</table>\n",
       "<p>18692 rows × 9 columns</p>\n",
       "</div>"
      ],
      "text/plain": [
       "       annual_inc  fico_score  term  loan_amnt  home_ownership  int_rate  \\\n",
       "0        0.027275    0.403397   0.0   0.253165        1.000000  0.421729   \n",
       "1        0.004728    0.212314   0.0   0.240506        0.000000  0.337617   \n",
       "2        0.005455    0.297240   0.0   0.164557        0.000000  0.114097   \n",
       "3        0.012274    0.360934   0.0   0.253165        0.666667  0.201713   \n",
       "4        0.009546    0.509554   1.0   0.508228        0.666667  0.182243   \n",
       "...           ...         ...   ...        ...             ...       ...   \n",
       "18687    0.003819    0.530786   1.0   0.311392        0.666667  0.299065   \n",
       "18688    0.002728    0.212314   0.0   0.229114        0.666667  0.503505   \n",
       "18689    0.005000    0.403397   1.0   0.696203        0.666667  0.379283   \n",
       "18690    0.012546    0.318471   1.0   0.594937        0.000000  0.591121   \n",
       "18691    0.009455    0.318471   1.0   0.544304        0.666667  0.316589   \n",
       "\n",
       "       all_util      dti  outcome  \n",
       "0      0.549133  0.01449      1.0  \n",
       "1      0.000000  0.01761      1.0  \n",
       "2      0.306358  0.01208      1.0  \n",
       "3      0.427746  0.01396      1.0  \n",
       "4      0.000000  0.02303      1.0  \n",
       "...         ...      ...      ...  \n",
       "18687  0.000000  0.02549      0.0  \n",
       "18688  0.000000  0.03412      0.0  \n",
       "18689  0.352601  0.03508      0.0  \n",
       "18690  0.000000  0.01539      0.0  \n",
       "18691  0.358382  0.01786      0.0  \n",
       "\n",
       "[18692 rows x 9 columns]"
      ]
     },
     "execution_count": 17,
     "metadata": {},
     "output_type": "execute_result"
    }
   ],
   "source": [
    "col_names = list(acc_false_neg.columns)\n",
    "\n",
    "acc_false = pd.DataFrame(np.concatenate((acc_false_neg, acc_false_pos)), columns=col_names)\n",
    "\n",
    "acc_false"
   ]
  },
  {
   "cell_type": "markdown",
   "metadata": {},
   "source": [
    "## Annual Income"
   ]
  },
  {
   "cell_type": "code",
   "execution_count": 18,
   "metadata": {
    "scrolled": false
   },
   "outputs": [
    {
     "data": {
      "text/plain": [
       "0.0         AxesSubplot(0.1,0.15;0.363636x0.75)\n",
       "1.0    AxesSubplot(0.536364,0.15;0.363636x0.75)\n",
       "dtype: object"
      ]
     },
     "execution_count": 18,
     "metadata": {},
     "output_type": "execute_result"
    },
    {
     "data": {
      "image/png": "[encoded data removed]",
      "text/plain": [
       "<Figure size 432x288 with 2 Axes>"
      ]
     },
     "metadata": {
      "needs_background": "light"
     },
     "output_type": "display_data"
    }
   ],
   "source": [
    "# false neg\n",
    "\n",
    "acc_false_neg.groupby('term')[['term','annual_inc']].boxplot(by='term', column='annual_inc')"
   ]
  },
  {
   "cell_type": "code",
   "execution_count": 19,
   "metadata": {},
   "outputs": [
    {
     "data": {
      "text/plain": [
       "0.0         AxesSubplot(0.1,0.15;0.363636x0.75)\n",
       "1.0    AxesSubplot(0.536364,0.15;0.363636x0.75)\n",
       "dtype: object"
      ]
     },
     "execution_count": 19,
     "metadata": {},
     "output_type": "execute_result"
    },
    {
     "data": {
      "image/png": "[encoded data removed]",
      "text/plain": [
       "<Figure size 432x288 with 2 Axes>"
      ]
     },
     "metadata": {
      "needs_background": "light"
     },
     "output_type": "display_data"
    }
   ],
   "source": [
    "# false pos\n",
    "\n",
    "acc_false_pos.groupby('term')[['term','annual_inc']].boxplot(by='term', column='annual_inc')"
   ]
  },
  {
   "cell_type": "code",
   "execution_count": 20,
   "metadata": {
    "scrolled": true
   },
   "outputs": [
    {
     "data": {
      "text/plain": [
       "<matplotlib.legend.Legend at 0x25002765e20>"
      ]
     },
     "execution_count": 20,
     "metadata": {},
     "output_type": "execute_result"
    },
    {
     "data": {
      "image/png": "[encoded data removed]",
      "text/plain": [
       "<Figure size 432x288 with 1 Axes>"
      ]
     },
     "metadata": {
      "needs_background": "light"
     },
     "output_type": "display_data"
    }
   ],
   "source": [
    "import seaborn as sns\n",
    "\n",
    "# by outcome\n",
    "\n",
    "fig, ax = plt.subplots()\n",
    "ax = sns.violinplot(x='outcome', y='annual_inc', hue='term', data=acc_false, split=True)\n",
    "\n",
    "ax.legend(loc=2)"
   ]
  },
  {
   "cell_type": "code",
   "execution_count": 21,
   "metadata": {
    "scrolled": true
   },
   "outputs": [
    {
     "data": {
      "text/plain": [
       "<matplotlib.legend.Legend at 0x2500275bf40>"
      ]
     },
     "execution_count": 21,
     "metadata": {},
     "output_type": "execute_result"
    },
    {
     "data": {
      "image/png": "[encoded data removed]",
      "text/plain": [
       "<Figure size 432x288 with 1 Axes>"
      ]
     },
     "metadata": {
      "needs_background": "light"
     },
     "output_type": "display_data"
    }
   ],
   "source": [
    "# by term\n",
    "\n",
    "fig, ax = plt.subplots()\n",
    "ax = sns.violinplot(x='term', y='annual_inc', hue='outcome', data=acc_false, split=True)\n",
    "\n",
    "ax.legend(loc=2)"
   ]
  },
  {
   "cell_type": "markdown",
   "metadata": {},
   "source": [
    "## Loan Amount"
   ]
  },
  {
   "cell_type": "code",
   "execution_count": 22,
   "metadata": {
    "scrolled": true
   },
   "outputs": [
    {
     "data": {
      "text/plain": [
       "0.0         AxesSubplot(0.1,0.15;0.363636x0.75)\n",
       "1.0    AxesSubplot(0.536364,0.15;0.363636x0.75)\n",
       "dtype: object"
      ]
     },
     "execution_count": 22,
     "metadata": {},
     "output_type": "execute_result"
    },
    {
     "data": {
      "image/png": "[encoded data removed]",
      "text/plain": [
       "<Figure size 432x288 with 2 Axes>"
      ]
     },
     "metadata": {
      "needs_background": "light"
     },
     "output_type": "display_data"
    }
   ],
   "source": [
    "acc_false_neg.groupby('term')[['term','loan_amnt']].boxplot(by='term', column='loan_amnt')"
   ]
  },
  {
   "cell_type": "code",
   "execution_count": 23,
   "metadata": {},
   "outputs": [
    {
     "data": {
      "text/plain": [
       "0.0         AxesSubplot(0.1,0.15;0.363636x0.75)\n",
       "1.0    AxesSubplot(0.536364,0.15;0.363636x0.75)\n",
       "dtype: object"
      ]
     },
     "execution_count": 23,
     "metadata": {},
     "output_type": "execute_result"
    },
    {
     "data": {
      "image/png": "[encoded data removed]",
      "text/plain": [
       "<Figure size 432x288 with 2 Axes>"
      ]
     },
     "metadata": {
      "needs_background": "light"
     },
     "output_type": "display_data"
    }
   ],
   "source": [
    "# false pos\n",
    "\n",
    "acc_false_pos.groupby('term')[['term','loan_amnt']].boxplot(by='term', column='loan_amnt')"
   ]
  },
  {
   "cell_type": "code",
   "execution_count": 24,
   "metadata": {},
   "outputs": [
    {
     "data": {
      "text/plain": [
       "<matplotlib.legend.Legend at 0x250037863a0>"
      ]
     },
     "execution_count": 24,
     "metadata": {},
     "output_type": "execute_result"
    },
    {
     "data": {
      "image/png": "[encoded data removed]",
      "text/plain": [
       "<Figure size 432x288 with 1 Axes>"
      ]
     },
     "metadata": {
      "needs_background": "light"
     },
     "output_type": "display_data"
    }
   ],
   "source": [
    "# by outcome\n",
    "\n",
    "fig, ax = plt.subplots()\n",
    "ax = sns.violinplot(x='outcome', y='loan_amnt', hue='term', data=acc_false, split=True)\n",
    "\n",
    "ax.legend(loc=2)"
   ]
  },
  {
   "cell_type": "code",
   "execution_count": 25,
   "metadata": {},
   "outputs": [
    {
     "data": {
      "text/plain": [
       "<matplotlib.legend.Legend at 0x25008ee4700>"
      ]
     },
     "execution_count": 25,
     "metadata": {},
     "output_type": "execute_result"
    },
    {
     "data": {
      "image/png": "[encoded data removed]",
      "text/plain": [
       "<Figure size 432x288 with 1 Axes>"
      ]
     },
     "metadata": {
      "needs_background": "light"
     },
     "output_type": "display_data"
    }
   ],
   "source": [
    "# by term\n",
    "\n",
    "fig, ax = plt.subplots()\n",
    "ax = sns.violinplot(x='term', y='loan_amnt', hue='outcome', data=acc_false, split=True)\n",
    "\n",
    "ax.legend(loc=2)"
   ]
  },
  {
   "cell_type": "markdown",
   "metadata": {},
   "source": [
    "## Home Ownership"
   ]
  },
  {
   "cell_type": "code",
   "execution_count": 26,
   "metadata": {
    "scrolled": false
   },
   "outputs": [
    {
     "data": {
      "text/plain": [
       "0.0         AxesSubplot(0.1,0.15;0.363636x0.75)\n",
       "1.0    AxesSubplot(0.536364,0.15;0.363636x0.75)\n",
       "dtype: object"
      ]
     },
     "execution_count": 26,
     "metadata": {},
     "output_type": "execute_result"
    },
    {
     "data": {
      "image/png": "[encoded data removed]",
      "text/plain": [
       "<Figure size 432x288 with 2 Axes>"
      ]
     },
     "metadata": {
      "needs_background": "light"
     },
     "output_type": "display_data"
    }
   ],
   "source": [
    "acc_false_neg.groupby('term')[['term','home_ownership']].boxplot(by='term', column='home_ownership')"
   ]
  },
  {
   "cell_type": "code",
   "execution_count": 27,
   "metadata": {},
   "outputs": [
    {
     "data": {
      "text/plain": [
       "0.0         AxesSubplot(0.1,0.15;0.363636x0.75)\n",
       "1.0    AxesSubplot(0.536364,0.15;0.363636x0.75)\n",
       "dtype: object"
      ]
     },
     "execution_count": 27,
     "metadata": {},
     "output_type": "execute_result"
    },
    {
     "data": {
      "image/png": "[encoded data removed]",
      "text/plain": [
       "<Figure size 432x288 with 2 Axes>"
      ]
     },
     "metadata": {
      "needs_background": "light"
     },
     "output_type": "display_data"
    }
   ],
   "source": [
    "# false pos\n",
    "\n",
    "acc_false_pos.groupby('term')[['term','home_ownership']].boxplot(by='term', column='home_ownership')"
   ]
  },
  {
   "cell_type": "code",
   "execution_count": 28,
   "metadata": {},
   "outputs": [
    {
     "data": {
      "text/plain": [
       "<matplotlib.legend.Legend at 0x250097ae310>"
      ]
     },
     "execution_count": 28,
     "metadata": {},
     "output_type": "execute_result"
    },
    {
     "data": {
      "image/png": "[encoded data removed]",
      "text/plain": [
       "<Figure size 432x288 with 1 Axes>"
      ]
     },
     "metadata": {
      "needs_background": "light"
     },
     "output_type": "display_data"
    }
   ],
   "source": [
    "# by outcome\n",
    "\n",
    "fig, ax = plt.subplots()\n",
    "ax = sns.violinplot(x='outcome', y='home_ownership', hue='term', data=acc_false, split=True)\n",
    "\n",
    "ax.legend(loc=2)"
   ]
  },
  {
   "cell_type": "code",
   "execution_count": 29,
   "metadata": {},
   "outputs": [
    {
     "data": {
      "text/plain": [
       "<matplotlib.legend.Legend at 0x2500981b220>"
      ]
     },
     "execution_count": 29,
     "metadata": {},
     "output_type": "execute_result"
    },
    {
     "data": {
      "image/png": "[encoded data removed]",
      "text/plain": [
       "<Figure size 432x288 with 1 Axes>"
      ]
     },
     "metadata": {
      "needs_background": "light"
     },
     "output_type": "display_data"
    }
   ],
   "source": [
    "# by term\n",
    "\n",
    "fig, ax = plt.subplots()\n",
    "ax = sns.violinplot(x='term', y='home_ownership', hue='outcome', data=acc_false, split=True)\n",
    "\n",
    "ax.legend(loc=2)"
   ]
  },
  {
   "cell_type": "markdown",
   "metadata": {},
   "source": [
    "## Interest Rate"
   ]
  },
  {
   "cell_type": "code",
   "execution_count": 30,
   "metadata": {
    "scrolled": true
   },
   "outputs": [
    {
     "data": {
      "text/plain": [
       "0.0         AxesSubplot(0.1,0.15;0.363636x0.75)\n",
       "1.0    AxesSubplot(0.536364,0.15;0.363636x0.75)\n",
       "dtype: object"
      ]
     },
     "execution_count": 30,
     "metadata": {},
     "output_type": "execute_result"
    },
    {
     "data": {
      "image/png": "[encoded data removed]",
      "text/plain": [
       "<Figure size 432x288 with 2 Axes>"
      ]
     },
     "metadata": {
      "needs_background": "light"
     },
     "output_type": "display_data"
    }
   ],
   "source": [
    "acc_false_neg.groupby('term')[['term','int_rate']].boxplot(by='term', column='int_rate')"
   ]
  },
  {
   "cell_type": "code",
   "execution_count": 31,
   "metadata": {},
   "outputs": [
    {
     "data": {
      "text/plain": [
       "0.0         AxesSubplot(0.1,0.15;0.363636x0.75)\n",
       "1.0    AxesSubplot(0.536364,0.15;0.363636x0.75)\n",
       "dtype: object"
      ]
     },
     "execution_count": 31,
     "metadata": {},
     "output_type": "execute_result"
    },
    {
     "data": {
      "image/png": "[encoded data removed]",
      "text/plain": [
       "<Figure size 432x288 with 2 Axes>"
      ]
     },
     "metadata": {
      "needs_background": "light"
     },
     "output_type": "display_data"
    }
   ],
   "source": [
    "# false pos\n",
    "\n",
    "acc_false_pos.groupby('term')[['term','annual_inc']].boxplot(by='term', column='annual_inc')"
   ]
  },
  {
   "cell_type": "code",
   "execution_count": 32,
   "metadata": {},
   "outputs": [
    {
     "data": {
      "text/plain": [
       "<matplotlib.legend.Legend at 0x250036b56d0>"
      ]
     },
     "execution_count": 32,
     "metadata": {},
     "output_type": "execute_result"
    },
    {
     "data": {
      "image/png": "[encoded data removed]",
      "text/plain": [
       "<Figure size 432x288 with 1 Axes>"
      ]
     },
     "metadata": {
      "needs_background": "light"
     },
     "output_type": "display_data"
    }
   ],
   "source": [
    "# by outcome\n",
    "\n",
    "fig, ax = plt.subplots()\n",
    "ax = sns.violinplot(x='outcome', y='int_rate', hue='term', data=acc_false, split=True)\n",
    "\n",
    "ax.legend(loc=2)\n",
    "\n",
    "# 60 month term more likely to default with lower interest rate\n",
    "# 36 month term more likely to default with higher interest rate"
   ]
  },
  {
   "cell_type": "code",
   "execution_count": 33,
   "metadata": {},
   "outputs": [
    {
     "data": {
      "text/plain": [
       "<matplotlib.legend.Legend at 0x250036bc310>"
      ]
     },
     "execution_count": 33,
     "metadata": {},
     "output_type": "execute_result"
    },
    {
     "data": {
      "image/png": "[encoded data removed]",
      "text/plain": [
       "<Figure size 432x288 with 1 Axes>"
      ]
     },
     "metadata": {
      "needs_background": "light"
     },
     "output_type": "display_data"
    }
   ],
   "source": [
    "# by term\n",
    "\n",
    "fig, ax = plt.subplots()\n",
    "ax = sns.violinplot(x='term', y='int_rate', hue='outcome', data=acc_false, split=True)\n",
    "\n",
    "ax.legend(loc=2)"
   ]
  },
  {
   "cell_type": "markdown",
   "metadata": {},
   "source": [
    "## All Util"
   ]
  },
  {
   "cell_type": "code",
   "execution_count": 34,
   "metadata": {
    "scrolled": false
   },
   "outputs": [
    {
     "data": {
      "text/plain": [
       "0.0         AxesSubplot(0.1,0.15;0.363636x0.75)\n",
       "1.0    AxesSubplot(0.536364,0.15;0.363636x0.75)\n",
       "dtype: object"
      ]
     },
     "execution_count": 34,
     "metadata": {},
     "output_type": "execute_result"
    },
    {
     "data": {
      "image/png": "[encoded data removed]",
      "text/plain": [
       "<Figure size 432x288 with 2 Axes>"
      ]
     },
     "metadata": {
      "needs_background": "light"
     },
     "output_type": "display_data"
    }
   ],
   "source": [
    "acc_false_neg.groupby('term')[['term','all_util']].boxplot(by='term', column='all_util')"
   ]
  },
  {
   "cell_type": "code",
   "execution_count": 35,
   "metadata": {},
   "outputs": [
    {
     "data": {
      "text/plain": [
       "0.0         AxesSubplot(0.1,0.15;0.363636x0.75)\n",
       "1.0    AxesSubplot(0.536364,0.15;0.363636x0.75)\n",
       "dtype: object"
      ]
     },
     "execution_count": 35,
     "metadata": {},
     "output_type": "execute_result"
    },
    {
     "data": {
      "image/png": "[encoded data removed]",
      "text/plain": [
       "<Figure size 432x288 with 2 Axes>"
      ]
     },
     "metadata": {
      "needs_background": "light"
     },
     "output_type": "display_data"
    }
   ],
   "source": [
    "# false pos\n",
    "\n",
    "acc_false_pos.groupby('term')[['term','all_util']].boxplot(by='term', column='annual_inc')"
   ]
  },
  {
   "cell_type": "code",
   "execution_count": 36,
   "metadata": {
    "scrolled": true
   },
   "outputs": [
    {
     "data": {
      "text/plain": [
       "<matplotlib.legend.Legend at 0x250039d6b20>"
      ]
     },
     "execution_count": 36,
     "metadata": {},
     "output_type": "execute_result"
    },
    {
     "data": {
      "image/png": "[encoded data removed]",
      "text/plain": [
       "<Figure size 432x288 with 1 Axes>"
      ]
     },
     "metadata": {
      "needs_background": "light"
     },
     "output_type": "display_data"
    }
   ],
   "source": [
    "# by outcome\n",
    "\n",
    "fig, ax = plt.subplots()\n",
    "ax = sns.violinplot(x='outcome', y='all_util', hue='term', data=acc_false, split=True)\n",
    "\n",
    "ax.legend(loc=2)"
   ]
  },
  {
   "cell_type": "code",
   "execution_count": 37,
   "metadata": {},
   "outputs": [
    {
     "data": {
      "text/plain": [
       "<matplotlib.legend.Legend at 0x25003a41c70>"
      ]
     },
     "execution_count": 37,
     "metadata": {},
     "output_type": "execute_result"
    },
    {
     "data": {
      "image/png": "[encoded data removed]",
      "text/plain": [
       "<Figure size 432x288 with 1 Axes>"
      ]
     },
     "metadata": {
      "needs_background": "light"
     },
     "output_type": "display_data"
    }
   ],
   "source": [
    "# by term\n",
    "\n",
    "fig, ax = plt.subplots()\n",
    "ax = sns.violinplot(x='term', y='all_util', hue='outcome', data=acc_false, split=True)\n",
    "\n",
    "ax.legend(loc=2)"
   ]
  },
  {
   "cell_type": "markdown",
   "metadata": {},
   "source": [
    "# Debt to Income"
   ]
  },
  {
   "cell_type": "code",
   "execution_count": 38,
   "metadata": {
    "scrolled": false
   },
   "outputs": [
    {
     "data": {
      "text/plain": [
       "0.0         AxesSubplot(0.1,0.15;0.363636x0.75)\n",
       "1.0    AxesSubplot(0.536364,0.15;0.363636x0.75)\n",
       "dtype: object"
      ]
     },
     "execution_count": 38,
     "metadata": {},
     "output_type": "execute_result"
    },
    {
     "data": {
      "image/png": "[encoded data removed]",
      "text/plain": [
       "<Figure size 432x288 with 2 Axes>"
      ]
     },
     "metadata": {
      "needs_background": "light"
     },
     "output_type": "display_data"
    }
   ],
   "source": [
    "acc_false_neg.groupby('term')[['term','dti']].boxplot(by='term', column='dti')"
   ]
  },
  {
   "cell_type": "code",
   "execution_count": 39,
   "metadata": {},
   "outputs": [
    {
     "data": {
      "text/plain": [
       "0.0         AxesSubplot(0.1,0.15;0.363636x0.75)\n",
       "1.0    AxesSubplot(0.536364,0.15;0.363636x0.75)\n",
       "dtype: object"
      ]
     },
     "execution_count": 39,
     "metadata": {},
     "output_type": "execute_result"
    },
    {
     "data": {
      "image/png": "[encoded data removed]",
      "text/plain": [
       "<Figure size 432x288 with 2 Axes>"
      ]
     },
     "metadata": {
      "needs_background": "light"
     },
     "output_type": "display_data"
    }
   ],
   "source": [
    "# false pos\n",
    "\n",
    "acc_false_pos.groupby('term')[['term','dti']].boxplot(by='term', column='annual_inc')"
   ]
  },
  {
   "cell_type": "code",
   "execution_count": 40,
   "metadata": {},
   "outputs": [
    {
     "data": {
      "text/plain": [
       "<matplotlib.legend.Legend at 0x25003c1edf0>"
      ]
     },
     "execution_count": 40,
     "metadata": {},
     "output_type": "execute_result"
    },
    {
     "data": {
      "image/png": "[encoded data removed]",
      "text/plain": [
       "<Figure size 432x288 with 1 Axes>"
      ]
     },
     "metadata": {
      "needs_background": "light"
     },
     "output_type": "display_data"
    }
   ],
   "source": [
    "# by outcome\n",
    "\n",
    "fig, ax = plt.subplots()\n",
    "ax = sns.violinplot(x='outcome', y='dti', hue='term', data=acc_false, split=True)\n",
    "\n",
    "ax.legend(loc=2)"
   ]
  },
  {
   "cell_type": "code",
   "execution_count": 41,
   "metadata": {},
   "outputs": [
    {
     "data": {
      "text/plain": [
       "<matplotlib.legend.Legend at 0x25003c8da30>"
      ]
     },
     "execution_count": 41,
     "metadata": {},
     "output_type": "execute_result"
    },
    {
     "data": {
      "image/png": "[encoded data removed]",
      "text/plain": [
       "<Figure size 432x288 with 1 Axes>"
      ]
     },
     "metadata": {
      "needs_background": "light"
     },
     "output_type": "display_data"
    }
   ],
   "source": [
    "# by term\n",
    "\n",
    "fig, ax = plt.subplots()\n",
    "ax = sns.violinplot(x='term', y='dti', hue='outcome', data=acc_false, split=True)\n",
    "\n",
    "ax.legend(loc=2)"
   ]
  },
  {
   "cell_type": "markdown",
   "metadata": {},
   "source": [
    "# Support Vector Classification"
   ]
  },
  {
   "cell_type": "code",
   "execution_count": 42,
   "metadata": {},
   "outputs": [],
   "source": [
    "from sklearn import svm\n",
    "\n",
    "svm_model = svm.SVC(C=1e2, random_state=state)"
   ]
  },
  {
   "cell_type": "code",
   "execution_count": 43,
   "metadata": {
    "scrolled": false
   },
   "outputs": [
    {
     "name": "stdout",
     "output_type": "stream",
     "text": [
      "Wall time: 2h 40min 8s\n"
     ]
    },
    {
     "data": {
      "text/plain": [
       "SVC(C=100.0, random_state=0)"
      ]
     },
     "execution_count": 43,
     "metadata": {},
     "output_type": "execute_result"
    }
   ],
   "source": [
    "%time svm_model.fit(xtrain, ytrain)"
   ]
  },
  {
   "cell_type": "code",
   "execution_count": 44,
   "metadata": {},
   "outputs": [
    {
     "data": {
      "text/plain": [
       "<sklearn.metrics._plot.confusion_matrix.ConfusionMatrixDisplay at 0x25003cf5280>"
      ]
     },
     "execution_count": 44,
     "metadata": {},
     "output_type": "execute_result"
    },
    {
     "data": {
      "image/png": "[encoded data removed]",
      "text/plain": [
       "<Figure size 432x288 with 2 Axes>"
      ]
     },
     "metadata": {
      "needs_background": "light"
     },
     "output_type": "display_data"
    }
   ],
   "source": [
    "from sklearn.metrics import plot_confusion_matrix\n",
    "\n",
    "plot_confusion_matrix(svm_model, xtest, ytest)"
   ]
  },
  {
   "cell_type": "code",
   "execution_count": 45,
   "metadata": {},
   "outputs": [],
   "source": [
    "svm_model2 = svm.SVC(C=1e-2, random_state=state)"
   ]
  },
  {
   "cell_type": "code",
   "execution_count": 46,
   "metadata": {},
   "outputs": [
    {
     "name": "stdout",
     "output_type": "stream",
     "text": [
      "Wall time: 39min 56s\n"
     ]
    },
    {
     "data": {
      "text/plain": [
       "SVC(C=0.01, random_state=0)"
      ]
     },
     "execution_count": 46,
     "metadata": {},
     "output_type": "execute_result"
    }
   ],
   "source": [
    "%time svm_model2.fit(xtrain, ytrain)"
   ]
  },
  {
   "cell_type": "code",
   "execution_count": 47,
   "metadata": {
    "scrolled": true
   },
   "outputs": [
    {
     "data": {
      "text/plain": [
       "<sklearn.metrics._plot.confusion_matrix.ConfusionMatrixDisplay at 0x25003d185b0>"
      ]
     },
     "execution_count": 47,
     "metadata": {},
     "output_type": "execute_result"
    },
    {
     "data": {
      "image/png": "[encoded data removed]",
      "text/plain": [
       "<Figure size 432x288 with 2 Axes>"
      ]
     },
     "metadata": {
      "needs_background": "light"
     },
     "output_type": "display_data"
    }
   ],
   "source": [
    "from sklearn.metrics import plot_confusion_matrix\n",
    "\n",
    "plot_confusion_matrix(svm_model2, xtest, ytest)"
   ]
  },
  {
   "cell_type": "code",
   "execution_count": null,
   "metadata": {},
   "outputs": [],
   "source": []
  },
  {
   "cell_type": "code",
   "execution_count": null,
   "metadata": {},
   "outputs": [],
   "source": []
  },
  {
   "cell_type": "code",
   "execution_count": null,
   "metadata": {},
   "outputs": [],
   "source": []
  }
 ],
 "metadata": {
  "kernelspec": {
   "display_name": "Python 3",
   "language": "python",
   "name": "python3"
  },
  "language_info": {
   "codemirror_mode": {
    "name": "ipython",
    "version": 3
   },
   "file_extension": ".py",
   "mimetype": "text/x-python",
   "name": "python",
   "nbconvert_exporter": "python",
   "pygments_lexer": "ipython3",
   "version": "3.8.5"
  }
 },
 "nbformat": 4,
 "nbformat_minor": 4
}
