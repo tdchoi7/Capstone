{
 "cells": [
  {
   "cell_type": "code",
   "execution_count": 1,
   "metadata": {
    "id": "ycAZKdtxboD1"
   },
   "outputs": [],
   "source": [
    "import numpy as np\n",
    "import pandas as pd\n",
    "import matplotlib\n",
    "import matplotlib.pyplot as plt\n",
    "%matplotlib inline \n",
    "from sklearn import metrics\n",
    "import random\n",
    "import statistics"
   ]
  },
  {
   "cell_type": "code",
   "execution_count": 2,
   "metadata": {
    "id": "wYvISBO-boD4",
    "outputId": "cff4de09-ee5e-40e1-ce56-ed1c4832b796"
   },
   "outputs": [
    {
     "data": {
      "text/html": [
       "<div>\n",
       "<style scoped>\n",
       "    .dataframe tbody tr th:only-of-type {\n",
       "        vertical-align: middle;\n",
       "    }\n",
       "\n",
       "    .dataframe tbody tr th {\n",
       "        vertical-align: top;\n",
       "    }\n",
       "\n",
       "    .dataframe thead th {\n",
       "        text-align: right;\n",
       "    }\n",
       "</style>\n",
       "<table border=\"1\" class=\"dataframe\">\n",
       "  <thead>\n",
       "    <tr style=\"text-align: right;\">\n",
       "      <th></th>\n",
       "      <th>annual_inc</th>\n",
       "      <th>fico_score</th>\n",
       "      <th>term</th>\n",
       "      <th>loan_amnt</th>\n",
       "      <th>home_ownership</th>\n",
       "      <th>int_rate</th>\n",
       "      <th>all_util</th>\n",
       "      <th>dti</th>\n",
       "    </tr>\n",
       "  </thead>\n",
       "  <tbody>\n",
       "    <tr>\n",
       "      <th>0</th>\n",
       "      <td>0.003442</td>\n",
       "      <td>0.530786</td>\n",
       "      <td>1.0</td>\n",
       "      <td>0.278481</td>\n",
       "      <td>0.666667</td>\n",
       "      <td>0.179907</td>\n",
       "      <td>0.161850</td>\n",
       "      <td>0.00826</td>\n",
       "    </tr>\n",
       "    <tr>\n",
       "      <th>1</th>\n",
       "      <td>0.005000</td>\n",
       "      <td>0.828025</td>\n",
       "      <td>0.0</td>\n",
       "      <td>0.189873</td>\n",
       "      <td>0.666667</td>\n",
       "      <td>0.000389</td>\n",
       "      <td>0.248555</td>\n",
       "      <td>0.01553</td>\n",
       "    </tr>\n",
       "    <tr>\n",
       "      <th>2</th>\n",
       "      <td>0.009684</td>\n",
       "      <td>0.509554</td>\n",
       "      <td>0.0</td>\n",
       "      <td>0.696203</td>\n",
       "      <td>0.666667</td>\n",
       "      <td>0.100857</td>\n",
       "      <td>0.000000</td>\n",
       "      <td>0.03137</td>\n",
       "    </tr>\n",
       "    <tr>\n",
       "      <th>3</th>\n",
       "      <td>0.003273</td>\n",
       "      <td>0.233546</td>\n",
       "      <td>0.0</td>\n",
       "      <td>0.315190</td>\n",
       "      <td>1.000000</td>\n",
       "      <td>0.488707</td>\n",
       "      <td>0.000000</td>\n",
       "      <td>0.00680</td>\n",
       "    </tr>\n",
       "    <tr>\n",
       "      <th>4</th>\n",
       "      <td>0.007273</td>\n",
       "      <td>0.573248</td>\n",
       "      <td>1.0</td>\n",
       "      <td>0.518987</td>\n",
       "      <td>0.666667</td>\n",
       "      <td>0.247664</td>\n",
       "      <td>0.000000</td>\n",
       "      <td>0.02169</td>\n",
       "    </tr>\n",
       "    <tr>\n",
       "      <th>...</th>\n",
       "      <td>...</td>\n",
       "      <td>...</td>\n",
       "      <td>...</td>\n",
       "      <td>...</td>\n",
       "      <td>...</td>\n",
       "      <td>...</td>\n",
       "      <td>...</td>\n",
       "      <td>...</td>\n",
       "    </tr>\n",
       "    <tr>\n",
       "      <th>269355</th>\n",
       "      <td>0.005637</td>\n",
       "      <td>0.276008</td>\n",
       "      <td>1.0</td>\n",
       "      <td>0.594937</td>\n",
       "      <td>0.000000</td>\n",
       "      <td>0.291277</td>\n",
       "      <td>0.294798</td>\n",
       "      <td>0.01546</td>\n",
       "    </tr>\n",
       "    <tr>\n",
       "      <th>269356</th>\n",
       "      <td>0.004491</td>\n",
       "      <td>0.318471</td>\n",
       "      <td>1.0</td>\n",
       "      <td>0.351899</td>\n",
       "      <td>1.000000</td>\n",
       "      <td>0.221184</td>\n",
       "      <td>0.369942</td>\n",
       "      <td>0.01485</td>\n",
       "    </tr>\n",
       "    <tr>\n",
       "      <th>269357</th>\n",
       "      <td>0.011365</td>\n",
       "      <td>0.254777</td>\n",
       "      <td>1.0</td>\n",
       "      <td>0.797468</td>\n",
       "      <td>0.666667</td>\n",
       "      <td>0.338006</td>\n",
       "      <td>0.260116</td>\n",
       "      <td>0.03089</td>\n",
       "    </tr>\n",
       "    <tr>\n",
       "      <th>269358</th>\n",
       "      <td>0.008637</td>\n",
       "      <td>0.467091</td>\n",
       "      <td>1.0</td>\n",
       "      <td>0.908861</td>\n",
       "      <td>0.000000</td>\n",
       "      <td>0.357477</td>\n",
       "      <td>0.456647</td>\n",
       "      <td>0.02250</td>\n",
       "    </tr>\n",
       "    <tr>\n",
       "      <th>269359</th>\n",
       "      <td>0.014274</td>\n",
       "      <td>0.530786</td>\n",
       "      <td>1.0</td>\n",
       "      <td>0.797468</td>\n",
       "      <td>0.666667</td>\n",
       "      <td>0.357477</td>\n",
       "      <td>0.213873</td>\n",
       "      <td>0.01134</td>\n",
       "    </tr>\n",
       "  </tbody>\n",
       "</table>\n",
       "<p>269360 rows × 8 columns</p>\n",
       "</div>"
      ],
      "text/plain": [
       "        annual_inc  fico_score  term  loan_amnt  home_ownership  int_rate  \\\n",
       "0         0.003442    0.530786   1.0   0.278481        0.666667  0.179907   \n",
       "1         0.005000    0.828025   0.0   0.189873        0.666667  0.000389   \n",
       "2         0.009684    0.509554   0.0   0.696203        0.666667  0.100857   \n",
       "3         0.003273    0.233546   0.0   0.315190        1.000000  0.488707   \n",
       "4         0.007273    0.573248   1.0   0.518987        0.666667  0.247664   \n",
       "...            ...         ...   ...        ...             ...       ...   \n",
       "269355    0.005637    0.276008   1.0   0.594937        0.000000  0.291277   \n",
       "269356    0.004491    0.318471   1.0   0.351899        1.000000  0.221184   \n",
       "269357    0.011365    0.254777   1.0   0.797468        0.666667  0.338006   \n",
       "269358    0.008637    0.467091   1.0   0.908861        0.000000  0.357477   \n",
       "269359    0.014274    0.530786   1.0   0.797468        0.666667  0.357477   \n",
       "\n",
       "        all_util      dti  \n",
       "0       0.161850  0.00826  \n",
       "1       0.248555  0.01553  \n",
       "2       0.000000  0.03137  \n",
       "3       0.000000  0.00680  \n",
       "4       0.000000  0.02169  \n",
       "...          ...      ...  \n",
       "269355  0.294798  0.01546  \n",
       "269356  0.369942  0.01485  \n",
       "269357  0.260116  0.03089  \n",
       "269358  0.456647  0.02250  \n",
       "269359  0.213873  0.01134  \n",
       "\n",
       "[269360 rows x 8 columns]"
      ]
     },
     "execution_count": 2,
     "metadata": {},
     "output_type": "execute_result"
    }
   ],
   "source": [
    "df_train = pd.read_csv('acc_vred.csv.gz',\n",
    "                  compression='gzip',\n",
    "                  header=0,\n",
    "                  sep=',',\n",
    "                  quotechar='\"')\n",
    "df_train"
   ]
  },
  {
   "cell_type": "code",
   "execution_count": 3,
   "metadata": {
    "id": "O2En2MfPboD5",
    "outputId": "a97e5db6-e1c8-45ea-919a-bc6640f2c146"
   },
   "outputs": [
    {
     "data": {
      "text/html": [
       "<div>\n",
       "<style scoped>\n",
       "    .dataframe tbody tr th:only-of-type {\n",
       "        vertical-align: middle;\n",
       "    }\n",
       "\n",
       "    .dataframe tbody tr th {\n",
       "        vertical-align: top;\n",
       "    }\n",
       "\n",
       "    .dataframe thead th {\n",
       "        text-align: right;\n",
       "    }\n",
       "</style>\n",
       "<table border=\"1\" class=\"dataframe\">\n",
       "  <thead>\n",
       "    <tr style=\"text-align: right;\">\n",
       "      <th></th>\n",
       "      <th>loan_amnt</th>\n",
       "      <th>funded_amnt_inv</th>\n",
       "      <th>term</th>\n",
       "      <th>int_rate</th>\n",
       "      <th>installment</th>\n",
       "      <th>grade</th>\n",
       "      <th>sub_grade</th>\n",
       "      <th>emp_length</th>\n",
       "      <th>home_ownership</th>\n",
       "      <th>annual_inc</th>\n",
       "      <th>...</th>\n",
       "      <th>purpose_moving</th>\n",
       "      <th>purpose_other</th>\n",
       "      <th>purpose_renewable_energy</th>\n",
       "      <th>purpose_small_business</th>\n",
       "      <th>purpose_vacation</th>\n",
       "      <th>purpose_wedding</th>\n",
       "      <th>initial_list_status_w</th>\n",
       "      <th>total_pymnt</th>\n",
       "      <th>funded_amnt</th>\n",
       "      <th>roi</th>\n",
       "    </tr>\n",
       "  </thead>\n",
       "  <tbody>\n",
       "    <tr>\n",
       "      <th>0</th>\n",
       "      <td>0.612658</td>\n",
       "      <td>0.61750</td>\n",
       "      <td>0.0</td>\n",
       "      <td>0.260125</td>\n",
       "      <td>0.472658</td>\n",
       "      <td>0.333333</td>\n",
       "      <td>0.294118</td>\n",
       "      <td>1.000000</td>\n",
       "      <td>0.666667</td>\n",
       "      <td>0.006806</td>\n",
       "      <td>...</td>\n",
       "      <td>0.0</td>\n",
       "      <td>0.0</td>\n",
       "      <td>0.0</td>\n",
       "      <td>1.0</td>\n",
       "      <td>0.0</td>\n",
       "      <td>0.0</td>\n",
       "      <td>1.0</td>\n",
       "      <td>25679.660000</td>\n",
       "      <td>24700.0</td>\n",
       "      <td>0.039662</td>\n",
       "    </tr>\n",
       "    <tr>\n",
       "      <th>1</th>\n",
       "      <td>0.493671</td>\n",
       "      <td>0.50000</td>\n",
       "      <td>1.0</td>\n",
       "      <td>0.213006</td>\n",
       "      <td>0.245424</td>\n",
       "      <td>0.166667</td>\n",
       "      <td>0.235294</td>\n",
       "      <td>1.000000</td>\n",
       "      <td>0.666667</td>\n",
       "      <td>0.006597</td>\n",
       "      <td>...</td>\n",
       "      <td>0.0</td>\n",
       "      <td>0.0</td>\n",
       "      <td>0.0</td>\n",
       "      <td>0.0</td>\n",
       "      <td>0.0</td>\n",
       "      <td>0.0</td>\n",
       "      <td>1.0</td>\n",
       "      <td>22705.924294</td>\n",
       "      <td>20000.0</td>\n",
       "      <td>0.135296</td>\n",
       "    </tr>\n",
       "    <tr>\n",
       "      <th>2</th>\n",
       "      <td>0.250633</td>\n",
       "      <td>0.26000</td>\n",
       "      <td>1.0</td>\n",
       "      <td>0.667445</td>\n",
       "      <td>0.161740</td>\n",
       "      <td>0.833333</td>\n",
       "      <td>0.735294</td>\n",
       "      <td>0.363636</td>\n",
       "      <td>0.666667</td>\n",
       "      <td>0.010935</td>\n",
       "      <td>...</td>\n",
       "      <td>0.0</td>\n",
       "      <td>0.0</td>\n",
       "      <td>0.0</td>\n",
       "      <td>0.0</td>\n",
       "      <td>0.0</td>\n",
       "      <td>0.0</td>\n",
       "      <td>1.0</td>\n",
       "      <td>11740.500000</td>\n",
       "      <td>10400.0</td>\n",
       "      <td>0.128894</td>\n",
       "    </tr>\n",
       "    <tr>\n",
       "      <th>3</th>\n",
       "      <td>0.289873</td>\n",
       "      <td>0.29875</td>\n",
       "      <td>0.0</td>\n",
       "      <td>0.316589</td>\n",
       "      <td>0.229315</td>\n",
       "      <td>0.333333</td>\n",
       "      <td>0.352941</td>\n",
       "      <td>0.454545</td>\n",
       "      <td>0.000000</td>\n",
       "      <td>0.003560</td>\n",
       "      <td>...</td>\n",
       "      <td>0.0</td>\n",
       "      <td>0.0</td>\n",
       "      <td>0.0</td>\n",
       "      <td>0.0</td>\n",
       "      <td>0.0</td>\n",
       "      <td>0.0</td>\n",
       "      <td>1.0</td>\n",
       "      <td>13708.948530</td>\n",
       "      <td>11950.0</td>\n",
       "      <td>0.147192</td>\n",
       "    </tr>\n",
       "    <tr>\n",
       "      <th>4</th>\n",
       "      <td>0.022785</td>\n",
       "      <td>0.03500</td>\n",
       "      <td>0.0</td>\n",
       "      <td>0.294782</td>\n",
       "      <td>0.019398</td>\n",
       "      <td>0.333333</td>\n",
       "      <td>0.323529</td>\n",
       "      <td>0.363636</td>\n",
       "      <td>0.666667</td>\n",
       "      <td>0.006702</td>\n",
       "      <td>...</td>\n",
       "      <td>0.0</td>\n",
       "      <td>1.0</td>\n",
       "      <td>0.0</td>\n",
       "      <td>0.0</td>\n",
       "      <td>0.0</td>\n",
       "      <td>0.0</td>\n",
       "      <td>1.0</td>\n",
       "      <td>1575.160698</td>\n",
       "      <td>1400.0</td>\n",
       "      <td>0.125115</td>\n",
       "    </tr>\n",
       "  </tbody>\n",
       "</table>\n",
       "<p>5 rows × 131 columns</p>\n",
       "</div>"
      ],
      "text/plain": [
       "   loan_amnt  funded_amnt_inv  term  int_rate  installment     grade  \\\n",
       "0   0.612658          0.61750   0.0  0.260125     0.472658  0.333333   \n",
       "1   0.493671          0.50000   1.0  0.213006     0.245424  0.166667   \n",
       "2   0.250633          0.26000   1.0  0.667445     0.161740  0.833333   \n",
       "3   0.289873          0.29875   0.0  0.316589     0.229315  0.333333   \n",
       "4   0.022785          0.03500   0.0  0.294782     0.019398  0.333333   \n",
       "\n",
       "   sub_grade  emp_length  home_ownership  annual_inc  ...  purpose_moving  \\\n",
       "0   0.294118    1.000000        0.666667    0.006806  ...             0.0   \n",
       "1   0.235294    1.000000        0.666667    0.006597  ...             0.0   \n",
       "2   0.735294    0.363636        0.666667    0.010935  ...             0.0   \n",
       "3   0.352941    0.454545        0.000000    0.003560  ...             0.0   \n",
       "4   0.323529    0.363636        0.666667    0.006702  ...             0.0   \n",
       "\n",
       "   purpose_other  purpose_renewable_energy  purpose_small_business  \\\n",
       "0            0.0                       0.0                     1.0   \n",
       "1            0.0                       0.0                     0.0   \n",
       "2            0.0                       0.0                     0.0   \n",
       "3            0.0                       0.0                     0.0   \n",
       "4            1.0                       0.0                     0.0   \n",
       "\n",
       "   purpose_vacation  purpose_wedding  initial_list_status_w   total_pymnt  \\\n",
       "0               0.0              0.0                    1.0  25679.660000   \n",
       "1               0.0              0.0                    1.0  22705.924294   \n",
       "2               0.0              0.0                    1.0  11740.500000   \n",
       "3               0.0              0.0                    1.0  13708.948530   \n",
       "4               0.0              0.0                    1.0   1575.160698   \n",
       "\n",
       "   funded_amnt       roi  \n",
       "0      24700.0  0.039662  \n",
       "1      20000.0  0.135296  \n",
       "2      10400.0  0.128894  \n",
       "3      11950.0  0.147192  \n",
       "4       1400.0  0.125115  \n",
       "\n",
       "[5 rows x 131 columns]"
      ]
     },
     "execution_count": 3,
     "metadata": {},
     "output_type": "execute_result"
    }
   ],
   "source": [
    "df_pred_full = pd.read_csv('acc_2_pred_final.csv.gz',\n",
    "                  compression='gzip',\n",
    "                  header=0,\n",
    "                  sep=',',\n",
    "                  quotechar='\"')\n",
    "df_pred_full.head()"
   ]
  },
  {
   "cell_type": "code",
   "execution_count": 4,
   "metadata": {
    "id": "YAKqkGEIboD6"
   },
   "outputs": [],
   "source": [
    "df_pred = df_pred_full[list(df_train.columns)]"
   ]
  },
  {
   "cell_type": "code",
   "execution_count": 5,
   "metadata": {
    "id": "Ucssj2HuboD6",
    "outputId": "a4029ed5-2fcb-4708-8622-2c9f4bee9a57"
   },
   "outputs": [
    {
     "data": {
      "text/html": [
       "<div>\n",
       "<style scoped>\n",
       "    .dataframe tbody tr th:only-of-type {\n",
       "        vertical-align: middle;\n",
       "    }\n",
       "\n",
       "    .dataframe tbody tr th {\n",
       "        vertical-align: top;\n",
       "    }\n",
       "\n",
       "    .dataframe thead th {\n",
       "        text-align: right;\n",
       "    }\n",
       "</style>\n",
       "<table border=\"1\" class=\"dataframe\">\n",
       "  <thead>\n",
       "    <tr style=\"text-align: right;\">\n",
       "      <th></th>\n",
       "      <th>annual_inc</th>\n",
       "      <th>fico_score</th>\n",
       "      <th>term</th>\n",
       "      <th>loan_amnt</th>\n",
       "      <th>home_ownership</th>\n",
       "      <th>int_rate</th>\n",
       "      <th>all_util</th>\n",
       "      <th>dti</th>\n",
       "    </tr>\n",
       "  </thead>\n",
       "  <tbody>\n",
       "    <tr>\n",
       "      <th>0</th>\n",
       "      <td>0.006806</td>\n",
       "      <td>0.445860</td>\n",
       "      <td>0.0</td>\n",
       "      <td>0.612658</td>\n",
       "      <td>0.666667</td>\n",
       "      <td>0.260125</td>\n",
       "      <td>0.150754</td>\n",
       "      <td>0.01706</td>\n",
       "    </tr>\n",
       "    <tr>\n",
       "      <th>1</th>\n",
       "      <td>0.006597</td>\n",
       "      <td>0.360934</td>\n",
       "      <td>1.0</td>\n",
       "      <td>0.493671</td>\n",
       "      <td>0.666667</td>\n",
       "      <td>0.213006</td>\n",
       "      <td>0.331658</td>\n",
       "      <td>0.01178</td>\n",
       "    </tr>\n",
       "    <tr>\n",
       "      <th>2</th>\n",
       "      <td>0.010935</td>\n",
       "      <td>0.360934</td>\n",
       "      <td>1.0</td>\n",
       "      <td>0.250633</td>\n",
       "      <td>0.666667</td>\n",
       "      <td>0.667445</td>\n",
       "      <td>0.396985</td>\n",
       "      <td>0.02637</td>\n",
       "    </tr>\n",
       "    <tr>\n",
       "      <th>3</th>\n",
       "      <td>0.003560</td>\n",
       "      <td>0.339703</td>\n",
       "      <td>0.0</td>\n",
       "      <td>0.289873</td>\n",
       "      <td>0.000000</td>\n",
       "      <td>0.316589</td>\n",
       "      <td>0.386935</td>\n",
       "      <td>0.01120</td>\n",
       "    </tr>\n",
       "    <tr>\n",
       "      <th>4</th>\n",
       "      <td>0.006702</td>\n",
       "      <td>0.382166</td>\n",
       "      <td>0.0</td>\n",
       "      <td>0.022785</td>\n",
       "      <td>0.666667</td>\n",
       "      <td>0.294782</td>\n",
       "      <td>0.341709</td>\n",
       "      <td>0.03595</td>\n",
       "    </tr>\n",
       "    <tr>\n",
       "      <th>...</th>\n",
       "      <td>...</td>\n",
       "      <td>...</td>\n",
       "      <td>...</td>\n",
       "      <td>...</td>\n",
       "      <td>...</td>\n",
       "      <td>...</td>\n",
       "      <td>...</td>\n",
       "      <td>...</td>\n",
       "    </tr>\n",
       "    <tr>\n",
       "      <th>674044</th>\n",
       "      <td>0.023037</td>\n",
       "      <td>0.445860</td>\n",
       "      <td>1.0</td>\n",
       "      <td>1.000000</td>\n",
       "      <td>0.666667</td>\n",
       "      <td>0.400312</td>\n",
       "      <td>0.140704</td>\n",
       "      <td>0.01188</td>\n",
       "    </tr>\n",
       "    <tr>\n",
       "      <th>674045</th>\n",
       "      <td>0.006283</td>\n",
       "      <td>0.297240</td>\n",
       "      <td>0.0</td>\n",
       "      <td>0.367089</td>\n",
       "      <td>0.666667</td>\n",
       "      <td>0.201713</td>\n",
       "      <td>0.185930</td>\n",
       "      <td>0.02740</td>\n",
       "    </tr>\n",
       "    <tr>\n",
       "      <th>674046</th>\n",
       "      <td>0.018931</td>\n",
       "      <td>0.403397</td>\n",
       "      <td>1.0</td>\n",
       "      <td>0.731646</td>\n",
       "      <td>0.666667</td>\n",
       "      <td>0.338006</td>\n",
       "      <td>0.346734</td>\n",
       "      <td>0.02303</td>\n",
       "    </tr>\n",
       "    <tr>\n",
       "      <th>674047</th>\n",
       "      <td>0.015707</td>\n",
       "      <td>0.233546</td>\n",
       "      <td>1.0</td>\n",
       "      <td>0.392405</td>\n",
       "      <td>0.000000</td>\n",
       "      <td>0.291277</td>\n",
       "      <td>0.381910</td>\n",
       "      <td>0.01325</td>\n",
       "    </tr>\n",
       "    <tr>\n",
       "      <th>674048</th>\n",
       "      <td>0.011518</td>\n",
       "      <td>0.212314</td>\n",
       "      <td>1.0</td>\n",
       "      <td>0.594937</td>\n",
       "      <td>0.000000</td>\n",
       "      <td>0.357477</td>\n",
       "      <td>0.371859</td>\n",
       "      <td>0.01930</td>\n",
       "    </tr>\n",
       "  </tbody>\n",
       "</table>\n",
       "<p>674049 rows × 8 columns</p>\n",
       "</div>"
      ],
      "text/plain": [
       "        annual_inc  fico_score  term  loan_amnt  home_ownership  int_rate  \\\n",
       "0         0.006806    0.445860   0.0   0.612658        0.666667  0.260125   \n",
       "1         0.006597    0.360934   1.0   0.493671        0.666667  0.213006   \n",
       "2         0.010935    0.360934   1.0   0.250633        0.666667  0.667445   \n",
       "3         0.003560    0.339703   0.0   0.289873        0.000000  0.316589   \n",
       "4         0.006702    0.382166   0.0   0.022785        0.666667  0.294782   \n",
       "...            ...         ...   ...        ...             ...       ...   \n",
       "674044    0.023037    0.445860   1.0   1.000000        0.666667  0.400312   \n",
       "674045    0.006283    0.297240   0.0   0.367089        0.666667  0.201713   \n",
       "674046    0.018931    0.403397   1.0   0.731646        0.666667  0.338006   \n",
       "674047    0.015707    0.233546   1.0   0.392405        0.000000  0.291277   \n",
       "674048    0.011518    0.212314   1.0   0.594937        0.000000  0.357477   \n",
       "\n",
       "        all_util      dti  \n",
       "0       0.150754  0.01706  \n",
       "1       0.331658  0.01178  \n",
       "2       0.396985  0.02637  \n",
       "3       0.386935  0.01120  \n",
       "4       0.341709  0.03595  \n",
       "...          ...      ...  \n",
       "674044  0.140704  0.01188  \n",
       "674045  0.185930  0.02740  \n",
       "674046  0.346734  0.02303  \n",
       "674047  0.381910  0.01325  \n",
       "674048  0.371859  0.01930  \n",
       "\n",
       "[674049 rows x 8 columns]"
      ]
     },
     "execution_count": 5,
     "metadata": {},
     "output_type": "execute_result"
    }
   ],
   "source": [
    "df_pred"
   ]
  },
  {
   "cell_type": "code",
   "execution_count": 6,
   "metadata": {
    "id": "J3Zn8TxVboD7",
    "outputId": "a98062fe-3b56-4ebf-8c6b-9d0fec388a72"
   },
   "outputs": [
    {
     "data": {
      "text/plain": [
       "0    134680\n",
       "1    134680\n",
       "Name: loan_status_binary, dtype: int64"
      ]
     },
     "execution_count": 6,
     "metadata": {},
     "output_type": "execute_result"
    }
   ],
   "source": [
    "target_train = pd.read_csv('target_2_train_feateng_dwnsmpl.csv.gz',\n",
    "                  compression='gzip',\n",
    "                  header=0,\n",
    "                  sep=',',\n",
    "                  quotechar='\"')\n",
    "target_train.loan_status_binary.value_counts()"
   ]
  },
  {
   "cell_type": "code",
   "execution_count": 7,
   "metadata": {
    "id": "tF-VIGV2boD8",
    "outputId": "c3d72c89-d21a-4a3a-9f41-c9b0f70e5416"
   },
   "outputs": [
    {
     "data": {
      "text/plain": [
       "0    539369\n",
       "1    134680\n",
       "Name: loan_status_binary, dtype: int64"
      ]
     },
     "execution_count": 7,
     "metadata": {},
     "output_type": "execute_result"
    }
   ],
   "source": [
    "target_pred = pd.read_csv('target_2_pred_final.csv.gz',\n",
    "                  compression='gzip',\n",
    "                  header=0,\n",
    "                  sep=',',\n",
    "                  quotechar='\"')\n",
    "target_pred.loan_status_binary.value_counts()"
   ]
  },
  {
   "cell_type": "code",
   "execution_count": 8,
   "metadata": {
    "id": "Pryz_abVboD8",
    "outputId": "dedc015f-2196-40fb-a1f8-cce32274c2e8",
    "scrolled": false
   },
   "outputs": [
    {
     "data": {
      "text/html": [
       "<div>\n",
       "<style scoped>\n",
       "    .dataframe tbody tr th:only-of-type {\n",
       "        vertical-align: middle;\n",
       "    }\n",
       "\n",
       "    .dataframe tbody tr th {\n",
       "        vertical-align: top;\n",
       "    }\n",
       "\n",
       "    .dataframe thead th {\n",
       "        text-align: right;\n",
       "    }\n",
       "</style>\n",
       "<table border=\"1\" class=\"dataframe\">\n",
       "  <thead>\n",
       "    <tr style=\"text-align: right;\">\n",
       "      <th></th>\n",
       "      <th>funded_amnt</th>\n",
       "      <th>total_pymnt</th>\n",
       "    </tr>\n",
       "  </thead>\n",
       "  <tbody>\n",
       "    <tr>\n",
       "      <th>0</th>\n",
       "      <td>2000.0</td>\n",
       "      <td>2499.418453</td>\n",
       "    </tr>\n",
       "    <tr>\n",
       "      <th>1</th>\n",
       "      <td>6000.0</td>\n",
       "      <td>7025.750091</td>\n",
       "    </tr>\n",
       "    <tr>\n",
       "      <th>2</th>\n",
       "      <td>4800.0</td>\n",
       "      <td>6361.003877</td>\n",
       "    </tr>\n",
       "    <tr>\n",
       "      <th>3</th>\n",
       "      <td>25000.0</td>\n",
       "      <td>27886.391190</td>\n",
       "    </tr>\n",
       "    <tr>\n",
       "      <th>4</th>\n",
       "      <td>8000.0</td>\n",
       "      <td>9448.774393</td>\n",
       "    </tr>\n",
       "    <tr>\n",
       "      <th>...</th>\n",
       "      <td>...</td>\n",
       "      <td>...</td>\n",
       "    </tr>\n",
       "    <tr>\n",
       "      <th>269355</th>\n",
       "      <td>24000.0</td>\n",
       "      <td>11031.190000</td>\n",
       "    </tr>\n",
       "    <tr>\n",
       "      <th>269356</th>\n",
       "      <td>14400.0</td>\n",
       "      <td>3677.170000</td>\n",
       "    </tr>\n",
       "    <tr>\n",
       "      <th>269357</th>\n",
       "      <td>32000.0</td>\n",
       "      <td>8403.350000</td>\n",
       "    </tr>\n",
       "    <tr>\n",
       "      <th>269358</th>\n",
       "      <td>36400.0</td>\n",
       "      <td>2539.420000</td>\n",
       "    </tr>\n",
       "    <tr>\n",
       "      <th>269359</th>\n",
       "      <td>32000.0</td>\n",
       "      <td>3737.940000</td>\n",
       "    </tr>\n",
       "  </tbody>\n",
       "</table>\n",
       "<p>269360 rows × 2 columns</p>\n",
       "</div>"
      ],
      "text/plain": [
       "        funded_amnt   total_pymnt\n",
       "0            2000.0   2499.418453\n",
       "1            6000.0   7025.750091\n",
       "2            4800.0   6361.003877\n",
       "3           25000.0  27886.391190\n",
       "4            8000.0   9448.774393\n",
       "...             ...           ...\n",
       "269355      24000.0  11031.190000\n",
       "269356      14400.0   3677.170000\n",
       "269357      32000.0   8403.350000\n",
       "269358      36400.0   2539.420000\n",
       "269359      32000.0   3737.940000\n",
       "\n",
       "[269360 rows x 2 columns]"
      ]
     },
     "execution_count": 8,
     "metadata": {},
     "output_type": "execute_result"
    }
   ],
   "source": [
    "df_fund_train= pd.read_csv('acc_fund_info.csv.gz',\n",
    "                  compression='gzip',\n",
    "                  header=0,\n",
    "                  sep=',',\n",
    "                  quotechar='\"')\n",
    "df_fund_train"
   ]
  },
  {
   "cell_type": "code",
   "execution_count": 9,
   "metadata": {
    "id": "AAH9CAjBboD9",
    "outputId": "570c7fdb-2f2e-442e-f85d-6b24c0e279c7"
   },
   "outputs": [
    {
     "data": {
      "text/plain": [
       "14823.051306801306"
      ]
     },
     "execution_count": 9,
     "metadata": {},
     "output_type": "execute_result"
    }
   ],
   "source": [
    "df_fund_train['funded_amnt'].mean()"
   ]
  },
  {
   "cell_type": "code",
   "execution_count": 10,
   "metadata": {
    "id": "CfoR5kjUboD-"
   },
   "outputs": [],
   "source": [
    "df_fund_pred = df_pred_full[list(df_fund_train.columns)]"
   ]
  },
  {
   "cell_type": "code",
   "execution_count": 11,
   "metadata": {
    "id": "5a1X0rt8boD-",
    "outputId": "d7084a73-5c98-4750-96f1-b4d57ecb76c9"
   },
   "outputs": [
    {
     "data": {
      "text/html": [
       "<div>\n",
       "<style scoped>\n",
       "    .dataframe tbody tr th:only-of-type {\n",
       "        vertical-align: middle;\n",
       "    }\n",
       "\n",
       "    .dataframe tbody tr th {\n",
       "        vertical-align: top;\n",
       "    }\n",
       "\n",
       "    .dataframe thead th {\n",
       "        text-align: right;\n",
       "    }\n",
       "</style>\n",
       "<table border=\"1\" class=\"dataframe\">\n",
       "  <thead>\n",
       "    <tr style=\"text-align: right;\">\n",
       "      <th></th>\n",
       "      <th>funded_amnt</th>\n",
       "      <th>total_pymnt</th>\n",
       "    </tr>\n",
       "  </thead>\n",
       "  <tbody>\n",
       "    <tr>\n",
       "      <th>0</th>\n",
       "      <td>24700.0</td>\n",
       "      <td>25679.660000</td>\n",
       "    </tr>\n",
       "    <tr>\n",
       "      <th>1</th>\n",
       "      <td>20000.0</td>\n",
       "      <td>22705.924294</td>\n",
       "    </tr>\n",
       "    <tr>\n",
       "      <th>2</th>\n",
       "      <td>10400.0</td>\n",
       "      <td>11740.500000</td>\n",
       "    </tr>\n",
       "    <tr>\n",
       "      <th>3</th>\n",
       "      <td>11950.0</td>\n",
       "      <td>13708.948530</td>\n",
       "    </tr>\n",
       "    <tr>\n",
       "      <th>4</th>\n",
       "      <td>1400.0</td>\n",
       "      <td>1575.160698</td>\n",
       "    </tr>\n",
       "    <tr>\n",
       "      <th>...</th>\n",
       "      <td>...</td>\n",
       "      <td>...</td>\n",
       "    </tr>\n",
       "    <tr>\n",
       "      <th>674044</th>\n",
       "      <td>40000.0</td>\n",
       "      <td>42089.416411</td>\n",
       "    </tr>\n",
       "    <tr>\n",
       "      <th>674045</th>\n",
       "      <td>15000.0</td>\n",
       "      <td>15908.001163</td>\n",
       "    </tr>\n",
       "    <tr>\n",
       "      <th>674046</th>\n",
       "      <td>29400.0</td>\n",
       "      <td>35848.764532</td>\n",
       "    </tr>\n",
       "    <tr>\n",
       "      <th>674047</th>\n",
       "      <td>16000.0</td>\n",
       "      <td>18660.607569</td>\n",
       "    </tr>\n",
       "    <tr>\n",
       "      <th>674048</th>\n",
       "      <td>24000.0</td>\n",
       "      <td>6755.400000</td>\n",
       "    </tr>\n",
       "  </tbody>\n",
       "</table>\n",
       "<p>674049 rows × 2 columns</p>\n",
       "</div>"
      ],
      "text/plain": [
       "        funded_amnt   total_pymnt\n",
       "0           24700.0  25679.660000\n",
       "1           20000.0  22705.924294\n",
       "2           10400.0  11740.500000\n",
       "3           11950.0  13708.948530\n",
       "4            1400.0   1575.160698\n",
       "...             ...           ...\n",
       "674044      40000.0  42089.416411\n",
       "674045      15000.0  15908.001163\n",
       "674046      29400.0  35848.764532\n",
       "674047      16000.0  18660.607569\n",
       "674048      24000.0   6755.400000\n",
       "\n",
       "[674049 rows x 2 columns]"
      ]
     },
     "execution_count": 11,
     "metadata": {},
     "output_type": "execute_result"
    }
   ],
   "source": [
    "df_fund_pred"
   ]
  },
  {
   "cell_type": "code",
   "execution_count": 12,
   "metadata": {
    "id": "CsHvcB5pboD_",
    "outputId": "4ba44c77-83cb-45c0-dab0-927538ba3567"
   },
   "outputs": [
    {
     "name": "stderr",
     "output_type": "stream",
     "text": [
      "<ipython-input-12-2085cad1e305>:1: SettingWithCopyWarning: \n",
      "A value is trying to be set on a copy of a slice from a DataFrame.\n",
      "Try using .loc[row_indexer,col_indexer] = value instead\n",
      "\n",
      "See the caveats in the documentation: https://pandas.pydata.org/pandas-docs/stable/user_guide/indexing.html#returning-a-view-versus-a-copy\n",
      "  df_fund_pred['roi'] = (df_fund_pred.total_pymnt-df_fund_pred.funded_amnt)/df_fund_pred.funded_amnt\n",
      "<ipython-input-12-2085cad1e305>:2: SettingWithCopyWarning: \n",
      "A value is trying to be set on a copy of a slice from a DataFrame.\n",
      "Try using .loc[row_indexer,col_indexer] = value instead\n",
      "\n",
      "See the caveats in the documentation: https://pandas.pydata.org/pandas-docs/stable/user_guide/indexing.html#returning-a-view-versus-a-copy\n",
      "  df_fund_pred['label'] = target_pred.loan_status_binary\n"
     ]
    },
    {
     "data": {
      "text/html": [
       "<div>\n",
       "<style scoped>\n",
       "    .dataframe tbody tr th:only-of-type {\n",
       "        vertical-align: middle;\n",
       "    }\n",
       "\n",
       "    .dataframe tbody tr th {\n",
       "        vertical-align: top;\n",
       "    }\n",
       "\n",
       "    .dataframe thead th {\n",
       "        text-align: right;\n",
       "    }\n",
       "</style>\n",
       "<table border=\"1\" class=\"dataframe\">\n",
       "  <thead>\n",
       "    <tr style=\"text-align: right;\">\n",
       "      <th></th>\n",
       "      <th>funded_amnt</th>\n",
       "      <th>total_pymnt</th>\n",
       "      <th>roi</th>\n",
       "      <th>label</th>\n",
       "    </tr>\n",
       "  </thead>\n",
       "  <tbody>\n",
       "    <tr>\n",
       "      <th>0</th>\n",
       "      <td>24700.0</td>\n",
       "      <td>25679.660000</td>\n",
       "      <td>0.039662</td>\n",
       "      <td>0</td>\n",
       "    </tr>\n",
       "    <tr>\n",
       "      <th>1</th>\n",
       "      <td>20000.0</td>\n",
       "      <td>22705.924294</td>\n",
       "      <td>0.135296</td>\n",
       "      <td>0</td>\n",
       "    </tr>\n",
       "    <tr>\n",
       "      <th>2</th>\n",
       "      <td>10400.0</td>\n",
       "      <td>11740.500000</td>\n",
       "      <td>0.128894</td>\n",
       "      <td>0</td>\n",
       "    </tr>\n",
       "    <tr>\n",
       "      <th>3</th>\n",
       "      <td>11950.0</td>\n",
       "      <td>13708.948530</td>\n",
       "      <td>0.147192</td>\n",
       "      <td>0</td>\n",
       "    </tr>\n",
       "    <tr>\n",
       "      <th>4</th>\n",
       "      <td>1400.0</td>\n",
       "      <td>1575.160698</td>\n",
       "      <td>0.125115</td>\n",
       "      <td>0</td>\n",
       "    </tr>\n",
       "    <tr>\n",
       "      <th>...</th>\n",
       "      <td>...</td>\n",
       "      <td>...</td>\n",
       "      <td>...</td>\n",
       "      <td>...</td>\n",
       "    </tr>\n",
       "    <tr>\n",
       "      <th>674044</th>\n",
       "      <td>40000.0</td>\n",
       "      <td>42089.416411</td>\n",
       "      <td>0.052235</td>\n",
       "      <td>0</td>\n",
       "    </tr>\n",
       "    <tr>\n",
       "      <th>674045</th>\n",
       "      <td>15000.0</td>\n",
       "      <td>15908.001163</td>\n",
       "      <td>0.060533</td>\n",
       "      <td>0</td>\n",
       "    </tr>\n",
       "    <tr>\n",
       "      <th>674046</th>\n",
       "      <td>29400.0</td>\n",
       "      <td>35848.764532</td>\n",
       "      <td>0.219346</td>\n",
       "      <td>0</td>\n",
       "    </tr>\n",
       "    <tr>\n",
       "      <th>674047</th>\n",
       "      <td>16000.0</td>\n",
       "      <td>18660.607569</td>\n",
       "      <td>0.166288</td>\n",
       "      <td>0</td>\n",
       "    </tr>\n",
       "    <tr>\n",
       "      <th>674048</th>\n",
       "      <td>24000.0</td>\n",
       "      <td>6755.400000</td>\n",
       "      <td>-0.718525</td>\n",
       "      <td>1</td>\n",
       "    </tr>\n",
       "  </tbody>\n",
       "</table>\n",
       "<p>674049 rows × 4 columns</p>\n",
       "</div>"
      ],
      "text/plain": [
       "        funded_amnt   total_pymnt       roi  label\n",
       "0           24700.0  25679.660000  0.039662      0\n",
       "1           20000.0  22705.924294  0.135296      0\n",
       "2           10400.0  11740.500000  0.128894      0\n",
       "3           11950.0  13708.948530  0.147192      0\n",
       "4            1400.0   1575.160698  0.125115      0\n",
       "...             ...           ...       ...    ...\n",
       "674044      40000.0  42089.416411  0.052235      0\n",
       "674045      15000.0  15908.001163  0.060533      0\n",
       "674046      29400.0  35848.764532  0.219346      0\n",
       "674047      16000.0  18660.607569  0.166288      0\n",
       "674048      24000.0   6755.400000 -0.718525      1\n",
       "\n",
       "[674049 rows x 4 columns]"
      ]
     },
     "execution_count": 12,
     "metadata": {},
     "output_type": "execute_result"
    }
   ],
   "source": [
    "df_fund_pred['roi'] = (df_fund_pred.total_pymnt-df_fund_pred.funded_amnt)/df_fund_pred.funded_amnt\n",
    "df_fund_pred['label'] = target_pred.loan_status_binary\n",
    "df_fund_pred"
   ]
  },
  {
   "cell_type": "code",
   "execution_count": 13,
   "metadata": {
    "id": "8DGWY6FfboD_",
    "outputId": "0589845c-b285-4549-eb48-d0ab924914b3"
   },
   "outputs": [
    {
     "data": {
      "text/html": [
       "<div>\n",
       "<style scoped>\n",
       "    .dataframe tbody tr th:only-of-type {\n",
       "        vertical-align: middle;\n",
       "    }\n",
       "\n",
       "    .dataframe tbody tr th {\n",
       "        vertical-align: top;\n",
       "    }\n",
       "\n",
       "    .dataframe thead th {\n",
       "        text-align: right;\n",
       "    }\n",
       "</style>\n",
       "<table border=\"1\" class=\"dataframe\">\n",
       "  <thead>\n",
       "    <tr style=\"text-align: right;\">\n",
       "      <th></th>\n",
       "      <th>funded_amnt</th>\n",
       "      <th>total_pymnt</th>\n",
       "      <th>roi</th>\n",
       "      <th>label</th>\n",
       "    </tr>\n",
       "  </thead>\n",
       "  <tbody>\n",
       "    <tr>\n",
       "      <th>count</th>\n",
       "      <td>674049.000000</td>\n",
       "      <td>674049.000000</td>\n",
       "      <td>674049.000000</td>\n",
       "      <td>674049.000000</td>\n",
       "    </tr>\n",
       "    <tr>\n",
       "      <th>mean</th>\n",
       "      <td>14399.696387</td>\n",
       "      <td>14812.475528</td>\n",
       "      <td>0.033896</td>\n",
       "      <td>0.199807</td>\n",
       "    </tr>\n",
       "    <tr>\n",
       "      <th>std</th>\n",
       "      <td>8703.785691</td>\n",
       "      <td>10338.177714</td>\n",
       "      <td>0.291480</td>\n",
       "      <td>0.399856</td>\n",
       "    </tr>\n",
       "    <tr>\n",
       "      <th>min</th>\n",
       "      <td>500.000000</td>\n",
       "      <td>0.000000</td>\n",
       "      <td>-1.000000</td>\n",
       "      <td>0.000000</td>\n",
       "    </tr>\n",
       "    <tr>\n",
       "      <th>25%</th>\n",
       "      <td>8000.000000</td>\n",
       "      <td>6837.340000</td>\n",
       "      <td>0.035404</td>\n",
       "      <td>0.000000</td>\n",
       "    </tr>\n",
       "    <tr>\n",
       "      <th>50%</th>\n",
       "      <td>12000.000000</td>\n",
       "      <td>12120.801933</td>\n",
       "      <td>0.113155</td>\n",
       "      <td>0.000000</td>\n",
       "    </tr>\n",
       "    <tr>\n",
       "      <th>75%</th>\n",
       "      <td>20000.000000</td>\n",
       "      <td>20576.306870</td>\n",
       "      <td>0.187218</td>\n",
       "      <td>0.000000</td>\n",
       "    </tr>\n",
       "    <tr>\n",
       "      <th>max</th>\n",
       "      <td>40000.000000</td>\n",
       "      <td>62884.797382</td>\n",
       "      <td>1.170300</td>\n",
       "      <td>1.000000</td>\n",
       "    </tr>\n",
       "  </tbody>\n",
       "</table>\n",
       "</div>"
      ],
      "text/plain": [
       "         funded_amnt    total_pymnt            roi          label\n",
       "count  674049.000000  674049.000000  674049.000000  674049.000000\n",
       "mean    14399.696387   14812.475528       0.033896       0.199807\n",
       "std      8703.785691   10338.177714       0.291480       0.399856\n",
       "min       500.000000       0.000000      -1.000000       0.000000\n",
       "25%      8000.000000    6837.340000       0.035404       0.000000\n",
       "50%     12000.000000   12120.801933       0.113155       0.000000\n",
       "75%     20000.000000   20576.306870       0.187218       0.000000\n",
       "max     40000.000000   62884.797382       1.170300       1.000000"
      ]
     },
     "execution_count": 13,
     "metadata": {},
     "output_type": "execute_result"
    }
   ],
   "source": [
    "df_fund_pred.describe()"
   ]
  },
  {
   "cell_type": "code",
   "execution_count": 14,
   "metadata": {
    "id": "vt6S7lsCboEA",
    "outputId": "17ac3f5e-7e1f-448f-fc7e-f3bc27450daf"
   },
   "outputs": [
    {
     "data": {
      "text/html": [
       "<div>\n",
       "<style scoped>\n",
       "    .dataframe tbody tr th:only-of-type {\n",
       "        vertical-align: middle;\n",
       "    }\n",
       "\n",
       "    .dataframe tbody tr th {\n",
       "        vertical-align: top;\n",
       "    }\n",
       "\n",
       "    .dataframe thead th {\n",
       "        text-align: right;\n",
       "    }\n",
       "</style>\n",
       "<table border=\"1\" class=\"dataframe\">\n",
       "  <thead>\n",
       "    <tr style=\"text-align: right;\">\n",
       "      <th></th>\n",
       "      <th>funded_amnt</th>\n",
       "      <th>total_pymnt</th>\n",
       "      <th>roi</th>\n",
       "      <th>label</th>\n",
       "    </tr>\n",
       "  </thead>\n",
       "  <tbody>\n",
       "    <tr>\n",
       "      <th>14</th>\n",
       "      <td>16000.0</td>\n",
       "      <td>17396.63</td>\n",
       "      <td>0.087289</td>\n",
       "      <td>1</td>\n",
       "    </tr>\n",
       "    <tr>\n",
       "      <th>60</th>\n",
       "      <td>16000.0</td>\n",
       "      <td>19028.76</td>\n",
       "      <td>0.189297</td>\n",
       "      <td>1</td>\n",
       "    </tr>\n",
       "    <tr>\n",
       "      <th>165</th>\n",
       "      <td>10400.0</td>\n",
       "      <td>10784.00</td>\n",
       "      <td>0.036923</td>\n",
       "      <td>1</td>\n",
       "    </tr>\n",
       "    <tr>\n",
       "      <th>360</th>\n",
       "      <td>5000.0</td>\n",
       "      <td>5256.93</td>\n",
       "      <td>0.051386</td>\n",
       "      <td>1</td>\n",
       "    </tr>\n",
       "    <tr>\n",
       "      <th>591</th>\n",
       "      <td>15000.0</td>\n",
       "      <td>16428.53</td>\n",
       "      <td>0.095235</td>\n",
       "      <td>1</td>\n",
       "    </tr>\n",
       "    <tr>\n",
       "      <th>...</th>\n",
       "      <td>...</td>\n",
       "      <td>...</td>\n",
       "      <td>...</td>\n",
       "      <td>...</td>\n",
       "    </tr>\n",
       "    <tr>\n",
       "      <th>671228</th>\n",
       "      <td>16000.0</td>\n",
       "      <td>17713.57</td>\n",
       "      <td>0.107098</td>\n",
       "      <td>1</td>\n",
       "    </tr>\n",
       "    <tr>\n",
       "      <th>672670</th>\n",
       "      <td>5325.0</td>\n",
       "      <td>5331.36</td>\n",
       "      <td>0.001194</td>\n",
       "      <td>1</td>\n",
       "    </tr>\n",
       "    <tr>\n",
       "      <th>673227</th>\n",
       "      <td>25000.0</td>\n",
       "      <td>29131.62</td>\n",
       "      <td>0.165265</td>\n",
       "      <td>1</td>\n",
       "    </tr>\n",
       "    <tr>\n",
       "      <th>673306</th>\n",
       "      <td>10800.0</td>\n",
       "      <td>23439.24</td>\n",
       "      <td>1.170300</td>\n",
       "      <td>1</td>\n",
       "    </tr>\n",
       "    <tr>\n",
       "      <th>673625</th>\n",
       "      <td>3600.0</td>\n",
       "      <td>4081.05</td>\n",
       "      <td>0.133625</td>\n",
       "      <td>1</td>\n",
       "    </tr>\n",
       "  </tbody>\n",
       "</table>\n",
       "<p>9542 rows × 4 columns</p>\n",
       "</div>"
      ],
      "text/plain": [
       "        funded_amnt  total_pymnt       roi  label\n",
       "14          16000.0     17396.63  0.087289      1\n",
       "60          16000.0     19028.76  0.189297      1\n",
       "165         10400.0     10784.00  0.036923      1\n",
       "360          5000.0      5256.93  0.051386      1\n",
       "591         15000.0     16428.53  0.095235      1\n",
       "...             ...          ...       ...    ...\n",
       "671228      16000.0     17713.57  0.107098      1\n",
       "672670       5325.0      5331.36  0.001194      1\n",
       "673227      25000.0     29131.62  0.165265      1\n",
       "673306      10800.0     23439.24  1.170300      1\n",
       "673625       3600.0      4081.05  0.133625      1\n",
       "\n",
       "[9542 rows x 4 columns]"
      ]
     },
     "execution_count": 14,
     "metadata": {},
     "output_type": "execute_result"
    }
   ],
   "source": [
    "df_fund_pred.loc[df_fund_pred.label == 1].loc[df_fund_pred.roi > 0]"
   ]
  },
  {
   "cell_type": "code",
   "execution_count": 15,
   "metadata": {
    "id": "Y1O1coGuboEA",
    "outputId": "483e669f-56c0-4521-9fc7-8284e97eafaa"
   },
   "outputs": [
    {
     "data": {
      "text/html": [
       "<div>\n",
       "<style scoped>\n",
       "    .dataframe tbody tr th:only-of-type {\n",
       "        vertical-align: middle;\n",
       "    }\n",
       "\n",
       "    .dataframe tbody tr th {\n",
       "        vertical-align: top;\n",
       "    }\n",
       "\n",
       "    .dataframe thead th {\n",
       "        text-align: right;\n",
       "    }\n",
       "</style>\n",
       "<table border=\"1\" class=\"dataframe\">\n",
       "  <thead>\n",
       "    <tr style=\"text-align: right;\">\n",
       "      <th></th>\n",
       "      <th>funded_amnt</th>\n",
       "      <th>total_pymnt</th>\n",
       "      <th>roi</th>\n",
       "      <th>label</th>\n",
       "    </tr>\n",
       "  </thead>\n",
       "  <tbody>\n",
       "    <tr>\n",
       "      <th>count</th>\n",
       "      <td>674049.000000</td>\n",
       "      <td>674049.000000</td>\n",
       "      <td>674049.000000</td>\n",
       "      <td>674049.000000</td>\n",
       "    </tr>\n",
       "    <tr>\n",
       "      <th>mean</th>\n",
       "      <td>14399.696387</td>\n",
       "      <td>14812.475528</td>\n",
       "      <td>0.033896</td>\n",
       "      <td>0.199807</td>\n",
       "    </tr>\n",
       "    <tr>\n",
       "      <th>std</th>\n",
       "      <td>8703.785691</td>\n",
       "      <td>10338.177714</td>\n",
       "      <td>0.291480</td>\n",
       "      <td>0.399856</td>\n",
       "    </tr>\n",
       "    <tr>\n",
       "      <th>min</th>\n",
       "      <td>500.000000</td>\n",
       "      <td>0.000000</td>\n",
       "      <td>-1.000000</td>\n",
       "      <td>0.000000</td>\n",
       "    </tr>\n",
       "    <tr>\n",
       "      <th>25%</th>\n",
       "      <td>8000.000000</td>\n",
       "      <td>6837.340000</td>\n",
       "      <td>0.035404</td>\n",
       "      <td>0.000000</td>\n",
       "    </tr>\n",
       "    <tr>\n",
       "      <th>50%</th>\n",
       "      <td>12000.000000</td>\n",
       "      <td>12120.801933</td>\n",
       "      <td>0.113155</td>\n",
       "      <td>0.000000</td>\n",
       "    </tr>\n",
       "    <tr>\n",
       "      <th>75%</th>\n",
       "      <td>20000.000000</td>\n",
       "      <td>20576.306870</td>\n",
       "      <td>0.187218</td>\n",
       "      <td>0.000000</td>\n",
       "    </tr>\n",
       "    <tr>\n",
       "      <th>max</th>\n",
       "      <td>40000.000000</td>\n",
       "      <td>62884.797382</td>\n",
       "      <td>1.170300</td>\n",
       "      <td>1.000000</td>\n",
       "    </tr>\n",
       "  </tbody>\n",
       "</table>\n",
       "</div>"
      ],
      "text/plain": [
       "         funded_amnt    total_pymnt            roi          label\n",
       "count  674049.000000  674049.000000  674049.000000  674049.000000\n",
       "mean    14399.696387   14812.475528       0.033896       0.199807\n",
       "std      8703.785691   10338.177714       0.291480       0.399856\n",
       "min       500.000000       0.000000      -1.000000       0.000000\n",
       "25%      8000.000000    6837.340000       0.035404       0.000000\n",
       "50%     12000.000000   12120.801933       0.113155       0.000000\n",
       "75%     20000.000000   20576.306870       0.187218       0.000000\n",
       "max     40000.000000   62884.797382       1.170300       1.000000"
      ]
     },
     "execution_count": 15,
     "metadata": {},
     "output_type": "execute_result"
    }
   ],
   "source": [
    "df_fund_pred.describe()"
   ]
  },
  {
   "cell_type": "code",
   "execution_count": 16,
   "metadata": {
    "id": "dfRoLh1nboEA",
    "outputId": "816b357e-6bc1-4960-baf0-03750f0ede41"
   },
   "outputs": [
    {
     "data": {
      "text/html": [
       "<div>\n",
       "<style scoped>\n",
       "    .dataframe tbody tr th:only-of-type {\n",
       "        vertical-align: middle;\n",
       "    }\n",
       "\n",
       "    .dataframe tbody tr th {\n",
       "        vertical-align: top;\n",
       "    }\n",
       "\n",
       "    .dataframe thead th {\n",
       "        text-align: right;\n",
       "    }\n",
       "</style>\n",
       "<table border=\"1\" class=\"dataframe\">\n",
       "  <thead>\n",
       "    <tr style=\"text-align: right;\">\n",
       "      <th></th>\n",
       "      <th>loan_status_binary</th>\n",
       "    </tr>\n",
       "  </thead>\n",
       "  <tbody>\n",
       "    <tr>\n",
       "      <th>0</th>\n",
       "      <td>0</td>\n",
       "    </tr>\n",
       "    <tr>\n",
       "      <th>1</th>\n",
       "      <td>0</td>\n",
       "    </tr>\n",
       "    <tr>\n",
       "      <th>2</th>\n",
       "      <td>0</td>\n",
       "    </tr>\n",
       "    <tr>\n",
       "      <th>3</th>\n",
       "      <td>0</td>\n",
       "    </tr>\n",
       "    <tr>\n",
       "      <th>4</th>\n",
       "      <td>0</td>\n",
       "    </tr>\n",
       "  </tbody>\n",
       "</table>\n",
       "</div>"
      ],
      "text/plain": [
       "   loan_status_binary\n",
       "0                   0\n",
       "1                   0\n",
       "2                   0\n",
       "3                   0\n",
       "4                   0"
      ]
     },
     "execution_count": 16,
     "metadata": {},
     "output_type": "execute_result"
    }
   ],
   "source": [
    "target_train = pd.read_csv('target_2_train_feateng_dwnsmpl.csv.gz',\n",
    "                  compression='gzip',\n",
    "                  header=0,\n",
    "                  sep=',',\n",
    "                  quotechar='\"')\n",
    "target_train.head()"
   ]
  },
  {
   "cell_type": "code",
   "execution_count": 17,
   "metadata": {
    "id": "TUpcXZ5sboEB",
    "outputId": "d1111a37-26dc-4699-fde4-14b5293a1fb9",
    "scrolled": false
   },
   "outputs": [
    {
     "data": {
      "text/html": [
       "<div>\n",
       "<style scoped>\n",
       "    .dataframe tbody tr th:only-of-type {\n",
       "        vertical-align: middle;\n",
       "    }\n",
       "\n",
       "    .dataframe tbody tr th {\n",
       "        vertical-align: top;\n",
       "    }\n",
       "\n",
       "    .dataframe thead th {\n",
       "        text-align: right;\n",
       "    }\n",
       "</style>\n",
       "<table border=\"1\" class=\"dataframe\">\n",
       "  <thead>\n",
       "    <tr style=\"text-align: right;\">\n",
       "      <th></th>\n",
       "      <th>annual_inc</th>\n",
       "      <th>fico_score</th>\n",
       "      <th>term</th>\n",
       "      <th>loan_amnt</th>\n",
       "      <th>home_ownership</th>\n",
       "      <th>int_rate</th>\n",
       "      <th>all_util</th>\n",
       "      <th>dti</th>\n",
       "    </tr>\n",
       "  </thead>\n",
       "  <tbody>\n",
       "    <tr>\n",
       "      <th>171006</th>\n",
       "      <td>0.005455</td>\n",
       "      <td>0.403397</td>\n",
       "      <td>0.0</td>\n",
       "      <td>0.351899</td>\n",
       "      <td>0.666667</td>\n",
       "      <td>0.415888</td>\n",
       "      <td>0.000000</td>\n",
       "      <td>0.03024</td>\n",
       "    </tr>\n",
       "    <tr>\n",
       "      <th>269017</th>\n",
       "      <td>0.004200</td>\n",
       "      <td>0.233546</td>\n",
       "      <td>1.0</td>\n",
       "      <td>0.412658</td>\n",
       "      <td>0.000000</td>\n",
       "      <td>0.778037</td>\n",
       "      <td>0.364162</td>\n",
       "      <td>0.03432</td>\n",
       "    </tr>\n",
       "    <tr>\n",
       "      <th>50978</th>\n",
       "      <td>0.007728</td>\n",
       "      <td>0.488323</td>\n",
       "      <td>0.0</td>\n",
       "      <td>0.367089</td>\n",
       "      <td>0.000000</td>\n",
       "      <td>0.000389</td>\n",
       "      <td>0.161850</td>\n",
       "      <td>0.00838</td>\n",
       "    </tr>\n",
       "    <tr>\n",
       "      <th>133279</th>\n",
       "      <td>0.003439</td>\n",
       "      <td>0.445860</td>\n",
       "      <td>0.0</td>\n",
       "      <td>0.240506</td>\n",
       "      <td>0.666667</td>\n",
       "      <td>0.139798</td>\n",
       "      <td>0.000000</td>\n",
       "      <td>0.02549</td>\n",
       "    </tr>\n",
       "    <tr>\n",
       "      <th>38864</th>\n",
       "      <td>0.005455</td>\n",
       "      <td>0.297240</td>\n",
       "      <td>1.0</td>\n",
       "      <td>0.658228</td>\n",
       "      <td>1.000000</td>\n",
       "      <td>0.713396</td>\n",
       "      <td>0.000000</td>\n",
       "      <td>0.02184</td>\n",
       "    </tr>\n",
       "    <tr>\n",
       "      <th>...</th>\n",
       "      <td>...</td>\n",
       "      <td>...</td>\n",
       "      <td>...</td>\n",
       "      <td>...</td>\n",
       "      <td>...</td>\n",
       "      <td>...</td>\n",
       "      <td>...</td>\n",
       "      <td>...</td>\n",
       "    </tr>\n",
       "    <tr>\n",
       "      <th>211543</th>\n",
       "      <td>0.005228</td>\n",
       "      <td>0.276008</td>\n",
       "      <td>1.0</td>\n",
       "      <td>0.713924</td>\n",
       "      <td>0.000000</td>\n",
       "      <td>0.655763</td>\n",
       "      <td>0.000000</td>\n",
       "      <td>0.03202</td>\n",
       "    </tr>\n",
       "    <tr>\n",
       "      <th>86293</th>\n",
       "      <td>0.003637</td>\n",
       "      <td>0.297240</td>\n",
       "      <td>1.0</td>\n",
       "      <td>0.240506</td>\n",
       "      <td>1.000000</td>\n",
       "      <td>0.747274</td>\n",
       "      <td>0.000000</td>\n",
       "      <td>0.01533</td>\n",
       "    </tr>\n",
       "    <tr>\n",
       "      <th>122579</th>\n",
       "      <td>0.003637</td>\n",
       "      <td>0.700637</td>\n",
       "      <td>0.0</td>\n",
       "      <td>0.149367</td>\n",
       "      <td>0.666667</td>\n",
       "      <td>0.000389</td>\n",
       "      <td>0.213873</td>\n",
       "      <td>0.02203</td>\n",
       "    </tr>\n",
       "    <tr>\n",
       "      <th>152315</th>\n",
       "      <td>0.011819</td>\n",
       "      <td>0.233546</td>\n",
       "      <td>1.0</td>\n",
       "      <td>0.334177</td>\n",
       "      <td>0.000000</td>\n",
       "      <td>0.540498</td>\n",
       "      <td>0.000000</td>\n",
       "      <td>0.00764</td>\n",
       "    </tr>\n",
       "    <tr>\n",
       "      <th>117952</th>\n",
       "      <td>0.006046</td>\n",
       "      <td>0.339703</td>\n",
       "      <td>0.0</td>\n",
       "      <td>0.240506</td>\n",
       "      <td>0.666667</td>\n",
       "      <td>0.393302</td>\n",
       "      <td>0.317919</td>\n",
       "      <td>0.02729</td>\n",
       "    </tr>\n",
       "  </tbody>\n",
       "</table>\n",
       "<p>215488 rows × 8 columns</p>\n",
       "</div>"
      ],
      "text/plain": [
       "        annual_inc  fico_score  term  loan_amnt  home_ownership  int_rate  \\\n",
       "171006    0.005455    0.403397   0.0   0.351899        0.666667  0.415888   \n",
       "269017    0.004200    0.233546   1.0   0.412658        0.000000  0.778037   \n",
       "50978     0.007728    0.488323   0.0   0.367089        0.000000  0.000389   \n",
       "133279    0.003439    0.445860   0.0   0.240506        0.666667  0.139798   \n",
       "38864     0.005455    0.297240   1.0   0.658228        1.000000  0.713396   \n",
       "...            ...         ...   ...        ...             ...       ...   \n",
       "211543    0.005228    0.276008   1.0   0.713924        0.000000  0.655763   \n",
       "86293     0.003637    0.297240   1.0   0.240506        1.000000  0.747274   \n",
       "122579    0.003637    0.700637   0.0   0.149367        0.666667  0.000389   \n",
       "152315    0.011819    0.233546   1.0   0.334177        0.000000  0.540498   \n",
       "117952    0.006046    0.339703   0.0   0.240506        0.666667  0.393302   \n",
       "\n",
       "        all_util      dti  \n",
       "171006  0.000000  0.03024  \n",
       "269017  0.364162  0.03432  \n",
       "50978   0.161850  0.00838  \n",
       "133279  0.000000  0.02549  \n",
       "38864   0.000000  0.02184  \n",
       "...          ...      ...  \n",
       "211543  0.000000  0.03202  \n",
       "86293   0.000000  0.01533  \n",
       "122579  0.213873  0.02203  \n",
       "152315  0.000000  0.00764  \n",
       "117952  0.317919  0.02729  \n",
       "\n",
       "[215488 rows x 8 columns]"
      ]
     },
     "execution_count": 17,
     "metadata": {},
     "output_type": "execute_result"
    }
   ],
   "source": [
    "# spliting to train-test\n",
    "\n",
    "from sklearn.model_selection import train_test_split\n",
    "\n",
    "X_train, X_test, y_train, y_test = train_test_split(df_train, target_train,\n",
    "                                                    test_size=0.2, random_state=0)\n",
    "# Must flatten to fit\n",
    "y_train = y_train.values.flatten()\n",
    "\n",
    "X_train"
   ]
  },
  {
   "cell_type": "code",
   "execution_count": 18,
   "metadata": {},
   "outputs": [
    {
     "name": "stdout",
     "output_type": "stream",
     "text": [
      "Fitting 5 folds for each of 1 candidates, totalling 5 fits\n",
      "Wall time: 4min 2s\n",
      "\n",
      "train score (ROC_AUC) : 0.704567\n",
      "----------------------------------------------------------------------\n",
      "test score (ROC_AUC) : 0.706522\n",
      "----------------------------------------------------------------------\n"
     ]
    },
    {
     "data": {
      "text/plain": [
       "{'criterion': 'entropy',\n",
       " 'max_depth': 50,\n",
       " 'min_samples_leaf': 5,\n",
       " 'min_samples_split': 2,\n",
       " 'n_estimators': 500}"
      ]
     },
     "execution_count": 18,
     "metadata": {},
     "output_type": "execute_result"
    }
   ],
   "source": [
    "from sklearn.metrics import roc_auc_score\n",
    "from sklearn.model_selection import GridSearchCV\n",
    "from sklearn.ensemble import RandomForestClassifier\n",
    "rf = RandomForestClassifier()\n",
    "rf.set_params(random_state=0)\n",
    "\n",
    "grid_para_rf = [{\n",
    "    \"criterion\": [\"entropy\"],\n",
    "    \"min_samples_leaf\": [5],\n",
    "    \"min_samples_split\": [2],\n",
    "    \"n_estimators\":[500],\n",
    "    \"max_depth\":[50]\n",
    "}]\n",
    "\n",
    "gs_rf = GridSearchCV(rf, grid_para_rf, cv=5, scoring='roc_auc', n_jobs=-1, verbose = 1)\n",
    "%time gs_rf.fit(X_train, y_train)\n",
    "\n",
    "print('\\ntrain score (ROC_AUC) : %f'%gs_rf.best_score_ )\n",
    "print('-'*70)\n",
    "print('test score (ROC_AUC) : %f'%gs_rf.score(X_test,y_test) )\n",
    "print('-'*70)\n",
    "gs_rf.best_params_"
   ]
  },
  {
   "cell_type": "code",
   "execution_count": 19,
   "metadata": {
    "id": "ewAGFRbuboEB",
    "outputId": "1c88d6d0-90bf-48aa-9603-969a522356e9",
    "scrolled": false
   },
   "outputs": [
    {
     "name": "stdout",
     "output_type": "stream",
     "text": [
      "Fitting 5 folds for each of 1 candidates, totalling 5 fits\n",
      "Wall time: 4min 45s\n",
      "\n",
      "train score (ROC_AUC) : 0.711265\n",
      "----------------------------------------------------------------------\n",
      "test score (ROC_AUC) : 0.712011\n",
      "----------------------------------------------------------------------\n"
     ]
    },
    {
     "data": {
      "text/plain": [
       "{'max_depth': 5,\n",
       " 'min_samples_leaf': 10,\n",
       " 'min_samples_split': 30,\n",
       " 'n_estimators': 500,\n",
       " 'random_state': 0}"
      ]
     },
     "execution_count": 19,
     "metadata": {},
     "output_type": "execute_result"
    }
   ],
   "source": [
    "from sklearn.ensemble import GradientBoostingClassifier\n",
    "gbm = GradientBoostingClassifier()\n",
    "\n",
    "# roc_auc_score =\n",
    "grid_para_boost = [{\n",
    "    \"min_samples_leaf\": [10],\n",
    "    \"n_estimators\":[500],\n",
    "#     \"subsample\":[0.25,0.5,1.0],\n",
    "#     \"criterion\":[\"friedman_mse\", \"mae\"],\n",
    "#     \"min_samples_split\": np.linspace(start=2, stop=30, num=5, dtype=int),\n",
    "    \"min_samples_split\": [30],\n",
    "    \"max_depth\": [5],\n",
    "    \"random_state\":[0]}]\n",
    "\n",
    "gs_gb = GridSearchCV(gbm, grid_para_boost,scoring= 'roc_auc',\n",
    "                                 cv=5, n_jobs = -1, verbose=2)\n",
    "\n",
    "%time gs_gb.fit(X_train, y_train)\n",
    "print('\\ntrain score (ROC_AUC) : %f'%gs_gb.best_score_ )\n",
    "print('-'*70)\n",
    "print('test score (ROC_AUC) : %f'%gs_gb.score(X_test,y_test) )\n",
    "print('-'*70)\n",
    "gs_gb.best_params_"
   ]
  },
  {
   "cell_type": "code",
   "execution_count": 20,
   "metadata": {
    "id": "75w0wrCuboEB",
    "outputId": "2bdcfb2a-0ab1-43e5-f27b-677b8bfb9caa",
    "scrolled": false
   },
   "outputs": [
    {
     "name": "stdout",
     "output_type": "stream",
     "text": [
      "Fitting 5 folds for each of 1 candidates, totalling 5 fits\n",
      "Wall time: 20.5 s\n",
      "\n",
      "train score (ROC_AUC) : 0.713422\n",
      "----------------------------------------------------------------------\n",
      "test score (ROC_AUC) : 0.713461\n",
      "----------------------------------------------------------------------\n"
     ]
    },
    {
     "data": {
      "text/plain": [
       "{'booster': 'gbtree',\n",
       " 'colsample_bytree': 0.6,\n",
       " 'eval_metric': 'auc',\n",
       " 'gamma': 1.75,\n",
       " 'learning_rate': 0.025,\n",
       " 'max_depth': 7,\n",
       " 'min_child_weight': 11,\n",
       " 'n_estimators': 400,\n",
       " 'n_jobs': -1,\n",
       " 'objective': 'binary:logistic',\n",
       " 'predictor': 'gpu_predictor',\n",
       " 'random_state': 0,\n",
       " 'subsample': 0.8,\n",
       " 'tree_method': 'gpu_hist',\n",
       " 'use_label_encoder': False}"
      ]
     },
     "execution_count": 20,
     "metadata": {},
     "output_type": "execute_result"
    }
   ],
   "source": [
    "import xgboost\n",
    "from sklearn import model_selection as ms\n",
    "\n",
    "# using standard kfold split\n",
    "n_folds = ms.KFold(n_splits=5, random_state=0, shuffle=True)\n",
    "\n",
    "xgb_clsfr = xgboost.XGBClassifier()\n",
    "\n",
    "objective_ = ['binary:logistic']\n",
    "evalmetric = ['auc']\n",
    "uselabelencoder = [False]\n",
    "treemethod = ['gpu_hist']\n",
    "predictor_ = ['gpu_predictor']\n",
    "njobs = [-1]\n",
    "randomstate = [0]\n",
    "booster_ = ['gbtree']\n",
    "\n",
    "nestimators = [400]\n",
    "minchildweight = [11]\n",
    "maxdepth = [7]\n",
    "learningrate = [0.025]\n",
    "gamma_ = [1.75]\n",
    "subsample_ = [0.8]\n",
    "colsamplebytree = [0.6]\n",
    "\n",
    "gparam_xgb = {'objective': objective_,\n",
    "              'eval_metric': evalmetric,\n",
    "              'use_label_encoder': uselabelencoder,\n",
    "              'tree_method': treemethod,\n",
    "              'predictor': predictor_,\n",
    "              'n_jobs': njobs,\n",
    "              'booster': booster_,\n",
    "              'n_estimators': nestimators,\n",
    "              'min_child_weight': minchildweight,\n",
    "              'max_depth': maxdepth,\n",
    "              'learning_rate': learningrate,\n",
    "              'gamma': gamma_,\n",
    "              'subsample': subsample_,\n",
    "              'colsample_bytree': colsamplebytree,\n",
    "              'random_state': randomstate}\n",
    "\n",
    "gs_xgb = ms.GridSearchCV(xgb_clsfr, gparam_xgb, cv=n_folds, refit=True,\n",
    "                          scoring='roc_auc', return_train_score=True, verbose=1)\n",
    "\n",
    "%time gs_xgb.fit(X_train, y_train)\n",
    "\n",
    "print('\\ntrain score (ROC_AUC) : %f'%gs_xgb.best_score_ )\n",
    "print('-'*70)\n",
    "print('test score (ROC_AUC) : %f'%gs_xgb.score(X_test,y_test) )\n",
    "print('-'*70)\n",
    "gs_xgb.best_params_"
   ]
  },
  {
   "cell_type": "code",
   "execution_count": 21,
   "metadata": {},
   "outputs": [
    {
     "name": "stdout",
     "output_type": "stream",
     "text": [
      "Random Forest confusion matrix\n",
      "----------------------------------------------------------------------\n",
      "[[17103  9867]\n",
      " [ 8955 17947]]\n"
     ]
    }
   ],
   "source": [
    "# printing the confusion matrix for Gradient boost\n",
    "\n",
    "from sklearn.metrics import confusion_matrix\n",
    "\n",
    "optimum_rf = gs_rf.best_estimator_\n",
    "predictions_rf = optimum_rf.predict(X_test)\n",
    "labels_rf = y_test\n",
    "conf_mat_rf = confusion_matrix(labels_rf, predictions_rf)\n",
    "print (\"Random Forest confusion matrix\")\n",
    "print ('-'*70)\n",
    "print(conf_mat_rf)"
   ]
  },
  {
   "cell_type": "code",
   "execution_count": 22,
   "metadata": {
    "id": "wjyzBH9yboEC",
    "outputId": "168f9939-c7ba-4cfa-9841-a485f81ee6e7",
    "scrolled": true
   },
   "outputs": [
    {
     "name": "stdout",
     "output_type": "stream",
     "text": [
      "Gradient boost confusion matrix\n",
      "----------------------------------------------------------------------\n",
      "[[17139  9831]\n",
      " [ 8872 18030]]\n"
     ]
    }
   ],
   "source": [
    "optimum_gradientBoost = gs_gb.best_estimator_\n",
    "predictions_gb = optimum_gradientBoost.predict(X_test)\n",
    "labels = y_test\n",
    "conf_mat = confusion_matrix(labels, predictions_gb)\n",
    "print (\"Gradient boost confusion matrix\")\n",
    "print ('-'*70)\n",
    "print(conf_mat)"
   ]
  },
  {
   "cell_type": "code",
   "execution_count": 23,
   "metadata": {
    "scrolled": true
   },
   "outputs": [
    {
     "name": "stdout",
     "output_type": "stream",
     "text": [
      "XGBoost confusion matrix\n",
      "----------------------------------------------------------------------\n",
      "[[17083  9887]\n",
      " [ 8793 18109]]\n"
     ]
    }
   ],
   "source": [
    "optimum_xgb = gs_xgb.best_estimator_\n",
    "predictions_xgb = optimum_xgb.predict(X_test)\n",
    "labels_xgb = y_test\n",
    "conf_mat_xgb = confusion_matrix(labels_xgb, predictions_xgb)\n",
    "print (\"XGBoost confusion matrix\")\n",
    "print ('-'*70)\n",
    "print(conf_mat_xgb)"
   ]
  },
  {
   "cell_type": "markdown",
   "metadata": {
    "id": "CQ1GpV9tboED"
   },
   "source": [
    "# Calculate ROI for all 4 quadrants and compare"
   ]
  },
  {
   "cell_type": "code",
   "execution_count": 24,
   "metadata": {
    "scrolled": false
   },
   "outputs": [
    {
     "name": "stdout",
     "output_type": "stream",
     "text": [
      "The ROI for the true positive quadrant is:\n",
      "roi   -0.014387\n",
      "dtype: float64\n",
      "\n",
      "\n",
      "The ROI for the false positive quadrant is:\n",
      "roi    0.043303\n",
      "dtype: float64\n",
      "\n",
      "\n",
      "The ROI for the true negative quadrant is:\n",
      "roi    0.038497\n",
      "dtype: float64\n",
      "\n",
      "\n",
      "The ROI for the false negative quadrant is:\n"
     ]
    },
    {
     "data": {
      "text/plain": [
       "roi   -0.007685\n",
       "dtype: float64"
      ]
     },
     "execution_count": 24,
     "metadata": {},
     "output_type": "execute_result"
    }
   ],
   "source": [
    "ypred_rf = gs_rf.predict(X_test)\n",
    "ypred_rf = ypred_rf.reshape(53872, 1)\n",
    "\n",
    "# predicted as default and actually default\n",
    "true_pos_rf = np.logical_and(y_test == ypred_rf, ypred_rf == 1)\n",
    "\n",
    "# predicted as default, but fully paid\n",
    "false_pos_rf = np.logical_and(y_test != ypred_rf, ypred_rf == 1)\n",
    "\n",
    "# predicted as paid off and actually paid off\n",
    "true_neg_rf = np.logical_and(y_test == ypred_rf, ypred_rf == 0)\n",
    "\n",
    "# predicted as paid off, but default\n",
    "false_neg_rf = np.logical_and(y_test != ypred_rf, ypred_rf == 0)\n",
    "\n",
    "# getting indices of the above\n",
    "true_pos_rf_index = list(true_pos_rf[true_pos_rf['loan_status_binary']==True].index)\n",
    "false_pos_rf_index = list(false_pos_rf[false_pos_rf['loan_status_binary']==True].index)\n",
    "true_neg_rf_index = list(true_neg_rf[true_neg_rf['loan_status_binary']==True].index)\n",
    "false_neg_rf_index = list(false_neg_rf[false_neg_rf['loan_status_binary']==True].index)\n",
    "\n",
    "# calculated mean using 'roi' column for each quadrant\n",
    "print('The ROI for the true positive quadrant is:')\n",
    "print(df_fund_pred.iloc[true_pos_rf_index][['roi']].mean())\n",
    "print('\\n')\n",
    "print('The ROI for the false positive quadrant is:')\n",
    "print(df_fund_pred.iloc[false_pos_rf_index][['roi']].mean())\n",
    "print('\\n')\n",
    "print('The ROI for the true negative quadrant is:')\n",
    "print(df_fund_pred.iloc[true_neg_rf_index][['roi']].mean())\n",
    "print('\\n')\n",
    "print('The ROI for the false negative quadrant is:')\n",
    "df_fund_pred.iloc[false_neg_rf_index][['roi']].mean()"
   ]
  },
  {
   "cell_type": "code",
   "execution_count": 25,
   "metadata": {},
   "outputs": [
    {
     "name": "stdout",
     "output_type": "stream",
     "text": [
      "The ROI for the true positive quadrant is:\n",
      "roi   -0.013712\n",
      "dtype: float64\n",
      "\n",
      "\n",
      "The ROI for the false positive quadrant is:\n",
      "roi    0.04375\n",
      "dtype: float64\n",
      "\n",
      "\n",
      "The ROI for the true negative quadrant is:\n",
      "roi    0.038251\n",
      "dtype: float64\n",
      "\n",
      "\n",
      "The ROI for the false negative quadrant is:\n"
     ]
    },
    {
     "data": {
      "text/plain": [
       "roi   -0.008995\n",
       "dtype: float64"
      ]
     },
     "execution_count": 25,
     "metadata": {},
     "output_type": "execute_result"
    }
   ],
   "source": [
    "ypred_gb = gs_gb.predict(X_test)\n",
    "ypred_gb = ypred_gb.reshape(53872, 1)\n",
    "\n",
    "# predicted as default and actually default\n",
    "true_pos_gb = np.logical_and(y_test == ypred_gb, ypred_gb == 1)\n",
    "\n",
    "# predicted as default, but fully paid\n",
    "false_pos_gb = np.logical_and(y_test != ypred_gb, ypred_gb == 1)\n",
    "\n",
    "# predicted as paid off and actually paid off\n",
    "true_neg_gb = np.logical_and(y_test == ypred_gb, ypred_gb == 0)\n",
    "\n",
    "# predicted as paid off, but default\n",
    "false_neg_gb = np.logical_and(y_test != ypred_gb, ypred_gb == 0)\n",
    "\n",
    "# getting indices of the above\n",
    "true_pos_gb_index = list(true_pos_gb[true_pos_gb['loan_status_binary']==True].index)\n",
    "false_pos_gb_index = list(false_pos_gb[false_pos_gb['loan_status_binary']==True].index)\n",
    "true_neg_gb_index = list(true_neg_gb[true_neg_gb['loan_status_binary']==True].index)\n",
    "false_neg_gb_index = list(false_neg_gb[false_neg_gb['loan_status_binary']==True].index)\n",
    "\n",
    "# calculated mean using 'roi' column for each quadrant\n",
    "print('The ROI for the true positive quadrant is:')\n",
    "print(df_fund_pred.iloc[true_pos_gb_index][['roi']].mean())\n",
    "print('\\n')\n",
    "print('The ROI for the false positive quadrant is:')\n",
    "print(df_fund_pred.iloc[false_pos_gb_index][['roi']].mean())\n",
    "print('\\n')\n",
    "print('The ROI for the true negative quadrant is:')\n",
    "print(df_fund_pred.iloc[true_neg_gb_index][['roi']].mean())\n",
    "print('\\n')\n",
    "print('The ROI for the false negative quadrant is:')\n",
    "df_fund_pred.iloc[false_neg_gb_index][['roi']].mean()"
   ]
  },
  {
   "cell_type": "code",
   "execution_count": 26,
   "metadata": {},
   "outputs": [
    {
     "name": "stdout",
     "output_type": "stream",
     "text": [
      "The ROI for the true positive quadrant is:\n",
      "roi   -0.014089\n",
      "dtype: float64\n",
      "\n",
      "\n",
      "The ROI for the false positive quadrant is:\n",
      "roi    0.044303\n",
      "dtype: float64\n",
      "\n",
      "\n",
      "The ROI for the true negative quadrant is:\n",
      "roi    0.037913\n",
      "dtype: float64\n",
      "\n",
      "\n",
      "The ROI for the false negative quadrant is:\n"
     ]
    },
    {
     "data": {
      "text/plain": [
       "roi   -0.008176\n",
       "dtype: float64"
      ]
     },
     "execution_count": 26,
     "metadata": {},
     "output_type": "execute_result"
    }
   ],
   "source": [
    "ypred_xgb = gs_xgb.predict(X_test)\n",
    "ypred_xgb = ypred_xgb.reshape(53872, 1)\n",
    "\n",
    "# predicted as default and actually default\n",
    "true_pos_xgb = np.logical_and(y_test == ypred_xgb, ypred_xgb == 1)\n",
    "\n",
    "# predicted as default, but fully paid\n",
    "false_pos_xgb = np.logical_and(y_test != ypred_xgb, ypred_xgb == 1)\n",
    "\n",
    "# predicted as paid off and actually paid off\n",
    "true_neg_xgb = np.logical_and(y_test == ypred_xgb, ypred_xgb == 0)\n",
    "\n",
    "# predicted as paid off, but default\n",
    "false_neg_xgb = np.logical_and(y_test != ypred_xgb, ypred_xgb == 0)\n",
    "\n",
    "# getting indices of the above\n",
    "true_pos_xgb_index = list(true_pos_xgb[true_pos_xgb['loan_status_binary']==True].index)\n",
    "false_pos_xgb_index = list(false_pos_xgb[false_pos_xgb['loan_status_binary']==True].index)\n",
    "true_neg_xgb_index = list(true_neg_xgb[true_neg_xgb['loan_status_binary']==True].index)\n",
    "false_neg_xgb_index = list(false_neg_xgb[false_neg_xgb['loan_status_binary']==True].index)\n",
    "\n",
    "# calculated mean using 'roi' column for each quadrant\n",
    "print('The ROI for the true positive quadrant is:')\n",
    "print(df_fund_pred.iloc[true_pos_xgb_index][['roi']].mean())\n",
    "print('\\n')\n",
    "print('The ROI for the false positive quadrant is:')\n",
    "print(df_fund_pred.iloc[false_pos_xgb_index][['roi']].mean())\n",
    "print('\\n')\n",
    "print('The ROI for the true negative quadrant is:')\n",
    "print(df_fund_pred.iloc[true_neg_xgb_index][['roi']].mean())\n",
    "print('\\n')\n",
    "print('The ROI for the false negative quadrant is:')\n",
    "df_fund_pred.iloc[false_neg_xgb_index][['roi']].mean()"
   ]
  },
  {
   "cell_type": "code",
   "execution_count": 27,
   "metadata": {},
   "outputs": [
    {
     "name": "stdout",
     "output_type": "stream",
     "text": [
      "Random Forest performance\n",
      "----------------------------------------------------------------------\n",
      "F1 score: 0.66\n",
      "recall score: 0.67\n",
      "precision score: 0.65\n"
     ]
    }
   ],
   "source": [
    "# F1 score \n",
    "# F1 = 2 * (precision * recall) / (precision + recall)\n",
    "\n",
    "f1_score_rf = metrics.f1_score(labels_rf, predictions_rf)\n",
    "recall_score_rf = metrics.recall_score(labels_rf, predictions_rf)\n",
    "precision_score_rf = metrics.precision_score(labels_rf, predictions_rf)\n",
    "print (\"Random Forest performance\")\n",
    "print ('-'*70)\n",
    "print('F1 score: {0:0.2f}'.format(f1_score_rf))\n",
    "print('recall score: {0:0.2f}'.format(recall_score_rf))\n",
    "print('precision score: {0:0.2f}'.format(precision_score_rf))"
   ]
  },
  {
   "cell_type": "code",
   "execution_count": 28,
   "metadata": {
    "id": "WaR5XiEVboED",
    "outputId": "87af8357-fa20-4af9-b3ae-f5e929537abb"
   },
   "outputs": [
    {
     "name": "stdout",
     "output_type": "stream",
     "text": [
      "Gradient Boost performance\n",
      "----------------------------------------------------------------------\n",
      "F1 score: 0.66\n",
      "recall score: 0.67\n",
      "precision score: 0.65\n"
     ]
    }
   ],
   "source": [
    "# F1 score \n",
    "# F1 = 2 * (precision * recall) / (precision + recall)\n",
    "\n",
    "f1_score_gb = metrics.f1_score(labels, predictions_gb)\n",
    "recall_score_gb = metrics.recall_score(labels, predictions_gb)\n",
    "precision_score_gb = metrics.precision_score(labels, predictions_gb)\n",
    "print (\"Gradient Boost performance\")\n",
    "print ('-'*70)\n",
    "print('F1 score: {0:0.2f}'.format(f1_score_gb))\n",
    "print('recall score: {0:0.2f}'.format(recall_score_gb))\n",
    "print('precision score: {0:0.2f}'.format(precision_score_gb))"
   ]
  },
  {
   "cell_type": "code",
   "execution_count": 29,
   "metadata": {
    "id": "3McVB9h6boEE",
    "outputId": "bec44c4b-8337-44ad-d7ca-84857e58deec",
    "scrolled": true
   },
   "outputs": [
    {
     "name": "stdout",
     "output_type": "stream",
     "text": [
      "XGBoost performance\n",
      "----------------------------------------------------------------------\n",
      "F1 score: 0.66\n",
      "recall score: 0.67\n",
      "precision score: 0.65\n"
     ]
    }
   ],
   "source": [
    "# F1 score \n",
    "# F1 = 2 * (precision * recall) / (precision + recall)\n",
    "\n",
    "f1_score_xgb = metrics.f1_score(labels_xgb, predictions_xgb)\n",
    "recall_score_xgb = metrics.recall_score(labels_xgb, predictions_xgb)\n",
    "precision_score_xgb = metrics.precision_score(labels_xgb, predictions_xgb)\n",
    "print (\"XGBoost performance\")\n",
    "print ('-'*70)\n",
    "print('F1 score: {0:0.2f}'.format(f1_score_xgb))\n",
    "print('recall score: {0:0.2f}'.format(recall_score_xgb))\n",
    "print('precision score: {0:0.2f}'.format(precision_score_xgb))"
   ]
  },
  {
   "cell_type": "code",
   "execution_count": 30,
   "metadata": {},
   "outputs": [
    {
     "name": "stdout",
     "output_type": "stream",
     "text": [
      "Random Forest ROC-AUC score\n",
      "----------------------------------------------------------------------\n"
     ]
    },
    {
     "data": {
      "text/plain": [
       "0.6506370876569336"
      ]
     },
     "execution_count": 30,
     "metadata": {},
     "output_type": "execute_result"
    }
   ],
   "source": [
    "# ROC-AUC score\n",
    "# https://scikit-learn.org/stable/modules/generated/sklearn.metrics.roc_auc_score.html#sklearn.metrics.roc_auc_score\n",
    "\n",
    "from sklearn.metrics import roc_auc_score\n",
    "\n",
    "# RF\n",
    "print (\"Random Forest ROC-AUC score\")\n",
    "print ('-'*70)\n",
    "roc_auc_score(labels_rf, predictions_rf)"
   ]
  },
  {
   "cell_type": "code",
   "execution_count": 31,
   "metadata": {
    "id": "yadfnGaVboEE",
    "outputId": "bb9ba78e-9141-45c4-d59e-d441e783e72b"
   },
   "outputs": [
    {
     "name": "stdout",
     "output_type": "stream",
     "text": [
      "Gradient boost ROC-AUC score\n",
      "----------------------------------------------------------------------\n"
     ]
    },
    {
     "data": {
      "text/plain": [
       "0.652847132123526"
      ]
     },
     "execution_count": 31,
     "metadata": {},
     "output_type": "execute_result"
    }
   ],
   "source": [
    "# GB\n",
    "print (\"Gradient boost ROC-AUC score\")\n",
    "print ('-'*70)\n",
    "roc_auc_score(labels, predictions_gb)"
   ]
  },
  {
   "cell_type": "code",
   "execution_count": 32,
   "metadata": {
    "id": "Lh6WI0SLboEE",
    "outputId": "f2487709-b25c-4eb1-b8a0-abe95cddfe7b"
   },
   "outputs": [
    {
     "name": "stdout",
     "output_type": "stream",
     "text": [
      "XGBoost ROC-AUC score\n",
      "----------------------------------------------------------------------\n"
     ]
    },
    {
     "data": {
      "text/plain": [
       "0.6532772338616712"
      ]
     },
     "execution_count": 32,
     "metadata": {},
     "output_type": "execute_result"
    }
   ],
   "source": [
    "# XGB\n",
    "print (\"XGBoost ROC-AUC score\")\n",
    "print ('-'*70)\n",
    "roc_auc_score(labels_xgb, predictions_xgb)"
   ]
  },
  {
   "cell_type": "code",
   "execution_count": 33,
   "metadata": {
    "id": "fxHgGoaBboEF",
    "outputId": "7bb2e335-e6ad-46f9-bb64-aaf9861e131c",
    "scrolled": false
   },
   "outputs": [
    {
     "data": {
      "text/plain": [
       "<sklearn.metrics._plot.roc_curve.RocCurveDisplay at 0x15e81e187c0>"
      ]
     },
     "execution_count": 33,
     "metadata": {},
     "output_type": "execute_result"
    },
    {
     "data": {
      "image/png": "[encoded data removed]",
      "text/plain": [
       "<Figure size 432x288 with 1 Axes>"
      ]
     },
     "metadata": {
      "needs_background": "light"
     },
     "output_type": "display_data"
    },
    {
     "data": {
      "image/png": "[encoded data removed]",
      "text/plain": [
       "<Figure size 432x288 with 1 Axes>"
      ]
     },
     "metadata": {
      "needs_background": "light"
     },
     "output_type": "display_data"
    },
    {
     "data": {
      "image/png": "[encoded data removed]",
      "text/plain": [
       "<Figure size 432x288 with 1 Axes>"
      ]
     },
     "metadata": {
      "needs_background": "light"
     },
     "output_type": "display_data"
    }
   ],
   "source": [
    "# Receiver operating characteristic (ROC) curve\n",
    "# https://scikit-learn.org/stable/modules/generated/sklearn.metrics.plot_roc_curve.html#sklearn.metrics.plot_roc_curve\n",
    "\n",
    "from sklearn import metrics\n",
    "metrics.plot_roc_curve(optimum_rf, X_test, y_test) \n",
    "metrics.plot_roc_curve(optimum_gradientBoost, X_test, y_test) \n",
    "metrics.plot_roc_curve(optimum_xgb, X_test, y_test)"
   ]
  },
  {
   "cell_type": "code",
   "execution_count": 34,
   "metadata": {},
   "outputs": [
    {
     "data": {
      "text/html": [
       "<div>\n",
       "<style scoped>\n",
       "    .dataframe tbody tr th:only-of-type {\n",
       "        vertical-align: middle;\n",
       "    }\n",
       "\n",
       "    .dataframe tbody tr th {\n",
       "        vertical-align: top;\n",
       "    }\n",
       "\n",
       "    .dataframe thead th {\n",
       "        text-align: right;\n",
       "    }\n",
       "</style>\n",
       "<table border=\"1\" class=\"dataframe\">\n",
       "  <thead>\n",
       "    <tr style=\"text-align: right;\">\n",
       "      <th></th>\n",
       "      <th>label</th>\n",
       "    </tr>\n",
       "  </thead>\n",
       "  <tbody>\n",
       "    <tr>\n",
       "      <th>0</th>\n",
       "      <td>0</td>\n",
       "    </tr>\n",
       "    <tr>\n",
       "      <th>1</th>\n",
       "      <td>0</td>\n",
       "    </tr>\n",
       "    <tr>\n",
       "      <th>2</th>\n",
       "      <td>1</td>\n",
       "    </tr>\n",
       "    <tr>\n",
       "      <th>3</th>\n",
       "      <td>1</td>\n",
       "    </tr>\n",
       "    <tr>\n",
       "      <th>4</th>\n",
       "      <td>0</td>\n",
       "    </tr>\n",
       "    <tr>\n",
       "      <th>...</th>\n",
       "      <td>...</td>\n",
       "    </tr>\n",
       "    <tr>\n",
       "      <th>674044</th>\n",
       "      <td>1</td>\n",
       "    </tr>\n",
       "    <tr>\n",
       "      <th>674045</th>\n",
       "      <td>0</td>\n",
       "    </tr>\n",
       "    <tr>\n",
       "      <th>674046</th>\n",
       "      <td>1</td>\n",
       "    </tr>\n",
       "    <tr>\n",
       "      <th>674047</th>\n",
       "      <td>1</td>\n",
       "    </tr>\n",
       "    <tr>\n",
       "      <th>674048</th>\n",
       "      <td>1</td>\n",
       "    </tr>\n",
       "  </tbody>\n",
       "</table>\n",
       "<p>674049 rows × 1 columns</p>\n",
       "</div>"
      ],
      "text/plain": [
       "        label\n",
       "0           0\n",
       "1           0\n",
       "2           1\n",
       "3           1\n",
       "4           0\n",
       "...       ...\n",
       "674044      1\n",
       "674045      0\n",
       "674046      1\n",
       "674047      1\n",
       "674048      1\n",
       "\n",
       "[674049 rows x 1 columns]"
      ]
     },
     "execution_count": 34,
     "metadata": {},
     "output_type": "execute_result"
    }
   ],
   "source": [
    "predictions_rf_pred = optimum_rf.predict(df_pred)\n",
    "prediction_df_rf = pd.DataFrame(predictions_rf_pred, columns=['label'])\n",
    "prediction_df_rf"
   ]
  },
  {
   "cell_type": "code",
   "execution_count": 35,
   "metadata": {
    "id": "Xmz05ddYboEF",
    "outputId": "b9ddebfa-a69e-408d-b462-2449b9a91df0"
   },
   "outputs": [
    {
     "data": {
      "text/html": [
       "<div>\n",
       "<style scoped>\n",
       "    .dataframe tbody tr th:only-of-type {\n",
       "        vertical-align: middle;\n",
       "    }\n",
       "\n",
       "    .dataframe tbody tr th {\n",
       "        vertical-align: top;\n",
       "    }\n",
       "\n",
       "    .dataframe thead th {\n",
       "        text-align: right;\n",
       "    }\n",
       "</style>\n",
       "<table border=\"1\" class=\"dataframe\">\n",
       "  <thead>\n",
       "    <tr style=\"text-align: right;\">\n",
       "      <th></th>\n",
       "      <th>label</th>\n",
       "    </tr>\n",
       "  </thead>\n",
       "  <tbody>\n",
       "    <tr>\n",
       "      <th>0</th>\n",
       "      <td>0</td>\n",
       "    </tr>\n",
       "    <tr>\n",
       "      <th>1</th>\n",
       "      <td>0</td>\n",
       "    </tr>\n",
       "    <tr>\n",
       "      <th>2</th>\n",
       "      <td>1</td>\n",
       "    </tr>\n",
       "    <tr>\n",
       "      <th>3</th>\n",
       "      <td>1</td>\n",
       "    </tr>\n",
       "    <tr>\n",
       "      <th>4</th>\n",
       "      <td>0</td>\n",
       "    </tr>\n",
       "    <tr>\n",
       "      <th>...</th>\n",
       "      <td>...</td>\n",
       "    </tr>\n",
       "    <tr>\n",
       "      <th>674044</th>\n",
       "      <td>1</td>\n",
       "    </tr>\n",
       "    <tr>\n",
       "      <th>674045</th>\n",
       "      <td>0</td>\n",
       "    </tr>\n",
       "    <tr>\n",
       "      <th>674046</th>\n",
       "      <td>0</td>\n",
       "    </tr>\n",
       "    <tr>\n",
       "      <th>674047</th>\n",
       "      <td>1</td>\n",
       "    </tr>\n",
       "    <tr>\n",
       "      <th>674048</th>\n",
       "      <td>1</td>\n",
       "    </tr>\n",
       "  </tbody>\n",
       "</table>\n",
       "<p>674049 rows × 1 columns</p>\n",
       "</div>"
      ],
      "text/plain": [
       "        label\n",
       "0           0\n",
       "1           0\n",
       "2           1\n",
       "3           1\n",
       "4           0\n",
       "...       ...\n",
       "674044      1\n",
       "674045      0\n",
       "674046      0\n",
       "674047      1\n",
       "674048      1\n",
       "\n",
       "[674049 rows x 1 columns]"
      ]
     },
     "execution_count": 35,
     "metadata": {},
     "output_type": "execute_result"
    }
   ],
   "source": [
    "predictions_gb_pred = optimum_gradientBoost.predict(df_pred)\n",
    "prediction_df = pd.DataFrame(predictions_gb_pred, columns=['label'])\n",
    "prediction_df"
   ]
  },
  {
   "cell_type": "code",
   "execution_count": 36,
   "metadata": {
    "id": "kKYn86ILboEF",
    "outputId": "2d7fb71b-a9e3-448f-a4e6-ba6eab2c5cb3",
    "scrolled": false
   },
   "outputs": [
    {
     "data": {
      "text/html": [
       "<div>\n",
       "<style scoped>\n",
       "    .dataframe tbody tr th:only-of-type {\n",
       "        vertical-align: middle;\n",
       "    }\n",
       "\n",
       "    .dataframe tbody tr th {\n",
       "        vertical-align: top;\n",
       "    }\n",
       "\n",
       "    .dataframe thead th {\n",
       "        text-align: right;\n",
       "    }\n",
       "</style>\n",
       "<table border=\"1\" class=\"dataframe\">\n",
       "  <thead>\n",
       "    <tr style=\"text-align: right;\">\n",
       "      <th></th>\n",
       "      <th>label</th>\n",
       "    </tr>\n",
       "  </thead>\n",
       "  <tbody>\n",
       "    <tr>\n",
       "      <th>0</th>\n",
       "      <td>0</td>\n",
       "    </tr>\n",
       "    <tr>\n",
       "      <th>1</th>\n",
       "      <td>0</td>\n",
       "    </tr>\n",
       "    <tr>\n",
       "      <th>2</th>\n",
       "      <td>1</td>\n",
       "    </tr>\n",
       "    <tr>\n",
       "      <th>3</th>\n",
       "      <td>1</td>\n",
       "    </tr>\n",
       "    <tr>\n",
       "      <th>4</th>\n",
       "      <td>0</td>\n",
       "    </tr>\n",
       "    <tr>\n",
       "      <th>...</th>\n",
       "      <td>...</td>\n",
       "    </tr>\n",
       "    <tr>\n",
       "      <th>674044</th>\n",
       "      <td>1</td>\n",
       "    </tr>\n",
       "    <tr>\n",
       "      <th>674045</th>\n",
       "      <td>0</td>\n",
       "    </tr>\n",
       "    <tr>\n",
       "      <th>674046</th>\n",
       "      <td>1</td>\n",
       "    </tr>\n",
       "    <tr>\n",
       "      <th>674047</th>\n",
       "      <td>1</td>\n",
       "    </tr>\n",
       "    <tr>\n",
       "      <th>674048</th>\n",
       "      <td>1</td>\n",
       "    </tr>\n",
       "  </tbody>\n",
       "</table>\n",
       "<p>674049 rows × 1 columns</p>\n",
       "</div>"
      ],
      "text/plain": [
       "        label\n",
       "0           0\n",
       "1           0\n",
       "2           1\n",
       "3           1\n",
       "4           0\n",
       "...       ...\n",
       "674044      1\n",
       "674045      0\n",
       "674046      1\n",
       "674047      1\n",
       "674048      1\n",
       "\n",
       "[674049 rows x 1 columns]"
      ]
     },
     "execution_count": 36,
     "metadata": {},
     "output_type": "execute_result"
    }
   ],
   "source": [
    "predictions_xgb_pred = optimum_xgb.predict(df_pred)\n",
    "prediction_df_xgb = pd.DataFrame(predictions_xgb_pred, columns=['label'])\n",
    "prediction_df_xgb"
   ]
  },
  {
   "cell_type": "code",
   "execution_count": 37,
   "metadata": {},
   "outputs": [
    {
     "data": {
      "text/plain": [
       "0    398579\n",
       "1    275470\n",
       "Name: label, dtype: int64"
      ]
     },
     "execution_count": 37,
     "metadata": {},
     "output_type": "execute_result"
    }
   ],
   "source": [
    "prediction_df_rf.label.value_counts()"
   ]
  },
  {
   "cell_type": "code",
   "execution_count": 38,
   "metadata": {
    "id": "fg8kCy_lboEF",
    "outputId": "da14f64f-17d8-44e1-9141-2fdc2114d191"
   },
   "outputs": [
    {
     "data": {
      "text/plain": [
       "0    404732\n",
       "1    269317\n",
       "Name: label, dtype: int64"
      ]
     },
     "execution_count": 38,
     "metadata": {},
     "output_type": "execute_result"
    }
   ],
   "source": [
    "prediction_df.label.value_counts()"
   ]
  },
  {
   "cell_type": "code",
   "execution_count": 39,
   "metadata": {
    "id": "Bchgf6a4boEF",
    "outputId": "57f64f1a-29b6-4559-c8eb-4446f952d2be"
   },
   "outputs": [
    {
     "data": {
      "text/plain": [
       "0    403430\n",
       "1    270619\n",
       "Name: label, dtype: int64"
      ]
     },
     "execution_count": 39,
     "metadata": {},
     "output_type": "execute_result"
    }
   ],
   "source": [
    "prediction_df_xgb.label.value_counts()"
   ]
  },
  {
   "cell_type": "code",
   "execution_count": 40,
   "metadata": {
    "id": "fJl01N_TboEF"
   },
   "outputs": [],
   "source": [
    "paid_off_index = list(prediction_df.loc[ prediction_df.label== 0,:].index)\n",
    "paid_off_index_xgb = list(prediction_df_xgb.loc[ prediction_df_xgb.label== 0,:].index)\n",
    "paid_off_index_rf = list(prediction_df_rf.loc[ prediction_df_rf.label== 0,:].index)\n",
    "all_index = list(df_pred.index)"
   ]
  },
  {
   "cell_type": "code",
   "execution_count": 41,
   "metadata": {},
   "outputs": [
    {
     "name": "stdout",
     "output_type": "stream",
     "text": [
      "--------------------------------------------------\n",
      "average of ROI using xgb model in percentage :\n",
      "6.462554832201047\n"
     ]
    }
   ],
   "source": [
    "#RF\n",
    "# Average ROI analysis using our model\n",
    "\n",
    "random.seed(0)\n",
    "\n",
    "n_loans = 5       # number of loans to invest by an average investor\n",
    "n_iter = 10000      # number of of investors to average over-1\n",
    "ROI_rf = []\n",
    "for i in range(n_iter):\n",
    "    random_list = random.sample(paid_off_index_rf, n_loans)\n",
    "    for j in random_list:\n",
    "        funded = np.sum(df_fund_pred.iloc[j,0])\n",
    "        paid = np.sum(df_fund_pred.iloc[j,1])\n",
    "    ROI_rf.append((paid-funded)/funded)\n",
    "print('-'* 50)\n",
    "print('average of ROI using xgb model in percentage :')\n",
    "print(statistics.mean(ROI_rf)*100)"
   ]
  },
  {
   "cell_type": "code",
   "execution_count": 42,
   "metadata": {
    "id": "x_uGfS4SboEG",
    "outputId": "3597daca-7038-47f1-e0f4-19f4443cb5cf"
   },
   "outputs": [
    {
     "name": "stdout",
     "output_type": "stream",
     "text": [
      "--------------------------------------------------\n",
      "average of ROI using our model in percentage :\n",
      "6.342427937033284\n"
     ]
    }
   ],
   "source": [
    "# Average ROI analysis using our model\n",
    "\n",
    "random.seed(0)\n",
    "\n",
    "n_loans = 5       # number of loans to invest by an average investor\n",
    "n_iter = 10000      # number of of investors to average over-1\n",
    "ROI = []\n",
    "for i in range(n_iter):\n",
    "    funded = 0\n",
    "    paid = 0\n",
    "    random_list = random.sample(paid_off_index, n_loans)\n",
    "    for j in random_list:\n",
    "        funded = funded + df_fund_pred.iloc[j,0]\n",
    "        paid = paid + df_fund_pred.iloc[j,1]\n",
    "    ROI.append((paid-funded)/funded)\n",
    "print('-'* 50)\n",
    "print('average of ROI using our model in percentage :')\n",
    "print(statistics.mean(ROI)*100)"
   ]
  },
  {
   "cell_type": "code",
   "execution_count": 43,
   "metadata": {
    "id": "UCI-NozYboEG",
    "outputId": "90f8f1f4-4461-48c8-c743-b17526e1575d"
   },
   "outputs": [
    {
     "name": "stdout",
     "output_type": "stream",
     "text": [
      "--------------------------------------------------\n",
      "average of ROI using xgb model in percentage :\n",
      "6.411164888005841\n"
     ]
    }
   ],
   "source": [
    "#XGB\n",
    "# Average ROI analysis using our model\n",
    "\n",
    "random.seed(0)\n",
    "\n",
    "n_loans = 5       # number of loans to invest by an average investor\n",
    "n_iter = 10000      # number of of investors to average over-1\n",
    "ROI_xgb = []\n",
    "for i in range(n_iter):\n",
    "    funded = 0\n",
    "    paid = 0\n",
    "    random_list = random.sample(paid_off_index_xgb, n_loans)\n",
    "    for j in random_list:\n",
    "        funded = funded + df_fund_pred.iloc[j,0]\n",
    "        paid = paid + df_fund_pred.iloc[j,1]\n",
    "    ROI_xgb.append((paid-funded)/funded)\n",
    "print('-'* 50)\n",
    "print('average of ROI using xgb model in percentage :')\n",
    "print(statistics.mean(ROI_xgb)*100)"
   ]
  },
  {
   "cell_type": "code",
   "execution_count": 44,
   "metadata": {
    "id": "kdOxbOW6boEG",
    "outputId": "d67a6c8d-4a25-47ba-e2d4-6de0007c95ce",
    "scrolled": true
   },
   "outputs": [
    {
     "name": "stdout",
     "output_type": "stream",
     "text": [
      "--------------------------------------------------\n",
      "average of ROI NOT using our model in percentage :\n",
      "3.02681538622336\n"
     ]
    }
   ],
   "source": [
    "# Average ROI analysis NOT using our model\n",
    "\n",
    "random.seed(0)\n",
    "\n",
    "n_loans = 5       # number of loans to invest by an average investor\n",
    "n_iter = 10000      # number of of investors to average over-1\n",
    "ROI_n = []\n",
    "for i in range(n_iter):\n",
    "    funded = 0\n",
    "    paid = 0\n",
    "    random_list = random.sample(all_index, n_loans)\n",
    "    for j in random_list:\n",
    "        funded = funded + df_fund_pred.iloc[j,0]\n",
    "        paid = paid + df_fund_pred.iloc[j,1]\n",
    "    ROI_n.append((paid-funded)/funded)\n",
    "print('-'* 50)\n",
    "print('average of ROI NOT using our model in percentage :')\n",
    "print(statistics.mean(ROI_n)*100)"
   ]
  },
  {
   "cell_type": "code",
   "execution_count": 45,
   "metadata": {},
   "outputs": [
    {
     "name": "stdout",
     "output_type": "stream",
     "text": [
      "--------------------------------------------------\n",
      "ROI using our model in percentage :\n",
      "6.23825670011101\n"
     ]
    }
   ],
   "source": [
    "# General ROI analysis using our model\n",
    "\n",
    "funded = 0\n",
    "paid = 0\n",
    "for i in paid_off_index_rf:\n",
    "        funded = funded + df_fund_pred.iloc[i,0]\n",
    "        paid = paid + df_fund_pred.iloc[i,1]\n",
    "ROI_rf = (paid-funded)/funded\n",
    "print('-'* 50)\n",
    "print('ROI using our model in percentage :')\n",
    "print(ROI_rf*100)"
   ]
  },
  {
   "cell_type": "code",
   "execution_count": 46,
   "metadata": {
    "id": "zCMYV-vYboEG",
    "outputId": "30c1f826-49fd-443d-ec07-f9a3253ab716",
    "scrolled": true
   },
   "outputs": [
    {
     "name": "stdout",
     "output_type": "stream",
     "text": [
      "--------------------------------------------------\n",
      "ROI using our model in percentage :\n",
      "6.390916526009319\n"
     ]
    }
   ],
   "source": [
    "# General ROI analysis using our model\n",
    "\n",
    "funded = 0\n",
    "paid = 0\n",
    "for i in paid_off_index:\n",
    "        funded = funded + df_fund_pred.iloc[i,0]\n",
    "        paid = paid + df_fund_pred.iloc[i,1]\n",
    "ROI = (paid-funded)/funded\n",
    "print('-'* 50)\n",
    "print('ROI using our model in percentage :')\n",
    "print(ROI*100)"
   ]
  },
  {
   "cell_type": "code",
   "execution_count": 47,
   "metadata": {
    "id": "R83C6G9KboEH",
    "outputId": "5538cfbe-19ae-4d83-d34e-f67065e83555"
   },
   "outputs": [
    {
     "name": "stdout",
     "output_type": "stream",
     "text": [
      "--------------------------------------------------\n",
      "ROI using our model in percentage :\n",
      "6.32944314859984\n"
     ]
    }
   ],
   "source": [
    "# General ROI analysis using our model\n",
    "funded_xgb = 0\n",
    "paid_xgb = 0\n",
    "for i in paid_off_index_xgb:\n",
    "        funded_xgb = funded_xgb + df_fund_pred.iloc[i,0]\n",
    "        paid_xgb = paid_xgb + df_fund_pred.iloc[i,1]\n",
    "ROI_xgb = (paid_xgb-funded_xgb)/funded_xgb\n",
    "print('-'* 50)\n",
    "print('ROI using our model in percentage :')\n",
    "print(ROI_xgb*100)"
   ]
  },
  {
   "cell_type": "code",
   "execution_count": 48,
   "metadata": {
    "id": "YmxZ6QhxboEH",
    "outputId": "90c6cf76-e7db-4d21-a267-3d892e6ea227"
   },
   "outputs": [
    {
     "name": "stdout",
     "output_type": "stream",
     "text": [
      "--------------------------------------------------\n",
      "ROI NOT using our model in percentage :\n",
      "2.8665822504442433\n"
     ]
    }
   ],
   "source": [
    "# General ROI analysis NOT using our model\n",
    "funded = 0\n",
    "paid = 0\n",
    "for i in all_index:\n",
    "        funded = funded + df_fund_pred.iloc[i,0]\n",
    "        paid = paid + df_fund_pred.iloc[i,1]\n",
    "ROI = (paid-funded)/funded\n",
    "print('-'* 50)\n",
    "print('ROI NOT using our model in percentage :')\n",
    "print(ROI*100)"
   ]
  },
  {
   "cell_type": "code",
   "execution_count": 49,
   "metadata": {
    "id": "8TE0bulQboEH",
    "outputId": "2741da1a-5ae6-4294-f3c3-b2b7667eee8d",
    "scrolled": true
   },
   "outputs": [
    {
     "data": {
      "text/plain": [
       "<AxesSubplot:ylabel='Frequency'>"
      ]
     },
     "execution_count": 49,
     "metadata": {},
     "output_type": "execute_result"
    },
    {
     "data": {
      "image/png": "[encoded data removed]",
      "text/plain": [
       "<Figure size 432x288 with 1 Axes>"
      ]
     },
     "metadata": {
      "needs_background": "light"
     },
     "output_type": "display_data"
    }
   ],
   "source": [
    "df_fund_pred.roi.plot.hist(bins=100, alpha=0.5)"
   ]
  },
  {
   "cell_type": "code",
   "execution_count": 50,
   "metadata": {
    "id": "yMXF84RxboEH",
    "outputId": "19adafed-9885-4704-cea1-517a6899b1d1",
    "scrolled": true
   },
   "outputs": [
    {
     "name": "stdout",
     "output_type": "stream",
     "text": [
      "--------------------------------------------------\n",
      "average of ROI using our Random Forest model in percentage :\n",
      "5.806645659569226\n",
      "average of ROI using our Gradient Boosting model in percentage :\n",
      "6.09153407953905\n",
      "average of ROI using our XGBoost model in percentage :\n",
      "6.01198796264352\n",
      "average of ROI NOT using our model in percentage :\n",
      "4.884699299831055\n"
     ]
    }
   ],
   "source": [
    "# Average ROI analysis  for $10,000 investment\n",
    "\n",
    "random.seed(0)\n",
    "\n",
    "n_loans = 2       # number of loans to invest by an average investor\n",
    "n_iter = 10000      # number of of investors to average over-1\n",
    "investment = 10000 # investment value in dollars\n",
    "\n",
    "ROI_rf = []\n",
    "i=0\n",
    "while i <= n_iter:\n",
    "    random_list = random.sample(paid_off_index_rf, n_loans)\n",
    "    for j in random_list:\n",
    "        funded_rf = np.sum(df_fund_pred.iloc[j,0])\n",
    "        paid_rf = np.sum(df_fund_pred.iloc[j,1])\n",
    "    if funded_rf <= investment:\n",
    "        ROI_rf.append((paid_rf-funded_rf)/funded_rf)\n",
    "        i = i+1\n",
    "\n",
    "ROI = []\n",
    "i=0\n",
    "while i <= n_iter:\n",
    "    funded = 0\n",
    "    paid = 0\n",
    "    random_list = random.sample(paid_off_index, n_loans)\n",
    "    for j in random_list:\n",
    "        funded = funded + df_fund_pred.iloc[j,0]\n",
    "        paid = paid + df_fund_pred.iloc[j,1]\n",
    "    if funded <= investment:\n",
    "        ROI.append((paid-funded)/funded)\n",
    "        i = i+1\n",
    "        \n",
    "ROI_xgb = []\n",
    "i=0\n",
    "while i <= n_iter:\n",
    "    funded_xgb = 0\n",
    "    paid_xgb = 0\n",
    "    random_list = random.sample(paid_off_index_xgb, n_loans)\n",
    "    for j in random_list:\n",
    "        funded_xgb = funded_xgb + df_fund_pred.iloc[j,0]\n",
    "        paid_xgb = paid_xgb + df_fund_pred.iloc[j,1]\n",
    "    if funded_xgb <= investment:\n",
    "        ROI_xgb.append((paid_xgb-funded_xgb)/funded_xgb)\n",
    "        i = i+1\n",
    "\n",
    "ROI_n = []\n",
    "i=0\n",
    "while i <= n_iter:\n",
    "    funded = 0\n",
    "    paid = 0\n",
    "    random_list = random.sample(all_index, n_loans)\n",
    "    for j in random_list:\n",
    "        funded = funded + df_fund_pred.iloc[j,0]\n",
    "        paid = paid + df_fund_pred.iloc[j,1]\n",
    "    if funded <= investment:\n",
    "        ROI_n.append((paid-funded)/funded)\n",
    "        i = i+1\n",
    "        \n",
    "        \n",
    "        \n",
    "print('-'* 50)\n",
    "print('average of ROI using our Random Forest model in percentage :')\n",
    "print(statistics.mean(ROI_rf)*100)\n",
    "print('average of ROI using our Gradient Boosting model in percentage :')\n",
    "print(statistics.mean(ROI)*100)\n",
    "print('average of ROI using our XGBoost model in percentage :')\n",
    "print(statistics.mean(ROI_xgb)*100)\n",
    "print('average of ROI NOT using our model in percentage :')\n",
    "print(statistics.mean(ROI_n)*100)"
   ]
  },
  {
   "cell_type": "code",
   "execution_count": 63,
   "metadata": {},
   "outputs": [
    {
     "name": "stdout",
     "output_type": "stream",
     "text": [
      "--------------------------------------------------\n",
      "average of ROI for $10000 investement using our Random Fores model in percentage :\n",
      "6.038095715001091\n",
      "average of ROI for $10000 investement using our Gradient Boosting model in percentage :\n",
      "6.1719851513216195\n",
      "average of ROI for $10000 investement using our XGBoost model in percentage :\n",
      "5.896073368573289\n",
      "average of ROI for $10000 investement NOT using our model in percentage :\n",
      "4.585480573203911\n",
      "--------------------------------------------------\n",
      "average of ROI for $20000 investement using our Random Fores model in percentage :\n",
      "6.037101869291004\n",
      "average of ROI for $20000 investement using our Gradient Boosting model in percentage :\n",
      "6.3421947052483025\n",
      "average of ROI for $20000 investement using our XGBoost model in percentage :\n",
      "6.1098776293592465\n",
      "average of ROI for $20000 investement NOT using our model in percentage :\n",
      "3.9068315055211196\n",
      "--------------------------------------------------\n",
      "average of ROI for $30000 investement using our Random Fores model in percentage :\n",
      "6.058832138727648\n",
      "average of ROI for $30000 investement using our Gradient Boosting model in percentage :\n",
      "6.154901089303661\n",
      "average of ROI for $30000 investement using our XGBoost model in percentage :\n",
      "6.29055702446714\n",
      "average of ROI for $30000 investement NOT using our model in percentage :\n",
      "3.440707717732587\n",
      "--------------------------------------------------\n",
      "average of ROI for $40000 investement using our Random Fores model in percentage :\n",
      "6.07530827961939\n",
      "average of ROI for $40000 investement using our Gradient Boosting model in percentage :\n",
      "6.359605155893505\n",
      "average of ROI for $40000 investement using our XGBoost model in percentage :\n",
      "6.251201201988304\n",
      "average of ROI for $40000 investement NOT using our model in percentage :\n",
      "3.111924790151289\n",
      "--------------------------------------------------\n",
      "average of ROI for $50000 investement using our Random Fores model in percentage :\n",
      "6.075678604563431\n",
      "average of ROI for $50000 investement using our Gradient Boosting model in percentage :\n",
      "6.591059457552073\n",
      "average of ROI for $50000 investement using our XGBoost model in percentage :\n",
      "6.280498032514571\n",
      "average of ROI for $50000 investement NOT using our model in percentage :\n",
      "2.8851942701798277\n"
     ]
    },
    {
     "data": {
      "text/html": [
       "<div>\n",
       "<style scoped>\n",
       "    .dataframe tbody tr th:only-of-type {\n",
       "        vertical-align: middle;\n",
       "    }\n",
       "\n",
       "    .dataframe tbody tr th {\n",
       "        vertical-align: top;\n",
       "    }\n",
       "\n",
       "    .dataframe thead th {\n",
       "        text-align: right;\n",
       "    }\n",
       "</style>\n",
       "<table border=\"1\" class=\"dataframe\">\n",
       "  <thead>\n",
       "    <tr style=\"text-align: right;\">\n",
       "      <th></th>\n",
       "      <th>Naive Sampling</th>\n",
       "      <th>Random Forest Model</th>\n",
       "      <th>Gradient Boosting Model</th>\n",
       "      <th>XGBoosting Model</th>\n",
       "    </tr>\n",
       "  </thead>\n",
       "  <tbody>\n",
       "    <tr>\n",
       "      <th>0</th>\n",
       "      <td>0.045855</td>\n",
       "      <td>0.060381</td>\n",
       "      <td>0.061720</td>\n",
       "      <td>0.058961</td>\n",
       "    </tr>\n",
       "    <tr>\n",
       "      <th>1</th>\n",
       "      <td>0.039068</td>\n",
       "      <td>0.060371</td>\n",
       "      <td>0.063422</td>\n",
       "      <td>0.061099</td>\n",
       "    </tr>\n",
       "    <tr>\n",
       "      <th>2</th>\n",
       "      <td>0.034407</td>\n",
       "      <td>0.060588</td>\n",
       "      <td>0.061549</td>\n",
       "      <td>0.062906</td>\n",
       "    </tr>\n",
       "    <tr>\n",
       "      <th>3</th>\n",
       "      <td>0.031119</td>\n",
       "      <td>0.060753</td>\n",
       "      <td>0.063596</td>\n",
       "      <td>0.062512</td>\n",
       "    </tr>\n",
       "    <tr>\n",
       "      <th>4</th>\n",
       "      <td>0.028852</td>\n",
       "      <td>0.060757</td>\n",
       "      <td>0.065911</td>\n",
       "      <td>0.062805</td>\n",
       "    </tr>\n",
       "  </tbody>\n",
       "</table>\n",
       "</div>"
      ],
      "text/plain": [
       "   Naive Sampling  Random Forest Model  Gradient Boosting Model  \\\n",
       "0        0.045855             0.060381                 0.061720   \n",
       "1        0.039068             0.060371                 0.063422   \n",
       "2        0.034407             0.060588                 0.061549   \n",
       "3        0.031119             0.060753                 0.063596   \n",
       "4        0.028852             0.060757                 0.065911   \n",
       "\n",
       "   XGBoosting Model  \n",
       "0          0.058961  \n",
       "1          0.061099  \n",
       "2          0.062906  \n",
       "3          0.062512  \n",
       "4          0.062805  "
      ]
     },
     "execution_count": 63,
     "metadata": {},
     "output_type": "execute_result"
    }
   ],
   "source": [
    "# Average ROI analysis  for different investment ranges \n",
    "\n",
    "random.seed(0)\n",
    "\n",
    "result = []\n",
    "\n",
    "for n in [10000, 20000,30000, 40000, 50000]:\n",
    "    n_loans = 4       # number of loans to invest by an average investor\n",
    "    n_iter = 10000      # number of of investors to average over-1\n",
    "    investment_low = n\n",
    "    investment_high = n+10000  # investment value in dollars\n",
    "    \n",
    "    ROI = []\n",
    "    i=0\n",
    "    while i <= n_iter:\n",
    "        funded = 0\n",
    "        paid = 0\n",
    "        random_list = random.sample(paid_off_index_rf, n_loans)\n",
    "        for j in random_list:\n",
    "            funded = funded + df_fund_pred.iloc[j,0]\n",
    "            paid = paid + df_fund_pred.iloc[j,1]\n",
    "        if funded <= investment_high and funded >= investment_low:\n",
    "            ROI_rf.append((paid-funded)/funded)\n",
    "            i = i+1\n",
    "    \n",
    "    ROI = []\n",
    "    i=0\n",
    "    while i <= n_iter:\n",
    "        funded = 0\n",
    "        paid = 0\n",
    "        random_list = random.sample(paid_off_index, n_loans)\n",
    "        for j in random_list:\n",
    "            funded = funded + df_fund_pred.iloc[j,0]\n",
    "            paid = paid + df_fund_pred.iloc[j,1]\n",
    "        if funded <= investment_high and funded >= investment_low:\n",
    "            ROI.append((paid-funded)/funded)\n",
    "            i = i+1\n",
    "    \n",
    "    ROI_xgb = []\n",
    "    i=0\n",
    "    while i <= n_iter:\n",
    "        funded = 0\n",
    "        paid = 0\n",
    "        random_list = random.sample(paid_off_index_xgb, n_loans)\n",
    "        for j in random_list:\n",
    "            funded = funded + df_fund_pred.iloc[j,0]\n",
    "            paid = paid + df_fund_pred.iloc[j,1]\n",
    "        if funded <= investment_high and funded >= investment_low:\n",
    "            ROI_xgb.append((paid-funded)/funded)\n",
    "            i = i+1\n",
    "\n",
    "            \n",
    "    ROI_n = []\n",
    "    i=0\n",
    "    while i <= n_iter:\n",
    "        funded = 0\n",
    "        paid = 0\n",
    "        random_list = random.sample(all_index, n_loans)\n",
    "        for j in random_list:\n",
    "            funded = funded + df_fund_pred.iloc[j,0]\n",
    "            paid = paid + df_fund_pred.iloc[j,1]\n",
    "        if funded <= investment_high and funded >= investment_low:\n",
    "            ROI_n.append((paid-funded)/funded)\n",
    "            i = i+1\n",
    "    print('-'* 50)\n",
    "    print('average of ROI for $%d investement using our Random Fores model in percentage :'%n) \n",
    "    print(statistics.mean(ROI_rf)*100)\n",
    "    print('average of ROI for $%d investement using our Gradient Boosting model in percentage :'%n) \n",
    "    print(statistics.mean(ROI)*100)\n",
    "    print('average of ROI for $%d investement using our XGBoost model in percentage :'%n) \n",
    "    print(statistics.mean(ROI_xgb)*100)\n",
    "    print('average of ROI for $%d investement NOT using our model in percentage :'%n )\n",
    "    print(statistics.mean(ROI_n)*100)\n",
    "    \n",
    "    temp = (statistics.mean(ROI_n),statistics.mean(ROI_rf),\n",
    "            statistics.mean(ROI),statistics.mean(ROI_xgb))\n",
    "    result.append(temp)\n",
    "    \n",
    "result = pd.DataFrame(result,columns=['Naive Sampling','Random Forest Model',\n",
    "                                      'Gradient Boosting Model','XGBoosting Model'])\n",
    "result"
   ]
  },
  {
   "cell_type": "code",
   "execution_count": 68,
   "metadata": {
    "id": "2x_Hb5gVk21C"
   },
   "outputs": [
    {
     "data": {
      "text/plain": [
       "<AxesSubplot:>"
      ]
     },
     "execution_count": 68,
     "metadata": {},
     "output_type": "execute_result"
    },
    {
     "data": {
      "image/png": "[encoded data removed]",
      "text/plain": [
       "<Figure size 1440x1080 with 1 Axes>"
      ]
     },
     "metadata": {
      "needs_background": "light"
     },
     "output_type": "display_data"
    }
   ],
   "source": [
    "# graphing the results\n",
    "# result = result.set_index('Investment')\n",
    "result.plot(kind='bar', figsize=(20,15))"
   ]
  },
  {
   "cell_type": "code",
   "execution_count": null,
   "metadata": {
    "id": "KtqGOQBeboEK"
   },
   "outputs": [],
   "source": []
  },
  {
   "cell_type": "code",
   "execution_count": null,
   "metadata": {
    "id": "jREBcYdSboEK"
   },
   "outputs": [],
   "source": []
  },
  {
   "cell_type": "code",
   "execution_count": null,
   "metadata": {
    "id": "QBM9SNS2boEK"
   },
   "outputs": [],
   "source": []
  },
  {
   "cell_type": "code",
   "execution_count": null,
   "metadata": {
    "id": "Acz1QAs2kzrr"
   },
   "outputs": [],
   "source": []
  }
 ],
 "metadata": {
  "colab": {
   "collapsed_sections": [
    "4Fk_bxI0boEI"
   ],
   "name": "5_ML_Analysis.ipynb",
   "provenance": []
  },
  "kernelspec": {
   "display_name": "Python 3",
   "language": "python",
   "name": "python3"
  },
  "language_info": {
   "codemirror_mode": {
    "name": "ipython",
    "version": 3
   },
   "file_extension": ".py",
   "mimetype": "text/x-python",
   "name": "python",
   "nbconvert_exporter": "python",
   "pygments_lexer": "ipython3",
   "version": "3.8.5"
  }
 },
 "nbformat": 4,
 "nbformat_minor": 1
}
